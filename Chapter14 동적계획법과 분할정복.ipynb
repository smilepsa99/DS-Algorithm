{
 "cells": [
  {
   "cell_type": "markdown",
   "metadata": {},
   "source": [
    "## 동적 계획법 (Dynamic Programming)과 분할 정복 (Divide and Conquer)"
   ]
  },
  {
   "cell_type": "markdown",
   "metadata": {},
   "source": [
    "### 1. 정의\n",
    "- <span style=\"background-color:#fff5b1\">동적계획법</span> (DP 라고 많이 부름)\n",
    "  - 입력 크기가 <font color = \"blue\">작은 부분 문제들을 해결한 후</font>, 해당 부분 문제의 해를 활용해서, <font color = \"blue\">보다 큰 크기의 부분 문제를 해결, 최종적으로 전체 문제를 해결</font>하는 알고리즘\n",
    "  - <font color = \"blue\">상향식 접근법</font>으로, 가장 최하위 해답을 구한 후, 이를 저장하고, 해당 결과값을 이용해서 상위 문제를 풀어가는 방식 \n",
    "  - <font color = \"blue\">Memoization 기법</font>을 사용함\n",
    "    - Memoization (메모이제이션) 이란: 프로그램 실행 시 <font color = \"blue\">이전에 계산한 값을 저장</font>하여, 다시 계산하지 않도록 하여 전체 실행 속도를 빠르게 하는 기술\n",
    "  - 문제를 잘게 쪼갤 때, 부분 문제는 중복되어, 재활용됨\n",
    "    - 예: 피보나치 수열\n",
    "- <span style=\"background-color:#fff5b1\">분할 정복</span>\n",
    "  - 문제를 나눌 수 없을 때까지 나누어서 각각을 풀면서 다시 합병하여 문제의 답을 얻는 알고리즘\n",
    "  - <font color = \"blue\">하향식 접근법</font>으로, 상위의 해답을 구하기 위해, 아래로 내려가면서 하위의 해답을 구하는 방식\n",
    "    - 일반적으로 <font color = \"blue\">재귀함수</font>로 구현\n",
    "  - 문제를 잘게 쪼갤 때, 부분 문제는 서로 중복되지 않음\n",
    "    - 예: 병합 정렬, 퀵 정렬 등"
   ]
  },
  {
   "cell_type": "markdown",
   "metadata": {},
   "source": [
    "### 2. 공통점과 차이점\n",
    "- <span style=\"background-color:#fff5b1\">공통점</span>\n",
    "  - 문제를 잘게 쪼개서, <font color = \"blue\">가장 작은 단위로 분할</font>\n",
    "- <span style=\"background-color:#fff5b1\">차이점</span>\n",
    "  - 동적 계획법\n",
    "    - <font color = \"blue\">부분 문제는 중복되어, 상위 문제 해결 시 재활용</font>됨\n",
    "    - <font color = \"blue\">Memoization 기법</font> 사용 (부분 문제의 해답을 저장해서 재활용하는 최적화 기법으로 사용)\n",
    "  - 분할 정복\n",
    "    - <font color = \"blue\">부분 문제는 서로 중복되지 않음</font>\n",
    "    - Memoization 기법 사용 안함"
   ]
  },
  {
   "cell_type": "markdown",
   "metadata": {},
   "source": [
    "### 3. 동적 계획법 알고리즘 이해"
   ]
  },
  {
   "cell_type": "markdown",
   "metadata": {},
   "source": [
    "<div class=\"alert alert-block alert-warning\">\n",
    "<strong><font color=\"blue\" size=\"4em\">프로그래밍 연습</font></strong><br>\n",
    "피보나치 수열: n 을 입력받아서 다음과 같이 계산됨<br>\n",
    "n 을 입력받았을 때 피보나치 수열로 결과값을 출력하세요<br>\n",
    "</div>\n",
    "<img src=\"https://www.fun-coding.org/00_Images/Fibonacci.png\" />\n",
    "<pre>\n",
    "함수를 fibonacci 라고 하면,\n",
    "fibonacci(0):0\n",
    "fibonacci(1):1\n",
    "fibonacci(2):1\n",
    "fibonacci(3):2\n",
    "fibonacci(4):3\n",
    "fibonacci(5):5\n",
    "fibonacci(6):8\n",
    "fibonacci(7):13\n",
    "fibonacci(8):21\n",
    "fibonacci(9):34\n",
    "</pre>"
   ]
  },
  {
   "cell_type": "markdown",
   "metadata": {
    "collapsed": true
   },
   "source": [
    "<img src=\"https://www.fun-coding.org/00_Images/dp.png\" />"
   ]
  },
  {
   "cell_type": "markdown",
   "metadata": {},
   "source": [
    "### recursive call 활용\n",
    "#### : 이전에 실행된 값을 저장하지 않기 때문에, 중복된 부분문제도 매번 계산해야 함"
   ]
  },
  {
   "cell_type": "code",
   "execution_count": 4,
   "metadata": {},
   "outputs": [
    {
     "data": {
      "text/plain": [
       "3"
      ]
     },
     "execution_count": 4,
     "metadata": {},
     "output_type": "execute_result"
    }
   ],
   "source": [
    "# 내 코드\n",
    "\n",
    "def fibo(num):\n",
    "    if num <= 1:\n",
    "        return num\n",
    "    return fibo(num-1) + fibo(num-2)\n",
    "\n",
    "fibo(4)"
   ]
  },
  {
   "cell_type": "code",
   "execution_count": 7,
   "metadata": {},
   "outputs": [],
   "source": [
    "# 쌤 코드\n",
    "\n",
    "def fibo(num):\n",
    "    if num <= 1:\n",
    "        return num\n",
    "    return fibo(num - 1) + fibo(num - 2)"
   ]
  },
  {
   "cell_type": "code",
   "execution_count": 8,
   "metadata": {},
   "outputs": [
    {
     "data": {
      "text/plain": [
       "3"
      ]
     },
     "execution_count": 8,
     "metadata": {},
     "output_type": "execute_result"
    }
   ],
   "source": [
    "fibo(4)"
   ]
  },
  {
   "cell_type": "markdown",
   "metadata": {},
   "source": [
    "### 동적 계획법 활용\n",
    "#### : 이전에 실행된 값을 저장하기 때문에(Memoization), 중복된 부분문제를 매번 계산할 필요 없음"
   ]
  },
  {
   "cell_type": "code",
   "execution_count": null,
   "metadata": {},
   "outputs": [],
   "source": [
    "# cache(캐시) : 자주 사용하는 데이터나 값을 미리 복사해 놓는 임시 장소"
   ]
  },
  {
   "cell_type": "code",
   "execution_count": 10,
   "metadata": {},
   "outputs": [],
   "source": [
    "def fibo_dp(num):\n",
    "    cache = [ 0 for index in range(num + 1)] # 입력값을 인덱스번호화해서 매칭시키기 위해, num + 1 개의 캐시를 만듬\n",
    "    cache[0] = 0                              # ex) fibo_dp(2) 를 cache[2] 에 저장 (num = 2 = index)\n",
    "    cache[1] = 1\n",
    "    \n",
    "    for index in range(2, num + 1):\n",
    "        cache[index] = cache[index - 1] + cache[index - 2]\n",
    "    return cache[num]"
   ]
  },
  {
   "cell_type": "code",
   "execution_count": 12,
   "metadata": {
    "scrolled": true
   },
   "outputs": [
    {
     "data": {
      "text/plain": [
       "55"
      ]
     },
     "execution_count": 12,
     "metadata": {},
     "output_type": "execute_result"
    }
   ],
   "source": [
    "fibo(10)"
   ]
  },
  {
   "cell_type": "code",
   "execution_count": 5,
   "metadata": {},
   "outputs": [
    {
     "data": {
      "text/plain": [
       "55"
      ]
     },
     "execution_count": 5,
     "metadata": {},
     "output_type": "execute_result"
    }
   ],
   "source": [
    "# 내 코드 (복습)\n",
    "\n",
    "def fibo_dp(num):\n",
    "    cache = [0 for i in range(num + 1)] # 입력값을 인덱스번호화해서 매칭시키기 위해, num + 1개의 캐시를 만듬\n",
    "    cache[0] = 0\n",
    "    cache[1] = 1\n",
    "    \n",
    "    for index in range(2, num + 1):\n",
    "        cache[index] = cache[index - 1] + cache[index - 2]\n",
    "    return cache[num]\n",
    "\n",
    "fibo_dp(10)"
   ]
  },
  {
   "cell_type": "markdown",
   "metadata": {
    "collapsed": true
   },
   "source": [
    "#### 실행 코드를 보며 이해해보기: [코드분석](http://www.pythontutor.com/live.html#code=def%20fibo_dp%28num%29%3A%0A%20%20%20%20cache%20%3D%20%20%5B%200%20for%20index%20in%20range%28num%20%2B%201%29%20%5D%0A%20%20%20%20cache%5B0%5D%20%3D%200%0A%20%20%20%20cache%5B1%5D%20%3D%201%0A%20%20%20%20%0A%20%20%20%20for%20index%20in%20range%282,%20num%20%2B%201%29%3A%0A%20%20%20%20%20%20%20%20cache%5Bindex%5D%20%3D%20cache%5Bindex%20-%201%5D%20%2B%20cache%5Bindex%20-%202%5D%0A%20%20%20%20return%20cache%5Bnum%5D%0A%0Aprint%28fibo_dp%2810%29%29&cumulative=false&curInstr=41&heapPrimitives=nevernest&mode=display&origin=opt-live.js&py=3&rawInputLstJSON=%5B%5D&textReferences=false)"
   ]
  },
  {
   "cell_type": "markdown",
   "metadata": {
    "collapsed": true
   },
   "source": [
    "> 분할 정복 알고리즘의 예는 별도 챕터에서 다루는 병합 정렬과 퀵 정렬을 통해 이해"
   ]
  }
 ],
 "metadata": {
  "kernelspec": {
   "display_name": "Python 3 (ipykernel)",
   "language": "python",
   "name": "python3"
  },
  "language_info": {
   "codemirror_mode": {
    "name": "ipython",
    "version": 3
   },
   "file_extension": ".py",
   "mimetype": "text/x-python",
   "name": "python",
   "nbconvert_exporter": "python",
   "pygments_lexer": "ipython3",
   "version": "3.10.9"
  },
  "nbTranslate": {
   "displayLangs": [
    "*"
   ],
   "hotkey": "alt-t",
   "langInMainMenu": true,
   "sourceLang": "en",
   "targetLang": "fr",
   "useGoogleTranslate": true
  }
 },
 "nbformat": 4,
 "nbformat_minor": 1
}
