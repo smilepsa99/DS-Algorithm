{
 "cells": [
  {
   "cell_type": "markdown",
   "metadata": {
    "collapsed": true
   },
   "source": [
    "## 알고리즘 복잡도 표현 방법"
   ]
  },
  {
   "cell_type": "markdown",
   "metadata": {},
   "source": [
    "### 1. 알고리즘 복잡도 계산이 필요한 이유\n",
    "#### 하나의 문제를 푸는 알고리즘은 다양할 수 있음\n",
    "  - 정수의 절대값 구하기\n",
    "    - 1, -1 → 1\n",
    "    - 방법1: 정수값을 제곱한 값에 다시 루트를 씌우기\n",
    "    - 방법2: 정수가 음수인지 확인해서, 음수일 때만, -1을 곱하기\n",
    "\n",
    "> 다양한 알고리즘 중 <span style=\"background-color:#fff5b1\"> 어느 알고리즘이 더 좋은지를 분석하기 위해, 복잡도를 정의하고 계산함 </span>"
   ]
  },
  {
   "cell_type": "markdown",
   "metadata": {},
   "source": [
    "### 2. 알고리즘 복잡도 계산 항목\n",
    "1. <span style=\"background-color:#fff5b1\">**시간 복잡도**</span>: 알고리즘 <span style=\"background-color:#fff5b1\">실행 속도</span>\n",
    "2. **공간 복잡도**: 알고리즘이 사용하는 메모리 사이즈\n",
    "\n",
    "> 가장 중요한 시간 복잡도를 꼭 이해하고 계산할 수 있어야 함"
   ]
  },
  {
   "cell_type": "markdown",
   "metadata": {},
   "source": [
    "### 알고리즘 시간 복잡도의 주요 요소\n",
    "\n",
    "> <span style=\"background-color:#fff5b1\">**반복문**</span> 이 지배합니다."
   ]
  },
  {
   "cell_type": "markdown",
   "metadata": {},
   "source": [
    "<div class=\"alert alert-block alert-warning\">\n",
    "<strong><font color=\"blue\" size=\"3em\">생각해보기: 자동차로 서울에서 부산을 가기 위해, 다음과 같이 항목을 나누었을 때, 가장 총 시간에 영향을 많이 미칠 것 같은 요소는?</font></strong><br>\n",
    "\n",
    "* 예: \n",
    "  - 자동차로 서울에서 부산가기\n",
    "    1. 자동차 문열기\n",
    "    2. 자동차 문닫기\n",
    "    3. 자동차 운전석 등받이 조정하기\n",
    "    4. 자동차 시동걸기\n",
    "    5. 자동차로 서울에서 부산가기 ⭕\n",
    "    6. 자동차 시동끄기\n",
    "    7. 자동차 문열기\n",
    "    8. 자동차 문닫기\n",
    "</div>"
   ]
  },
  {
   "cell_type": "markdown",
   "metadata": {},
   "source": [
    "### 마찬가지로, 프로그래밍에서 시간 복잡도에 가장 영향을 많이 미치는 요소는 <span style=\"background-color:#fff5b1\">반복문</span>\n",
    "* 입력의 크기가 커지면 커질수록 반복문이 알고리즘 수행 시간을 지배함"
   ]
  },
  {
   "cell_type": "markdown",
   "metadata": {},
   "source": [
    "### 알고리즘 성능 표기법\n",
    "- <span style=\"background-color:#fff5b1\"> Big O (빅-오) 표기법: O(N) </span>  (\\*N : 복잡도(성능)을 나타내는 표현식)\n",
    "  - 알고리즘 <span style=\"background-color:#fff5b1\">최악의 실행 시간</span>을 표기\n",
    "  - **가장 많이/일반적으로 사용함**\n",
    "  - <span style=\"background-color:#fff5b1\">**아무리 최악의 상황이라도, 이정도의 성능은 보장한다는 의미</span>이기 때문**\n",
    "\n",
    "- Ω (오메가) 표기법:  Ω(N)\n",
    "  - 오메가 표기법은 알고리즘 **최상의 실행 시간**을 표기\n",
    "\n",
    "- Θ (세타) 표기법: Θ(N)\n",
    "  - 오메가 표기법은 알고리즘 **평균 실행 시간**을 표기\n",
    "\n",
    "> 시간 복잡도 계산은 반복문이 핵심 요소임을 인지하고, 계산 표기는 최상, 평균, 최악 중, 최악의 시간인 Big-O 표기법을 중심으로 익히면 됨 "
   ]
  },
  {
   "cell_type": "markdown",
   "metadata": {},
   "source": [
    "### 3. 대문자 O 표기법\n",
    "* 빅 오 표기법, Big-O 표기법 이라고도 부름\n",
    "* <span style=\"background-color:#fff5b1\">O(입력)</span>\n",
    "  - <span style=\"background-color:#fff5b1\">입력 n 에 따라 결정되는 시간 복잡도 함수</span>\n",
    "  - O(1), O($log n$), O(n), O(n$log n$), O($n^2$), O($2^n$), O(n!)등으로 표기함\n",
    "  - 입력 n 의 크기에 따라 기하급수적으로 시간 복잡도가 늘어날 수 있음\n",
    "    - <font color=\"blue\">O(1) < O($log n$) < O(n) < O(n$log n$) < O($n^2$) < O($2^n$) < O(n!)</font>\n",
    "      - 참고: log n 의 베이스는 2 (→ $log_2 n$)\n",
    "\n",
    "* 단순하게 입력 n에 따라, 몇번 실행이 되는지를 계산하면 됩니다.\n",
    "  - <span style=\"background-color:#fff5b1\"> **표현식에 가장 큰 영향을 미치는 n 의 단위로 표기</span>합니다.**\n",
    "  - n이 1이든 100이든, 1000이든, 10000이든 실행을\n",
    "    - 무조건 2회(상수회) 실행한다: <span style=\"background-color:#fff5b1\">O(1)</span>\n",
    "       ```python\n",
    "            if n > 10:\n",
    "                 print(n)  #실행 회수: 2\n",
    "       ```\n",
    "    - n에 따라, n번, n + 10 번, 또는 3n + 10 번등 실행한다: <span style=\"background-color:#fff5b1\">O(n)</span>\n",
    "       ```python\n",
    "            variable = 1\n",
    "            for num in range(3):\n",
    "                for index in range(n):\n",
    "                     print(index)     #실행 회수: 3n+1\n",
    "       ```\n",
    "    - n에 따라, $n^2$번, $n^2$ + 1000 번, 100$n^2$ - 100, 또는 300$n^2$ + 1번등 실행한다: <span style=\"background-color:#fff5b1\">O($n^2$)</span>\n",
    "       ```python\n",
    "            variable = 1\n",
    "            for i in range(300):\n",
    "                for num in range(n):\n",
    "                    for index in range(n):\n",
    "                         print(index)     #실행 회수: 300n^2+1\n",
    "       ```    \n"
   ]
  },
  {
   "cell_type": "markdown",
   "metadata": {},
   "source": [
    "<img src=\"https://velog.velcdn.com/images%2Fzxcvbnm5288%2Fpost%2F2aeb4f90-952e-416d-b5ac-2d51eb0b0e97%2Fnormalbigo.jpg\" width=400/>"
   ]
  },
  {
   "cell_type": "markdown",
   "metadata": {},
   "source": [
    "<img src=\"http://www.fun-coding.org/00_Images/bigo.png\" width=400/>"
   ]
  },
  {
   "cell_type": "markdown",
   "metadata": {},
   "source": [
    "* 빅 오 입력값 표기 방법\n",
    "  - 예: \n",
    "    - 만약 시간 복잡도 함수가 2$n^2$ + 3n 이라면\n",
    "      - 가장 높은 차수는 2$n^2$ \n",
    "      - 3n이나 상수는 실제 큰 영향이 없음 (n이 무한히 커질 수 있다고 보기 때문)\n",
    "      - 결국 빅 오 표기법으로는 O($n^2$) (서울부터 부산까지 가는 자동차의 예를 상기)\n"
   ]
  },
  {
   "cell_type": "markdown",
   "metadata": {
    "collapsed": true
   },
   "source": [
    "### 4. 실제 알고리즘을 예로 각 알고리즘의 시간 복잡도와 빅 오 표기법 알아보기"
   ]
  },
  {
   "cell_type": "markdown",
   "metadata": {},
   "source": [
    "<div class=\"alert alert-block alert-warning\">\n",
    "<strong><font color=\"blue\" size=\"3em\">연습1:  1부터 n까지의 합을 구하는 알고리즘 작성해보기</font></strong>\n",
    "</div>"
   ]
  },
  {
   "cell_type": "markdown",
   "metadata": {},
   "source": [
    "### 알고리즘1: 1부터 n까지의 합을 구하는 알고리즘1\n",
    "* 합을 기록할 변수를 만들고 0을 저장\n",
    "* n을 1부터 1씩 증가하면서 반복\n",
    "* 반복문 안에서 합을 기록할 변수에 1씩 증가된 값을 더함\n",
    "* 반복이 끝나면 합을 출력"
   ]
  },
  {
   "cell_type": "code",
   "execution_count": 1,
   "metadata": {},
   "outputs": [
    {
     "data": {
      "text/plain": [
       "5050"
      ]
     },
     "execution_count": 1,
     "metadata": {},
     "output_type": "execute_result"
    }
   ],
   "source": [
    "# 내 코드\n",
    "\n",
    "def sum_all(n):\n",
    "    total = 0\n",
    "    for num in range(1, n+1):\n",
    "        total += num\n",
    "    return total\n",
    "\n",
    "sum_all(100)"
   ]
  },
  {
   "cell_type": "code",
   "execution_count": 5,
   "metadata": {},
   "outputs": [],
   "source": [
    "def sum_all(n):\n",
    "    total = 0\n",
    "    for num in range(1, n + 1):\n",
    "        total += num\n",
    "    return total               # 실행 회수: n + 2 => O(n)"
   ]
  },
  {
   "cell_type": "code",
   "execution_count": 2,
   "metadata": {},
   "outputs": [
    {
     "data": {
      "text/plain": [
       "5050"
      ]
     },
     "execution_count": 2,
     "metadata": {},
     "output_type": "execute_result"
    }
   ],
   "source": [
    "sum_all(100)"
   ]
  },
  {
   "cell_type": "markdown",
   "metadata": {},
   "source": [
    "### 시간 복잡도 구하기\n",
    "* 1부터 n까지의 합을 구하는 알고리즘1\n",
    "  - 입력 n에 따라 덧셈을 n 번 해야 함 (반복문!)\n",
    "  - 시간 복잡도: n, 빅 오 표기법으로는 **O(n)**"
   ]
  },
  {
   "cell_type": "markdown",
   "metadata": {},
   "source": [
    "### 알고리즘2: 1부터 n까지의 합을 구하는 알고리즘2\n",
    "* <font size=5em>$\\frac { n (n + 1) }{ 2 }$</font>\n"
   ]
  },
  {
   "cell_type": "code",
   "execution_count": 4,
   "metadata": {},
   "outputs": [],
   "source": [
    "def sum_all(n):\n",
    "    return int(n * (n + 1) / 2) # 실행 회수: 1(상수) => O(1)"
   ]
  },
  {
   "cell_type": "code",
   "execution_count": 6,
   "metadata": {},
   "outputs": [
    {
     "data": {
      "text/plain": [
       "5050"
      ]
     },
     "execution_count": 6,
     "metadata": {},
     "output_type": "execute_result"
    }
   ],
   "source": [
    "sum_all(100)"
   ]
  },
  {
   "cell_type": "markdown",
   "metadata": {},
   "source": [
    "### 시간 복잡도 구하기\n",
    "* 1부터 n까지의 합을 구하는 알고리즘2\n",
    "  - 입력 n이 어떻든 간에, 곱셈/덧셈/나눗셈 하면 됨 (반복문이 없음!)\n",
    "  - 시간 복잡도: 1, 빅 오 표기법으로는 **O(1)**\n"
   ]
  },
  {
   "cell_type": "markdown",
   "metadata": {},
   "source": [
    "### 어느 알고리즘이 성능이 좋은가요?\n",
    "- 알고리즘1 vs 알고리즘2\n",
    "  - O(n) vs O(1)\n",
    "  - O(n) > O(1) 이므로, 시간이 적게 걸린 알고리즘2의 성능이 더 좋다고 말할 수 있음\n",
    "\n",
    "> 이와 같이, 동일한 문제를 푸는 알고리즘은 다양할 수 있음\n",
    "> 어느 알고리즘이 보다 좋은지를 객관적으로 비교하기 위해, 빅 오 표기법등의 시간복잡도 계산법을 사용함"
   ]
  },
  {
   "cell_type": "markdown",
   "metadata": {},
   "source": [
    "#### 이후 자료구조, 알고리즘부터는 빅 오 표기법으로 성능을 계산해보면서, 빅 오 표기법과 계산방법에 익숙해지기로 합니다."
   ]
  }
 ],
 "metadata": {
  "kernelspec": {
   "display_name": "Python 3 (ipykernel)",
   "language": "python",
   "name": "python3"
  },
  "language_info": {
   "codemirror_mode": {
    "name": "ipython",
    "version": 3
   },
   "file_extension": ".py",
   "mimetype": "text/x-python",
   "name": "python",
   "nbconvert_exporter": "python",
   "pygments_lexer": "ipython3",
   "version": "3.10.9"
  },
  "nbTranslate": {
   "displayLangs": [
    "*"
   ],
   "hotkey": "alt-t",
   "langInMainMenu": true,
   "sourceLang": "en",
   "targetLang": "fr",
   "useGoogleTranslate": true
  }
 },
 "nbformat": 4,
 "nbformat_minor": 1
}
