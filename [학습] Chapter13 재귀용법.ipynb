{
 "cells": [
  {
   "cell_type": "markdown",
   "id": "9f80be4c",
   "metadata": {},
   "source": [
    "## <span style=\"background-color:#fff5b1\">재귀 용법</span> (recursive call, 재귀 호출)\n",
    "\n",
    "> 함수 안에서 동일한 함수를 호출하는 형태"
   ]
  },
  {
   "cell_type": "markdown",
   "id": "458b60d3",
   "metadata": {},
   "source": [
    "### 2. 재귀 용법 이해\n",
    "- 예제를 풀어보며, 재귀 용법을 이해해보기"
   ]
  },
  {
   "cell_type": "markdown",
   "id": "9ef7d16d",
   "metadata": {},
   "source": [
    "### 예제\n",
    "- 팩토리얼을 구하는 알고리즘을 Recursive Call 을 활용해서 알고리즘 작성하기"
   ]
  },
  {
   "cell_type": "markdown",
   "id": "88d2d702",
   "metadata": {},
   "source": [
    "### 예제 -  1) 분석하기\n",
    "- 간단한 경우부터 생각해보기\n",
    "  * 2! = 1 X 2\n",
    "  * 3! = 1 X 2 X 3\n",
    "  * 4! = 1 X 2 X 3 X 4 = 4 X 3!\n",
    "<br><br>\n",
    "- 규칙이 보임: n! = n X (n - 1)!\n",
    "  1. 함수를 하나 만든다.\n",
    "  2. 함수(n) 은 n > 1 이면 return n X 함수(n - 1)\n",
    "  3. 함수(n) 은 n = 1 이면 return n\n",
    "<br><br>\n",
    "- 검증 (코드로 검증하지 않고, 직접 간단한 경우부터 대입해서 검증해야 함)\n",
    "    1. 먼저 2! 부터 \n",
    "     - 함수(2) 이면, 2 > 1 이므로 2 X 함수(1)\n",
    "       - 함수(1) 은 1 이므로, return 2 X 1 = 2 맞다!\n",
    "    2. 먼저 3! 부터 \n",
    "     - 함수(3) 이면, 3 > 1 이므로 3 X 함수(2)\n",
    "       - 함수(2) 는 결국 1번에 의해 2! 이므로, return 2 X 1 = 2 \n",
    "       - 3 X 함수(2) = 3 X 2 = 3 X 2 X 1 = 6 맞다!\n",
    "    3. 먼저 4! 부터 \n",
    "     - 함수(4) 이면, 4 > 1 이므로 4 X 함수(3)\n",
    "       - 함수(3) 은 결국 2번에 의해 3 X 2 X 1 = 6 \n",
    "       - 4 X 함수(3) = 4 X 6 = 24 맞다! "
   ]
  },
  {
   "cell_type": "markdown",
   "id": "f2ef1c57",
   "metadata": {
    "collapsed": true
   },
   "source": [
    "### 예제 - 2) 코드 레벨로 적어보기"
   ]
  },
  {
   "cell_type": "code",
   "execution_count": 1,
   "id": "e1458650",
   "metadata": {},
   "outputs": [],
   "source": [
    "def factorial(n):\n",
    "    if n > 1:\n",
    "        return n * factorial(n - 1)\n",
    "    else:\n",
    "        return n"
   ]
  },
  {
   "cell_type": "code",
   "execution_count": 2,
   "id": "39797142",
   "metadata": {},
   "outputs": [
    {
     "name": "stdout",
     "output_type": "stream",
     "text": [
      "0\n",
      "1\n",
      "2\n",
      "6\n",
      "24\n",
      "120\n",
      "720\n",
      "5040\n",
      "40320\n",
      "362880\n"
     ]
    }
   ],
   "source": [
    "for num in range(10):\n",
    "    print(factorial(num))"
   ]
  },
  {
   "cell_type": "markdown",
   "id": "dcd2e0c8",
   "metadata": {},
   "source": [
    "### 예제 - 시간 복잡도와 공간 복잡도\n",
    "* factorial(n) 은 <font color = \"blue\">n - 1 번의 factorial() 함수를 호출</font>해서, 곱셈을 함 \n",
    "  - 일종의 n-1번 반복문을 호출한 것과 동일\n",
    "  - factorial() 함수를 호출할 때마다, 지역변수 n 이 생성됨 (\\* 지역변수 : 특정 구역 내에서 생성되어, 그 안에서만 동작하는 변수)\n",
    "\n",
    "* 시간 복잡도/공간 복잡도는 <font color = \"blue\">O(n-1)</font> 이므로 결국, 둘 다 <span style=\"background-color:#fff5b1\">O(n)</span>\n"
   ]
  },
  {
   "cell_type": "markdown",
   "id": "82282057",
   "metadata": {},
   "source": [
    "### 3. 재귀 호출의 일반적인 형태"
   ]
  },
  {
   "cell_type": "code",
   "execution_count": null,
   "id": "78c70a0c",
   "metadata": {},
   "outputs": [],
   "source": [
    "# 일번적인 형태 1\n",
    "\n",
    "def function(입력):\n",
    "    if 입력 > 일정값:             # 입력이 일정값보다 크면\n",
    "        return function(입력 - 1) # 입력보다 작은 값을, 재귀 호출해서 넣어줌\n",
    "    else:\n",
    "        return 일정값, 입력값 또는 특정값 # 재귀 호출 종료"
   ]
  },
  {
   "cell_type": "code",
   "execution_count": null,
   "id": "d927636c",
   "metadata": {},
   "outputs": [],
   "source": [
    "# 일번적인 형태 2\n",
    "\n",
    "def function(입력):\n",
    "    if 입력 <= 일정값:                     # 입력이 일정값보다 작거나 같으면\n",
    "        return 일정값, 입력값 또는 특정값  # 재귀 호출 종료\n",
    "    function(입력보다 작은 값)\n",
    "    return 결과값"
   ]
  },
  {
   "cell_type": "code",
   "execution_count": 3,
   "id": "7baa98ec",
   "metadata": {},
   "outputs": [],
   "source": [
    "# (+) 일반적인 형태2로 factorial 함수를 구현하면 다음과 같음\n",
    "\n",
    "def factorial(n):\n",
    "    if n <= 1:\n",
    "        return n\n",
    "    \n",
    "    return n * factorial(n - 1)"
   ]
  },
  {
   "cell_type": "code",
   "execution_count": 4,
   "id": "b1814a59",
   "metadata": {},
   "outputs": [
    {
     "name": "stdout",
     "output_type": "stream",
     "text": [
      "0\n",
      "1\n",
      "2\n",
      "6\n",
      "24\n",
      "120\n",
      "720\n",
      "5040\n",
      "40320\n",
      "362880\n"
     ]
    }
   ],
   "source": [
    "for num in range(10):\n",
    "    print(factorial(num))"
   ]
  },
  {
   "cell_type": "markdown",
   "id": "9f2ea131",
   "metadata": {},
   "source": [
    "### 4. 재귀 용법을 활용한 프로그래밍 연습"
   ]
  },
  {
   "cell_type": "markdown",
   "id": "fd371ba2",
   "metadata": {},
   "source": [
    "<div class=\"alert alert-block alert-warning\">\n",
    "<strong><font color=\"blue\" size=\"4em\">프로그래밍 연습</font></strong><br>\n",
    "다음 함수를 재귀 함수를 활용해서 완성해서 1부터 num까지의 곱이 출력되게 만드세요\n",
    "</div>\n",
    "<pre>\n",
    "def muliple(data):\n",
    "    if data <= 1:\n",
    "        return data\n",
    "    \n",
    "    return -------------------------\n",
    "    \n",
    "multiple(10)\n",
    "</pre>\n",
    "</div>"
   ]
  },
  {
   "cell_type": "code",
   "execution_count": 5,
   "id": "f697e231",
   "metadata": {},
   "outputs": [],
   "source": [
    "# 반복문으로 만들 경우\n",
    "\n",
    "def multiple(num):\n",
    "    return_value = 1\n",
    "    for index in range(2, num + 1):\n",
    "        return_value = return_value * index\n",
    "    return return_value"
   ]
  },
  {
   "cell_type": "code",
   "execution_count": 6,
   "id": "afae4b1b",
   "metadata": {},
   "outputs": [
    {
     "data": {
      "text/plain": [
       "3628800"
      ]
     },
     "execution_count": 6,
     "metadata": {},
     "output_type": "execute_result"
    }
   ],
   "source": [
    "multiple(10)"
   ]
  },
  {
   "cell_type": "code",
   "execution_count": 7,
   "id": "59830736",
   "metadata": {},
   "outputs": [],
   "source": [
    "# 재귀함수로 만들 경우\n",
    "\n",
    "def multiple(num):\n",
    "    if num <= 1:\n",
    "        return num\n",
    "    return num * multiple(num - 1)"
   ]
  },
  {
   "cell_type": "code",
   "execution_count": 8,
   "id": "7ec45325",
   "metadata": {},
   "outputs": [
    {
     "data": {
      "text/plain": [
       "3628800"
      ]
     },
     "execution_count": 8,
     "metadata": {},
     "output_type": "execute_result"
    }
   ],
   "source": [
    "multiple(10)"
   ]
  },
  {
   "cell_type": "markdown",
   "id": "76bf5919",
   "metadata": {},
   "source": [
    "<div class=\"alert alert-block alert-warning\">\n",
    "<strong><font color=\"blue\" size=\"4em\">프로그래밍 연습</font></strong><br>\n",
    "숫자가 들어 있는 리스트가 주어졌을 때, 리스트의 합을 리턴하는 함수를 만드세요\n",
    "</div>\n",
    "<pre>\n",
    "참고: 임의 값으로 리스트 만들기 random.sample(0 ~ 99까지 중에서, 임의로 10개를 만들어서 10개 값을 가지는 리스트 변수 만들기\n",
    "import random \n",
    "data = random.sample(range(100), 10)\n",
    "</pre>"
   ]
  },
  {
   "cell_type": "code",
   "execution_count": 9,
   "id": "e919808e",
   "metadata": {},
   "outputs": [],
   "source": [
    "def sum(data):\n",
    "    return_value = 0\n",
    "    for index in range(len(data)):\n",
    "        return_value += data[index]\n",
    "    return return_value"
   ]
  },
  {
   "cell_type": "code",
   "execution_count": 10,
   "id": "e049b5c2",
   "metadata": {},
   "outputs": [
    {
     "name": "stdout",
     "output_type": "stream",
     "text": [
      "[20, 27, 8, 68, 5, 81, 21, 59, 69, 13]\n",
      "371\n"
     ]
    }
   ],
   "source": [
    "import random\n",
    "\n",
    "data = random.sample(range(100), 10)\n",
    "\n",
    "print(data)\n",
    "print(sum(data))"
   ]
  },
  {
   "cell_type": "markdown",
   "id": "a8e49a2e",
   "metadata": {},
   "source": [
    "<div class=\"alert alert-block alert-warning\">\n",
    "<strong><font color=\"blue\" size=\"4em\">프로그래밍 연습</font></strong><br>\n",
    "숫자가 들어 있는 리스트가 주어졌을 때, 리스트의 합을 리턴하는 함수를 만드세요 (재귀함수를 써보세요)\n",
    "</div>\n",
    "<pre>\n",
    "def sum_list(data):\n",
    "    if len(data) == 1:\n",
    "        return data[0]\n",
    "    \n",
    "    return --------------------------------\n",
    "\n",
    "import random \n",
    "data = random.sample(range(100), 10)\n",
    "print (sum_list(data))\n",
    "</pre>"
   ]
  },
  {
   "cell_type": "code",
   "execution_count": 11,
   "id": "e2d3408b",
   "metadata": {},
   "outputs": [],
   "source": [
    "# 답안 코드\n",
    "\n",
    "def sum_list(data):\n",
    "    if len(data) <= 1:\n",
    "        return data[0]\n",
    "    return data[0] + sum_list(data[1:])"
   ]
  },
  {
   "cell_type": "code",
   "execution_count": 12,
   "id": "ac884f7b",
   "metadata": {},
   "outputs": [],
   "source": [
    "# 내 코드\n",
    "def sum_list(data):\n",
    "    if len(data) == 1:\n",
    "        return data[0]\n",
    "    last_data = data[-1]\n",
    "    del data[-1]\n",
    "    return last_data + sum_list(data)"
   ]
  },
  {
   "cell_type": "code",
   "execution_count": 13,
   "id": "a66c043d",
   "metadata": {},
   "outputs": [
    {
     "name": "stdout",
     "output_type": "stream",
     "text": [
      "371\n"
     ]
    }
   ],
   "source": [
    "data = [20, 27, 8, 68, 5, 81, 21, 59, 69, 13]\n",
    "print(sum_list(data))"
   ]
  },
  {
   "cell_type": "code",
   "execution_count": 14,
   "id": "eb15cbc8",
   "metadata": {},
   "outputs": [
    {
     "name": "stdout",
     "output_type": "stream",
     "text": [
      "[2, 86, 69, 88, 63, 80, 37, 68, 39, 24]\n",
      "556\n"
     ]
    }
   ],
   "source": [
    "import random \n",
    "data = random.sample(range(100), 10)\n",
    "print(data)\n",
    "print(sum_list(data))"
   ]
  },
  {
   "cell_type": "markdown",
   "id": "909cc150",
   "metadata": {},
   "source": [
    "<div class=\"alert alert-block alert-warning\">\n",
    "<strong><font color=\"blue\" size=\"4em\">프로그래밍 연습</font></strong><br>\n",
    "회문(palindrome)은 순서를 거꾸로 읽어도 제대로 읽은 것과 같은 단어와 문장을 의미함<br>\n",
    "회문을 판별할 수 있는 함수를 리스트 슬라이싱을 활용해서 만드세요\n",
    "<img src=\"https://www.fun-coding.org/00_Images/palindrome.png\" width=200/>\n",
    "</div>\n",
    "<pre>\n",
    "참고 - 리스트 슬라이싱\n",
    "string = 'Dave' \n",
    "string[-1] --> e\n",
    "string[0] --> D\n",
    "string[1:-1] --> av\n",
    "string[:-1] --> Dav\n",
    "</pre>"
   ]
  },
  {
   "cell_type": "markdown",
   "id": "5e70e637",
   "metadata": {
    "solution2": "shown",
    "solution2_first": true
   },
   "source": [
    "<div class=\"alert alert-block alert-warning\">\n",
    "<strong><font color=\"blue\" size=\"4em\">프로그래밍 연습</font></strong><br>\n",
    "회문(palindrome)은 순서를 거꾸로 읽어도 제대로 읽은 것과 같은 단어와 문장을 의미함<br>\n",
    "회문을 판별할 수 있는 함수를 재귀함수를 활용해서 만들어봅니다.\n",
    "</div>"
   ]
  },
  {
   "cell_type": "code",
   "execution_count": 15,
   "id": "3ec7cc68",
   "metadata": {},
   "outputs": [],
   "source": [
    "# 내 코드 (= 답안 코드)\n",
    "def palindrome(data):\n",
    "    if len(data) <= 1:\n",
    "        return True\n",
    "    if data[0] == data[-1]:\n",
    "        return palindrome(data[1:-1])\n",
    "    else:\n",
    "        return False"
   ]
  },
  {
   "cell_type": "code",
   "execution_count": 16,
   "id": "931bd436",
   "metadata": {},
   "outputs": [
    {
     "name": "stdout",
     "output_type": "stream",
     "text": [
      "True\n",
      "False\n"
     ]
    }
   ],
   "source": [
    "string1 = \"level\"\n",
    "string2 = \"rumor\"\n",
    "\n",
    "print(palindrome(string1))\n",
    "print(palindrome(string2))"
   ]
  },
  {
   "cell_type": "markdown",
   "id": "e0646256",
   "metadata": {
    "solution2": "shown",
    "solution2_first": true
   },
   "source": [
    "<div class=\"alert alert-block alert-warning\">\n",
    "<strong><font color=\"blue\" size=\"4em\">프로그래밍 연습</font></strong><br>\n",
    "1, 정수 n에 대해<br>\n",
    "2. n이 홀수이면 3 X n + 1 을 하고,<br>\n",
    "3. n이 짝수이면 n 을 2로 나눕니다.<br>\n",
    "4. 이렇게 계속 진행해서 n 이 결국 1이 될 때까지 2와 3의 과정을 반복합니다.<br>\n",
    "<br>\n",
    "예를 들어 n에 3을 넣으면,  \n",
    "<pre>\n",
    "3\n",
    "10\n",
    "5\n",
    "16\n",
    "8\n",
    "4\n",
    "2\n",
    "1\n",
    "</pre>\n",
    "이 됩니다.\n",
    "\n",
    "이렇게 정수 n을 입력받아, 위 알고리즘에 의해 1이 되는 과정을 모두 출력하는 함수를 작성하세요."
   ]
  },
  {
   "cell_type": "code",
   "execution_count": 17,
   "id": "af5c272f",
   "metadata": {},
   "outputs": [],
   "source": [
    "# 답안 코드\n",
    "\n",
    "def func(n):\n",
    "    print(n)\n",
    "    if n == 1:\n",
    "        return n\n",
    "    \n",
    "    if n % 2 == 1:\n",
    "        return func(3 * n + 1)\n",
    "    else:\n",
    "        return func(int(n / 2))  "
   ]
  },
  {
   "cell_type": "code",
   "execution_count": 18,
   "id": "7da51342",
   "metadata": {},
   "outputs": [],
   "source": [
    "# 내 코드\n",
    "def make_one(n):\n",
    "    print(n)\n",
    "    if n <= 1:\n",
    "        return n\n",
    "    if n % 2 != 0: # 홀수\n",
    "        n = 3 * n + 1\n",
    "    else:          # 짝수\n",
    "        n = int(n / 2)\n",
    "    return make_one(n)"
   ]
  },
  {
   "cell_type": "code",
   "execution_count": 19,
   "id": "fbe24cb8",
   "metadata": {},
   "outputs": [
    {
     "name": "stdout",
     "output_type": "stream",
     "text": [
      "3\n",
      "10\n",
      "5\n",
      "16\n",
      "8\n",
      "4\n",
      "2\n",
      "1\n"
     ]
    },
    {
     "data": {
      "text/plain": [
       "1"
      ]
     },
     "execution_count": 19,
     "metadata": {},
     "output_type": "execute_result"
    }
   ],
   "source": [
    "make_one(3)"
   ]
  },
  {
   "cell_type": "markdown",
   "id": "051018cb",
   "metadata": {
    "solution2": "hidden",
    "solution2_first": true
   },
   "source": [
    "<div class=\"alert alert-block alert-warning\">\n",
    "<strong><font color=\"blue\" size=\"4em\">프로그래밍 연습</font></strong><br>\n",
    "<pre>\n",
    "문제: 정수 4를 1, 2, 3의 조합으로 나타내는 방법은 다음과 같이 총 7가지가 있음\n",
    "1+1+1+1\n",
    "1+1+2\n",
    "1+2+1\n",
    "2+1+1\n",
    "2+2\n",
    "1+3\n",
    "3+1\n",
    "정수 n이 입력으로 주어졌을 때, n을 1, 2, 3의 합으로 나타낼 수 있는 방법의 수를 구하시오\n",
    "</pre>    \n",
    "\n",
    "힌트: 정수 n을 만들 수 있는 경우의 수를 리턴하는 함수를 f(n) 이라고 하면,<br>\n",
    "f(n)은 f(n-1) + f(n-2) + f(n-3) 과 동일하다는 패턴 찾기<br>\n",
    "출처: ACM-ICPC > Regionals > Asia > Korea > Asia Regional - Taejon 2001 \n",
    "3</div>"
   ]
  },
  {
   "cell_type": "code",
   "execution_count": 20,
   "id": "adf214c2",
   "metadata": {},
   "outputs": [],
   "source": [
    "# 답안 코드\n",
    "\n",
    "def func(n):\n",
    "    if n == 1:\n",
    "        return 1\n",
    "    elif n == 2:\n",
    "        return 2\n",
    "    elif n == 3:\n",
    "        return 4\n",
    "    \n",
    "    return func(n-1) + func(n-2) + func(n-3)"
   ]
  },
  {
   "cell_type": "code",
   "execution_count": 21,
   "id": "76c6d593",
   "metadata": {},
   "outputs": [],
   "source": [
    "# 내 코드\n",
    "\n",
    "def func(n):\n",
    "    if n <= 0:\n",
    "        return False\n",
    "    \n",
    "    if 0 < n < 4 :\n",
    "        return 2**(n-1)\n",
    "    else:\n",
    "        return func(n-1) + func(n-2) + func(n-3)"
   ]
  },
  {
   "cell_type": "code",
   "execution_count": 22,
   "id": "ed5606df",
   "metadata": {
    "scrolled": true
   },
   "outputs": [
    {
     "data": {
      "text/plain": [
       "7"
      ]
     },
     "execution_count": 22,
     "metadata": {},
     "output_type": "execute_result"
    }
   ],
   "source": [
    "func(4)"
   ]
  },
  {
   "cell_type": "code",
   "execution_count": 23,
   "id": "64c91769",
   "metadata": {
    "scrolled": true
   },
   "outputs": [
    {
     "data": {
      "text/plain": [
       "13"
      ]
     },
     "execution_count": 23,
     "metadata": {},
     "output_type": "execute_result"
    }
   ],
   "source": [
    "func(5)"
   ]
  }
 ],
 "metadata": {
  "kernelspec": {
   "display_name": "Python 3 (ipykernel)",
   "language": "python",
   "name": "python3"
  },
  "language_info": {
   "codemirror_mode": {
    "name": "ipython",
    "version": 3
   },
   "file_extension": ".py",
   "mimetype": "text/x-python",
   "name": "python",
   "nbconvert_exporter": "python",
   "pygments_lexer": "ipython3",
   "version": "3.10.9"
  }
 },
 "nbformat": 4,
 "nbformat_minor": 5
}
