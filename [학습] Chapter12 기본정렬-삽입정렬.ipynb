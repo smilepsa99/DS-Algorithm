{
 "cells": [
  {
   "cell_type": "markdown",
   "id": "388d4a65",
   "metadata": {},
   "source": [
    "## 대표적인 정렬2: <span style=\"background-color:#fff5b1\">삽입 정렬 (insertion sort)</span>"
   ]
  },
  {
   "cell_type": "markdown",
   "id": "2612859d",
   "metadata": {},
   "source": [
    "### 2. 어떻게 코드로 만들까? (결국 프로그래밍으로 일반화할 수 있도록 만드는 것)\n",
    "\n",
    "> 알고리즘 연습 방법에 기반해서 단계별로 생각해봅니다."
   ]
  },
  {
   "cell_type": "markdown",
   "id": "0d773dc6",
   "metadata": {},
   "source": [
    "<div class=\"alert alert-block alert-warning\">\n",
    "<strong><font color=\"blue\" size=\"4em\">프로그래밍 연습</font></strong><br>\n",
    "데이터가 두개 일때 동작하는 삽입 정렬 알고리즘을 함수로 만들어보세요<br>\n",
    "</div>"
   ]
  },
  {
   "cell_type": "code",
   "execution_count": 1,
   "id": "68d48bef",
   "metadata": {},
   "outputs": [
    {
     "data": {
      "text/plain": [
       "[3, 5]"
      ]
     },
     "execution_count": 1,
     "metadata": {},
     "output_type": "execute_result"
    }
   ],
   "source": [
    "data_list = [5, 3]\n",
    "\n",
    "def insertion_sort(data):\n",
    "    if data[1] < data[0]:\n",
    "        data[1], data[0] = data[0], data[1]\n",
    "        \n",
    "    return data\n",
    "\n",
    "insertion_sort(data_list)"
   ]
  },
  {
   "cell_type": "markdown",
   "id": "9bfd015b",
   "metadata": {},
   "source": [
    "<div class=\"alert alert-block alert-warning\">\n",
    "<strong><font color=\"blue\" size=\"4em\">프로그래밍 연습</font></strong><br>\n",
    "데이터가 세개 일때 동작하는 선택 정렬 알고리즘을 함수로 만들어보세요<br>\n",
    "</div>"
   ]
  },
  {
   "cell_type": "code",
   "execution_count": 2,
   "id": "c62914d5",
   "metadata": {},
   "outputs": [
    {
     "data": {
      "text/plain": [
       "[2, 3, 5]"
      ]
     },
     "execution_count": 2,
     "metadata": {},
     "output_type": "execute_result"
    }
   ],
   "source": [
    "data_list = [5, 3, 2]\n",
    "\n",
    "def insertion_sort(data):\n",
    "    if data[1] < data[0]:\n",
    "        data[1], data[0] = data[0], data[1]\n",
    "        \n",
    "    if data[2] < data[1]:\n",
    "        data[2], data[1] = data[1], data[2]\n",
    "    if data[1] < data[0]:\n",
    "        data[1], data[0] = data[0], data[1]\n",
    "        \n",
    "    return data\n",
    "\n",
    "insertion_sort(data_list)"
   ]
  },
  {
   "cell_type": "markdown",
   "id": "438c308f",
   "metadata": {},
   "source": [
    "<div class=\"alert alert-block alert-warning\">\n",
    "<strong><font color=\"blue\" size=\"4em\">프로그래밍 연습</font></strong><br>\n",
    "데이터가 네개 일때 동작하는 선택 정렬 알고리즘을 함수로 만들어보세요<br>\n",
    "</div>"
   ]
  },
  {
   "cell_type": "code",
   "execution_count": 3,
   "id": "ab49f889",
   "metadata": {},
   "outputs": [
    {
     "data": {
      "text/plain": [
       "([2, 3, 4, 5], '3-2')"
      ]
     },
     "execution_count": 3,
     "metadata": {},
     "output_type": "execute_result"
    }
   ],
   "source": [
    "data_list = [5, 3, 2, 4]\n",
    "\n",
    "def insertion_sort(data):\n",
    "    if data[1] < data[0]:\n",
    "        data[1], data[0] = data[0], data[1]\n",
    "        \n",
    "    if data[2] < data[1]:\n",
    "        data[2], data[1] = data[1], data[2]\n",
    "    if data[1] < data[0]:\n",
    "        data[1], data[0] = data[0], data[1]\n",
    "    \n",
    "    if data[3] < data[2]:\n",
    "        data[3], data[2] = data[2], data[3]\n",
    "    else:\n",
    "        return data, \"3-1\"\n",
    "    if data[2] < data[1]:\n",
    "        data[2], data[1] = data[1], data[2]\n",
    "    else:\n",
    "        return data, \"3-2\"\n",
    "    if data[1] < data[0]:\n",
    "        data[1], data[0] = data[0], data[1]\n",
    "    else:\n",
    "        return data ,\"3-3\"\n",
    "    \n",
    "insertion_sort(data_list)"
   ]
  },
  {
   "cell_type": "markdown",
   "id": "18489356",
   "metadata": {},
   "source": [
    "### 3. 알고리즘 구현\n",
    "1. [턴 반복문] : len(data)-1 (= data 의 맨 처음값 외 전부의 개수) 만큼 반복\n",
    "    - for index1 in range(len(data) - 1)\n",
    "<br><br>\n",
    "2. 턴 반복문 안에 [비교 반복문] : 각 턴의 index1 에 따라, index2 에 **index1 + 1 부터 1을 향해 역순**으로 넣으며 반복 \n",
    "    - index2 은 기준으로 잡은 값의, 스왑되면서 바뀌는 인덱스\n",
    "        - index1 = 0 (첫번째 턴) : index2 = 1\n",
    "        - index1 = 1 (두번째 턴) : index2 = 2, 1\n",
    "        - index1 = 2 (세번째 턴) : index2 = 3, 2, 1\n",
    "        - .............(중략)..............\n",
    "        - index1 = len(data) - 2 : index2 = len(data) - 1, ... , 2, 1\n",
    "    - 따라서, for index2 in range(**index1 + 1, 0, -1**)\n",
    "<br><br>\n",
    "3. 비교 반복문 안에 [Swap 조건문] : data[index2] 가 data[index2 - 1] 보다 작으면 swap, 아니라면 break\n",
    "    - if data[index2] < data[index2 - 1] : swap(data[index2],  data[index2 - 1])"
   ]
  },
  {
   "cell_type": "code",
   "execution_count": 4,
   "id": "87cb01c1",
   "metadata": {},
   "outputs": [],
   "source": [
    "def insertion_sort(data):\n",
    "    for index1 in range(len(data) - 1):        # len(data) - 1 = 기준으로 삼을 값의 개수 (data 의 맨 처음값 외 전부) => 턴 횟수\n",
    "        for index2 in range(index1 + 1, 0, -1): # index1 + 1 = 기준으로 잡은 값의, (처음) 인덱스\n",
    "            if data[index2] < data[index2 - 1]: # index2 = 기준으로 잡은 값의, (스왑되면서 바뀌는) 인덱스\n",
    "                data[index2], data[index2 - 1] = data[index2 - 1], data[index2]\n",
    "            else:\n",
    "                break\n",
    "                \n",
    "    return data"
   ]
  },
  {
   "cell_type": "code",
   "execution_count": 5,
   "id": "37d87027",
   "metadata": {
    "scrolled": true
   },
   "outputs": [
    {
     "name": "stdout",
     "output_type": "stream",
     "text": [
      "[12, 86, 52, 39, 20, 3, 53, 78, 91, 44, 65, 18, 31, 41, 59, 77, 19, 74, 45, 49, 9, 17, 2, 69, 37, 36, 62, 96, 85, 76, 70, 1, 89, 55, 67, 48, 7, 92, 56, 98, 75, 29, 40, 26, 87, 72, 47, 28, 30, 82]\n",
      "[1, 2, 3, 7, 9, 12, 17, 18, 19, 20, 26, 28, 29, 30, 31, 36, 37, 39, 40, 41, 44, 45, 47, 48, 49, 52, 53, 55, 56, 59, 62, 65, 67, 69, 70, 72, 74, 75, 76, 77, 78, 82, 85, 86, 87, 89, 91, 92, 96, 98]\n"
     ]
    }
   ],
   "source": [
    "# 테스트\n",
    "import random\n",
    "\n",
    "data_list = random.sample(range(100), 50)\n",
    "print(data_list)\n",
    "\n",
    "print(insertion_sort(data_list))"
   ]
  },
  {
   "cell_type": "code",
   "execution_count": 6,
   "id": "ebde67e8",
   "metadata": {},
   "outputs": [],
   "source": [
    "# 위 알고리즘을 이렇게 수정해도 됨\n",
    "def insertion_sort1_1(data):\n",
    "    for index1 in range(len(data)):            # 턴을 len(data) -1 번 반복할 거지만 len(data) 로 작성해도 됨\n",
    "        for index2 in range(index1, 0, -1):    # ㄴ [비교 반복문]이 index1 = 0 일때 아예 실행되지 않기 때문\n",
    "            if data[index2] < data[index2 - 1]:\n",
    "                data[index2], data[index2 - 1] = data[index2 - 1], data[index2]\n",
    "            else:\n",
    "                break\n",
    "                \n",
    "    return data"
   ]
  },
  {
   "cell_type": "code",
   "execution_count": 7,
   "id": "24aa1672",
   "metadata": {
    "scrolled": true
   },
   "outputs": [
    {
     "name": "stdout",
     "output_type": "stream",
     "text": [
      "[27, 15, 16, 95, 34, 63, 91, 10, 31, 40, 41, 58, 12, 6, 18, 52, 5, 84, 56, 77, 9, 75, 81, 76, 99, 7, 53, 49, 82, 51, 37, 61, 65, 11, 68, 47, 24, 50, 17, 97, 66, 32, 48, 69, 25, 96, 0, 73, 71, 83]\n",
      "[0, 5, 6, 7, 9, 10, 11, 12, 15, 16, 17, 18, 24, 25, 27, 31, 32, 34, 37, 40, 41, 47, 48, 49, 50, 51, 52, 53, 56, 58, 61, 63, 65, 66, 68, 69, 71, 73, 75, 76, 77, 81, 82, 83, 84, 91, 95, 96, 97, 99]\n"
     ]
    }
   ],
   "source": [
    "# 테스트\n",
    "import random\n",
    "\n",
    "data_list = random.sample(range(100), 50)\n",
    "print(data_list)\n",
    "\n",
    "print(insertion_sort1_1(data_list))"
   ]
  },
  {
   "cell_type": "markdown",
   "id": "d08d0222",
   "metadata": {},
   "source": [
    "- 삽입 정렬을 구현하는 다른 방법 : https://goo.gl/XKBXuk"
   ]
  },
  {
   "cell_type": "code",
   "execution_count": 8,
   "id": "8a25b538",
   "metadata": {},
   "outputs": [],
   "source": [
    "def insertion_sort2(data):\n",
    "    for stand in range(len(data)): # range(len(data)) = 기준으로 삼을 값들의 인덱스 범위\n",
    "        key = data[stand] # key = 기준값, stand = 기준값의 (처음) 인덱스\n",
    "        for num in range(stand, 0, -1): # num = 기준값의 (스왑되면서 바뀌는) 인덱스\n",
    "            if key < data[num - 1]:\n",
    "                data[num], data[num - 1] = data[num - 1], data[num]\n",
    "            else:\n",
    "                break\n",
    "    \n",
    "    return data"
   ]
  },
  {
   "cell_type": "code",
   "execution_count": 9,
   "id": "0695524f",
   "metadata": {
    "scrolled": true
   },
   "outputs": [
    {
     "name": "stdout",
     "output_type": "stream",
     "text": [
      "[88, 61, 28, 67, 24, 97, 99, 46, 7, 73, 34, 45, 14, 71, 98, 22, 89, 26, 35, 41, 8, 62, 1, 3, 77, 74, 43, 49, 11, 75, 63, 69, 65, 55, 51, 86, 47, 70, 10, 94, 85, 20, 17, 15, 92, 29, 44, 32, 60, 42]\n",
      "[1, 3, 7, 8, 10, 11, 14, 15, 17, 20, 22, 24, 26, 28, 29, 32, 34, 35, 41, 42, 43, 44, 45, 46, 47, 49, 51, 55, 60, 61, 62, 63, 65, 67, 69, 70, 71, 73, 74, 75, 77, 85, 86, 88, 89, 92, 94, 97, 98, 99]\n"
     ]
    }
   ],
   "source": [
    "# 테스트\n",
    "import random\n",
    "\n",
    "data_list = random.sample(range(100), 50)\n",
    "print(data_list)\n",
    "\n",
    "print(insertion_sort2(data_list))"
   ]
  }
 ],
 "metadata": {
  "kernelspec": {
   "display_name": "Python 3 (ipykernel)",
   "language": "python",
   "name": "python3"
  },
  "language_info": {
   "codemirror_mode": {
    "name": "ipython",
    "version": 3
   },
   "file_extension": ".py",
   "mimetype": "text/x-python",
   "name": "python",
   "nbconvert_exporter": "python",
   "pygments_lexer": "ipython3",
   "version": "3.10.9"
  }
 },
 "nbformat": 4,
 "nbformat_minor": 5
}
