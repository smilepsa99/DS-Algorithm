{
 "cells": [
  {
   "cell_type": "markdown",
   "id": "004edb15",
   "metadata": {},
   "source": [
    "# 실전 코딩 테스트 - 탐색 알고리즘"
   ]
  },
  {
   "cell_type": "markdown",
   "id": "0d4afa91",
   "metadata": {},
   "source": [
    "### 1. https://www.acmicpc.net/problem/1920"
   ]
  },
  {
   "cell_type": "markdown",
   "id": "ae95fd1b",
   "metadata": {},
   "source": [
    "### 왜 다음 코드가 좋지 않을까요?\n",
    "> 실제로 다음과 같이 작성하면, 시간 제한에 걸립니다."
   ]
  },
  {
   "cell_type": "code",
   "execution_count": 1,
   "id": "0b5bcb38",
   "metadata": {},
   "outputs": [],
   "source": [
    "# 여러 차례 테스트를 위해, input 구문으로 직접 입력을 받지 않고, 그대로 실제 테스트 예제 입력을 변수로 넣음\n",
    "N = 5\n",
    "N_list = [4, 1, 5, 2, 3]\n",
    "M = 5\n",
    "M_list = [1, 3, 7, 9, 5]"
   ]
  },
  {
   "cell_type": "code",
   "execution_count": 2,
   "id": "7d2ba385",
   "metadata": {
    "scrolled": true
   },
   "outputs": [
    {
     "name": "stdout",
     "output_type": "stream",
     "text": [
      "1\n",
      "1\n",
      "0\n",
      "0\n",
      "1\n"
     ]
    }
   ],
   "source": [
    "for item in M_list:\n",
    "    if item in N_list:\n",
    "        print(1)\n",
    "    else:\n",
    "        print(0)       # 시간복잡도 = O(n²)"
   ]
  },
  {
   "cell_type": "markdown",
   "id": "bfba4ef1",
   "metadata": {},
   "source": [
    "### 시간복잡도 개선 코드\n",
    "> <span style=\"background-color:#fff5b1\">이진 탐색 알고리즘</span> 기반 코드 개선"
   ]
  },
  {
   "cell_type": "code",
   "execution_count": 5,
   "id": "21cf5521",
   "metadata": {},
   "outputs": [],
   "source": [
    "N = 5\n",
    "N_list = [4, 1, 5, 2, 3]\n",
    "M = 5\n",
    "M_list = [1, 3, 7, 9, 5]"
   ]
  },
  {
   "cell_type": "code",
   "execution_count": 6,
   "id": "8ed3955b",
   "metadata": {},
   "outputs": [],
   "source": [
    "# 방법 1: 기본 이진탐색 알고리즘\n",
    "\n",
    "N_list.sort() # 이진 탐색은 정렬된 데이터에 대해서만 사용할 수 있음\n",
    "\n",
    "def binary_search(data, search):\n",
    "    if len(data) == 0:\n",
    "        return 0\n",
    "    elif len(data) == 1:\n",
    "        if search == data[0]:\n",
    "            return 1\n",
    "        else:\n",
    "            return 0\n",
    "        \n",
    "    medium = len(data) // 2\n",
    "    if search == data[medium]:\n",
    "        return 1\n",
    "    else:\n",
    "        if search > data[medium]:\n",
    "            return binary_search(data[medium + 1:], search)\n",
    "        else:\n",
    "            return binary_search(data[:medium], search)"
   ]
  },
  {
   "cell_type": "code",
   "execution_count": 7,
   "id": "4438cbe4",
   "metadata": {},
   "outputs": [
    {
     "name": "stdout",
     "output_type": "stream",
     "text": [
      "1\n",
      "1\n",
      "0\n",
      "0\n",
      "1\n"
     ]
    }
   ],
   "source": [
    "for item in M_list:\n",
    "    print(binary_search(N_list, item))"
   ]
  },
  {
   "cell_type": "code",
   "execution_count": 12,
   "id": "29972de2",
   "metadata": {},
   "outputs": [
    {
     "name": "stdout",
     "output_type": "stream",
     "text": [
      "5\n",
      "4 1 5 2 3\n",
      "5\n",
      "1 3 7 9 5\n",
      "1\n",
      "1\n",
      "0\n",
      "0\n",
      "1\n"
     ]
    }
   ],
   "source": [
    "# 방법 2: 변형된 이진탐색 알고리즘 (백준 제출 예시)\n",
    "\n",
    "N = int(input())\n",
    "N_list = list(map(int, input().split()))\n",
    "M = int(input())\n",
    "M_list = list(map(int, input().split()))\n",
    "N_list.sort()\n",
    "\n",
    "def binary_search(value, start, end): # 탐색할 데이터 중, 어디서부터 어디까지 확인할지 지칭하는 start 와 end 를 둠\n",
    "    if start > end:                   # 즉 start(확인시작 인덱스) ~ end(확인끝 인덱스) 의 범위를 기반으로, 탐색 작업을 함\n",
    "        return False\n",
    "    \n",
    "    median = (start + end) // 2\n",
    "    if value < N_list[median]:                        # N_list를 함수에 넣는 값으로 두지 않고, 이렇게 전역변수처럼 씀\n",
    "        return binary_search(value, start, median - 1)\n",
    "    elif value > N_list[median]:\n",
    "        return binary_search(value, median + 1, end)\n",
    "    else:\n",
    "        return True\n",
    "    \n",
    "for item in M_list:\n",
    "    if binary_search(item, 0, N - 1):\n",
    "        print(1)\n",
    "    else:\n",
    "        print(0)"
   ]
  }
 ],
 "metadata": {
  "kernelspec": {
   "display_name": "Python 3 (ipykernel)",
   "language": "python",
   "name": "python3"
  },
  "language_info": {
   "codemirror_mode": {
    "name": "ipython",
    "version": 3
   },
   "file_extension": ".py",
   "mimetype": "text/x-python",
   "name": "python",
   "nbconvert_exporter": "python",
   "pygments_lexer": "ipython3",
   "version": "3.10.9"
  }
 },
 "nbformat": 4,
 "nbformat_minor": 5
}
