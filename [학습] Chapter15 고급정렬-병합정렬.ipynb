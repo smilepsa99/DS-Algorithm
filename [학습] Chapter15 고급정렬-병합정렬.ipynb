{
 "cells": [
  {
   "cell_type": "markdown",
   "id": "fec11755",
   "metadata": {},
   "source": [
    "## 대표적인 정렬4: 병합 정렬 (merge sort) "
   ]
  },
  {
   "cell_type": "markdown",
   "id": "86639755",
   "metadata": {},
   "source": [
    "### 1. 병합 정렬 (merge sort) \n",
    "* <span style=\"background-color:#fff5b1\">분할 정복</span>을 활용한 알고리즘\n",
    "* <span style=\"background-color:#fff5b1\">재귀용법</span>을 활용한 정렬 알고리즘\n",
    "  1. 리스트를 절반으로 잘라 비슷한 크기의 두 부분 리스트로 나눈다.\n",
    "  2. 각 부분 리스트를 재귀적으로 합병 정렬을 이용해 정렬한다.\n",
    "  3. 두 부분 리스트를 다시 하나의 정렬된 리스트로 합병한다."
   ]
  },
  {
   "cell_type": "markdown",
   "id": "dbdc301b",
   "metadata": {},
   "source": [
    "### 2. 알고리즘 이해\n",
    "* 데이터가 네 개 일때\n",
    "  - 예: data_list = [1, 9, 3, 2]\n",
    "    - 리스트를 절반으로 나눔 : [1, 9], [3, 2]\n",
    "    - 나눈 리스트를 또 절반으로 나눔 : [1], [9] / [3], [2]\n",
    "    - [1] < [9] 이므로 병합하면 [1, 9]\n",
    "    - [3] > [2] 이므로 병합하면 [2, 3]\n",
    "    - 이제 [1, 9] 와 [2, 3] 을 비교 후 병합해가면,\n",
    "        - [1, 9] 의 첫번째값 1 < [2, 3] 의 첫번째값 2 : [1]\n",
    "        - [▯, 9] 의 두번째값 9 > [2, 3] 의 첫번째값 2 : [1, 2]\n",
    "        - [▯, 9] 의 두번째값 9 > [▯, 3] 의 두번째값 3 : [1, 2, 3]\n",
    "        - [▯, 9], [▯, ▯] : 9만 남았으니 [1, 2, 3, 9]\n",
    "        - ⇒ [1, 2, 3, 9]"
   ]
  },
  {
   "cell_type": "markdown",
   "id": "29dbb4db",
   "metadata": {},
   "source": [
    "### 3. 알고리즘 구현\n",
    "* mergesplit 함수 만들기\n",
    "  - 만약 데이터길이가 1 보다 작거나 같으면, 데이터 반환 (\\*더이상 나눌 필요 X)\n",
    "  - (그렇지 않다면) 리스트를 절반으로 나누기(왼쪽, 오른쪽)\n",
    "  - left = mergesplit(데이터 절반 중 왼쪽) : 재귀용법\n",
    "  - right = mergesplit(데이터 절반 중 오른쪽) : 재귀용법\n",
    "  - merge(left, right) : merge 함수로 정렬 및 병합\n",
    "<br><br>  \n",
    "* merge 함수 만들기\n",
    "  - 리스트 생성 후, 변수 merged 에 저장\n",
    "  - 왼쪽 포인터와 오른쪽 포인터를 0으로 설정\n",
    "  - 1번째 경우 : while 왼쪽 포인터는 왼쪽 리스트를, 오른쪽 포인터는 오른쪽 리스트를 다 순회하지 않았을 동안..\n",
    "      - if 데이터[왼쪽 포인터] < 데이터[오른쪽 포인터] 라면: merged 에 데이터[왼쪽 포인터] 추가, 왼쪽 포인터 + 1\n",
    "      - else 라면: merged 에 데이터[오른쪽 포인터] 추가, 오른쪽 포인터 + 1\n",
    "  - 2번째 경우: while (오른쪽 데이터가 없고) 왼쪽 데이터만 남은 동안..\n",
    "      - merged 에 데이터[왼쪽 포인터] 추가, 왼쪽 포인터 + 1\n",
    "  - 3번째 경우: while (왼쪽 데이터가 없고) 오른쪽 데이터만 남은 동안..\n",
    "      - merged 에 데이터[오른쪽 포인터] 추가, 오른쪽 포인터 + 1\n",
    "  - (정렬 및 병합된 데이터가 들어간) merged 반환"
   ]
  },
  {
   "cell_type": "markdown",
   "id": "660ce445",
   "metadata": {},
   "source": [
    "### 작은 부분부터 작성해서 하나씩 구현하기"
   ]
  },
  {
   "cell_type": "markdown",
   "id": "4cf816bf",
   "metadata": {
    "solution2": "shown",
    "solution2_first": true
   },
   "source": [
    "<div class=\"alert alert-block alert-warning\">\n",
    "<strong><font color=\"blue\" size=\"4em\">프로그래밍 연습</font></strong><br>\n",
    "어떤 데이터리스트가 있을 때 리스트를 앞뒤로 짜르는 코드 작성해보기 (일반화)\n",
    "</div>"
   ]
  },
  {
   "cell_type": "code",
   "execution_count": 1,
   "id": "b07b4194",
   "metadata": {},
   "outputs": [
    {
     "name": "stdout",
     "output_type": "stream",
     "text": [
      "중간 인덱스 : 2\n",
      "[1, 5] [3, 2, 4]\n"
     ]
    }
   ],
   "source": [
    "def split_func(data):\n",
    "    medium = int(len(data) / 2)\n",
    "    print(\"중간 인덱스 :\", medium)\n",
    "    left = data[:medium]\n",
    "    right = data[medium:]\n",
    "    print(left, right)\n",
    "\n",
    "split_func([1, 5, 3, 2, 4])"
   ]
  },
  {
   "cell_type": "markdown",
   "id": "844e630a",
   "metadata": {},
   "source": [
    "### 재귀용법 활용하기"
   ]
  },
  {
   "cell_type": "markdown",
   "id": "675503da",
   "metadata": {
    "solution2": "hidden",
    "solution2_first": true
   },
   "source": [
    "<div class=\"alert alert-block alert-warning\">\n",
    "<strong><font color=\"blue\" size=\"4em\">프로그래밍 연습</font></strong><br>\n",
    "</div>\n",
    "<pre>\n",
    "다음 문장을 코드로 작성해보기 (merge함수는 아직은 없는 상태, 있다고만 가정)\n",
    "* mergesplit 함수 만들기\n",
    "  - 만약 리스트 갯수가 한개이면 해당 값 리턴\n",
    "  - 그렇지 않으면, 리스트를 앞뒤, 두 개로 나누기\n",
    "  - left = mergesplit(앞)\n",
    "  - right = mergesplit(뒤)\n",
    "  - merge(left, right)\n",
    "</pre>"
   ]
  },
  {
   "cell_type": "code",
   "execution_count": 2,
   "id": "03d593d7",
   "metadata": {},
   "outputs": [],
   "source": [
    "def mergesplit(data):\n",
    "    if len(data) <= 1:\n",
    "        return data\n",
    "    \n",
    "    medium = int(len(data) / 2)\n",
    "    left = mergesplit(data[:medium])\n",
    "    right = mergesplit(data[medium:])\n",
    "    return merge(left, right)"
   ]
  },
  {
   "cell_type": "markdown",
   "id": "d2d93b71",
   "metadata": {},
   "source": [
    "### merge 함수 만들기\n",
    "* 목표: left 와 right 의 리스트 데이터를 정렬해서 sorted_list 라는 이름으로 return 하기\n",
    "* left와 right는 이미 정렬된 상태 또는 데이터가 하나임"
   ]
  },
  {
   "cell_type": "markdown",
   "id": "87e2769d",
   "metadata": {},
   "source": [
    "<div class=\"alert alert-block alert-warning\">\n",
    "<strong><font color=\"blue\" size=\"4em\">프로그래밍 연습</font></strong><br>\n",
    "</div>\n",
    "\n",
    "1. left 부터 하나씩 right과 비교\n",
    "2. left > right 이면, left 를 sorted_list에 넣고, 다음 left 리스트와 right 비교\n",
    "   - 그렇지않으면 반대로 하기\n",
    "<pre>\n",
    "다음 경우만 프로그래밍으로 작성해보기\n",
    "left = [0]\n",
    "right = [3]\n",
    "결과는 별도의 리스트 변수를 만들어 적은 숫자 순으로 순서대로 저장해서 리턴\n",
    "</pre>"
   ]
  },
  {
   "cell_type": "code",
   "execution_count": 3,
   "id": "2f54d69d",
   "metadata": {},
   "outputs": [
    {
     "data": {
      "text/plain": [
       "[0, 3]"
      ]
     },
     "execution_count": 3,
     "metadata": {},
     "output_type": "execute_result"
    }
   ],
   "source": [
    "left = [0]\n",
    "right = [3]\n",
    "\n",
    "def merge(left, right):\n",
    "    merged = list()\n",
    "\n",
    "    if left[0] < right[0] : \n",
    "        merged.append(left[0])\n",
    "        merged.append(right[0])\n",
    "    else:\n",
    "        merged.append(right[0])\n",
    "        merged.append(left[0])\n",
    "\n",
    "    return merged\n",
    "\n",
    "merge(left, right)"
   ]
  },
  {
   "cell_type": "markdown",
   "id": "c1c1d8e7",
   "metadata": {},
   "source": [
    "<div class=\"alert alert-block alert-warning\">\n",
    "<strong><font color=\"blue\" size=\"4em\">프로그래밍 연습</font></strong><br>\n",
    "</div>\n",
    "<pre>\n",
    "다음 경우만 프로그래밍으로 작성해보기\n",
    "left = [0, 2]\n",
    "right = [1]\n",
    "결과는 별도의 리스트 변수를 만들어 적은 숫자 순으로 순서대로 저장해서 리턴\n",
    "</pre>"
   ]
  },
  {
   "cell_type": "code",
   "execution_count": 4,
   "id": "2a7df2f2",
   "metadata": {},
   "outputs": [
    {
     "data": {
      "text/plain": [
       "[0, 1, 2]"
      ]
     },
     "execution_count": 4,
     "metadata": {},
     "output_type": "execute_result"
    }
   ],
   "source": [
    "left = [0, 2]\n",
    "right = [1]\n",
    "\n",
    "def merge(left, right):\n",
    "    merged = list()\n",
    "    left_point, right_point = 0, 0\n",
    "    \n",
    "    while left_point < 2 and right_point < 1:\n",
    "        if left[left_point] < right[right_point] : \n",
    "            merged.append(left[left_point])\n",
    "            left_point += 1\n",
    "        else:\n",
    "            merged.append(right[right_point])\n",
    "            right_point += 1\n",
    "            \n",
    "    while left_point < 2:\n",
    "        merged.append(left[left_point])\n",
    "        left_point += 1\n",
    "        \n",
    "    while right_point < 1:\n",
    "        merged.append(right[right_point])\n",
    "        right_point += 1\n",
    "\n",
    "    return merged\n",
    "\n",
    "merge(left, right)"
   ]
  },
  {
   "cell_type": "markdown",
   "id": "94e4610a",
   "metadata": {},
   "source": [
    "<div class=\"alert alert-block alert-warning\">\n",
    "<strong><font color=\"blue\" size=\"4em\">프로그래밍 연습</font></strong><br>\n",
    "</div>\n",
    "<pre>\n",
    "다음 경우만 프로그래밍으로 작성해보기\n",
    "left = [0, 2]\n",
    "right = [1, 3]\n",
    "결과는 별도의 리스트 변수를 만들어 적은 숫자 순으로 순서대로 저장해서 리턴\n",
    "</pre>"
   ]
  },
  {
   "cell_type": "code",
   "execution_count": 5,
   "id": "7d447db5",
   "metadata": {},
   "outputs": [
    {
     "data": {
      "text/plain": [
       "[0, 1, 2, 3]"
      ]
     },
     "execution_count": 5,
     "metadata": {},
     "output_type": "execute_result"
    }
   ],
   "source": [
    "left = [0, 2]\n",
    "right = [1, 3]\n",
    "\n",
    "def merge(left, right):\n",
    "    merged = list()\n",
    "    left_point, right_point = 0, 0\n",
    "    \n",
    "    while left_point < 2 and right_point < 2:\n",
    "        if left[left_point] < right[right_point] : \n",
    "            merged.append(left[left_point])\n",
    "            left_point += 1\n",
    "        else:\n",
    "            merged.append(right[right_point])\n",
    "            right_point += 1\n",
    "            \n",
    "    while left_point < 2:\n",
    "        merged.append(left[left_point])\n",
    "        left_point += 1\n",
    "        \n",
    "    while right_point < 2:\n",
    "        merged.append(right[right_point])\n",
    "        right_point += 1\n",
    "\n",
    "    return merged\n",
    "\n",
    "merge(left, right)"
   ]
  },
  {
   "cell_type": "markdown",
   "id": "41c6731b",
   "metadata": {
    "solution2": "hidden",
    "solution2_first": true
   },
   "source": [
    "<div class=\"alert alert-block alert-warning\">\n",
    "<strong><font color=\"blue\" size=\"4em\">프로그래밍 연습</font></strong><br>\n",
    "left, right 리스트 변수의 데이터 수가 한 개에서 여러 개가 될 수 있을때 작성해보기(일반화)\n",
    "</div>\n",
    "<pre>\n",
    "1. sorted_list 리스트 변수 선언하기\n",
    "2. left_index, right_index 를 0 으로 초기화 하기\n",
    "3. while left_index < len(left) or right_index < len(right) 이면,\n",
    "   - 만약 left_index >= len(left)이면, sorted_list 에 right[right_index] 를 추가하고, right_index 값을 1증가\n",
    "   - 만약 right_index >= len(right)이면, sorted_list 에 left[left_index] 를 추가하고, left_index 값을 1증가\n",
    "   - 만약 left[left_index] < right[right_index]이면, sorted_list 에 left[left_index] 를 추가하고, left_index 값을 1증가\n",
    "   - 위 세가지가 아니면, sorted_list 에 right[right_index] 를 추가하고, right_index 값을 1증가\n",
    "</pre>"
   ]
  },
  {
   "cell_type": "code",
   "execution_count": 6,
   "id": "afec0a7d",
   "metadata": {},
   "outputs": [],
   "source": [
    "# 위 지시대로 작성할 경우\n",
    "\n",
    "def merge(left, right):\n",
    "    sorted_list = list()\n",
    "    left_index, right_index = 0, 0\n",
    "\n",
    "    while left_index < len(left) or right_index < len(right):\n",
    "        if left_index >= len(left):\n",
    "            sorted_list.append(right[right_index])\n",
    "            right_index += 1\n",
    "        \n",
    "        elif right_index >= len(right):\n",
    "            sorted_list.append(left[left_index])\n",
    "            left_index += 1\n",
    "            \n",
    "        elif left[left_index] < right[right_index]:\n",
    "            sorted_list.append(left[left_index])\n",
    "            left_index += 1    \n",
    "        else:\n",
    "            sorted_list.append(right[right_index])\n",
    "            right_index += 1\n",
    "    \n",
    "    return sorted_list"
   ]
  },
  {
   "cell_type": "code",
   "execution_count": 7,
   "id": "4168ed91",
   "metadata": {},
   "outputs": [],
   "source": [
    "# (수업 중) 쌤 코드\n",
    "\n",
    "def merge(left, right):\n",
    "    merged = list()\n",
    "    left_point, right_point = 0, 0\n",
    "    \n",
    "    # case 1 : left 와 right 둘다 데이터가 있을 때\n",
    "    while left_point < len(left) and right_point < len(right):\n",
    "        if left[left_point] < right[right_point]:\n",
    "            merged.append(left[left_point])\n",
    "            left_point += 1\n",
    "        else:\n",
    "            merged.append(right[right_point])\n",
    "            right_point += 1\n",
    "            \n",
    "    # case 2 : left 만 데이터가 있을 때 (= right 에 데이터가 없을 때)\n",
    "    while left_point < len(left):\n",
    "        merged.append(left[left_point])\n",
    "        left_point += 1\n",
    "        \n",
    "    # case 3 : right 만 데이터가 있을 때 (= left 에 데이터가 없을 때)\n",
    "    while right_point < len(right):\n",
    "        merged.append(right[right_point])\n",
    "        right_point += 1\n",
    "        \n",
    "    return merged"
   ]
  },
  {
   "cell_type": "markdown",
   "id": "9aac11cc",
   "metadata": {},
   "source": [
    "### 최종 코드"
   ]
  },
  {
   "cell_type": "code",
   "execution_count": 8,
   "id": "9624f609",
   "metadata": {},
   "outputs": [],
   "source": [
    "# 병합 정렬 : 분할정복 활용, 재귀용법 활용, 두 개의 함수로 만듦\n",
    "\n",
    "# 데이터 분할 함수\n",
    "def mergesplit(data):\n",
    "    if len(data) <= 1:\n",
    "        return data\n",
    "    \n",
    "    medium = int(len(data) / 2)\n",
    "    left = mergesplit(data[:medium])\n",
    "    right = mergesplit(data[medium:])\n",
    "    \n",
    "    return merge(left, right)\n",
    "\n",
    "# 데이터 정렬 및 병합 함수\n",
    "def merge(left, right):\n",
    "    merged = list()\n",
    "    left_point, right_point = 0, 0\n",
    "    \n",
    "    # case 1. left 와 right 둘다 데이터가 있을 때\n",
    "    while left_point < len(left) and right_point < len(right):\n",
    "        if left[left_point] < right[right_point]:\n",
    "            merged.append(left[left_point])\n",
    "            left_point += 1\n",
    "        else:\n",
    "            merged.append(right[right_point])\n",
    "            right_point += 1\n",
    "            \n",
    "    # case 2. left 의 데이터만 있을 때\n",
    "    while left_point < len(left):\n",
    "        merged.append(left[left_point])\n",
    "        left_point += 1\n",
    "        \n",
    "    # case 2. right의 데이터만 있을 때\n",
    "    while right_point < len(right):\n",
    "        merged.append(right[right_point])\n",
    "        right_point += 1\n",
    "        \n",
    "    return merged"
   ]
  },
  {
   "cell_type": "code",
   "execution_count": 9,
   "id": "5f9e30d2",
   "metadata": {},
   "outputs": [
    {
     "name": "stdout",
     "output_type": "stream",
     "text": [
      "[39, 21, 57, 37, 15, 96, 60, 25, 70, 90]\n",
      "[15, 21, 25, 37, 39, 57, 60, 70, 90, 96]\n"
     ]
    }
   ],
   "source": [
    "import random\n",
    "\n",
    "data_list = random.sample(range(100), 10)\n",
    "print(data_list)\n",
    "\n",
    "print(mergesplit(data_list))"
   ]
  }
 ],
 "metadata": {
  "kernelspec": {
   "display_name": "Python 3 (ipykernel)",
   "language": "python",
   "name": "python3"
  },
  "language_info": {
   "codemirror_mode": {
    "name": "ipython",
    "version": 3
   },
   "file_extension": ".py",
   "mimetype": "text/x-python",
   "name": "python",
   "nbconvert_exporter": "python",
   "pygments_lexer": "ipython3",
   "version": "3.10.9"
  }
 },
 "nbformat": 4,
 "nbformat_minor": 5
}
