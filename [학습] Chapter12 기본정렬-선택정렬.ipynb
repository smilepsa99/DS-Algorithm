{
 "cells": [
  {
   "cell_type": "markdown",
   "id": "98629bfd",
   "metadata": {},
   "source": [
    "## 대표적인 정렬3: <span style=\"background-color:#fff5b1\">선택 정렬 (selection sort)</span>"
   ]
  },
  {
   "cell_type": "markdown",
   "id": "f57b5c92",
   "metadata": {},
   "source": [
    "### 1. 선택 정렬 (selection sort) 란?\n",
    "* 다음과 같은 순서를 반복하며 정렬하는 알고리즘\n",
    "  1. 주어진 데이터 중, 최소값을 찾음\n",
    "  2. 해당 최소값을 데이터 맨 앞에 위치한 값과 교체함\n",
    "  3. 맨 앞의 위치를 뺀 나머지 데이터를 동일한 방법으로 반복함"
   ]
  },
  {
   "cell_type": "markdown",
   "id": "d3c48193",
   "metadata": {},
   "source": [
    "<div class=\"alert alert-block alert-warning\">\n",
    "<strong><font color=\"blue\" size=\"4em\">프로그래밍 연습</font></strong><br>\n",
    "데이터가 두개 일때 동작하는 선택 정렬 알고리즘을 함수로 만들어보세요<br>\n",
    "</div>\n",
    "\n",
    "* 데이터가 두 개 일때\n",
    "  - 예: data = [9, 1]\n",
    "    - data[0] > data[1] 이므로 스왑 => [1,9]\n",
    "</pre>"
   ]
  },
  {
   "cell_type": "markdown",
   "id": "01bbdf42",
   "metadata": {},
   "source": [
    "<div class=\"alert alert-block alert-warning\">\n",
    "<strong><font color=\"blue\" size=\"4em\">프로그래밍 연습</font></strong><br>\n",
    "데이터가 세개 일때 동작하는 선택 정렬 알고리즘을 함수로 만들어보세요<br>\n",
    "</div>\n",
    "\n",
    "* 데이터가 세 개 일때\n",
    "  - 예: data_list = [9, 1, 7]\n",
    "    - 첫번째 턴 [9, 1, 7] : 최소값 1, 인덱스 [0]인 9와 스왑 => [1, 9, 7]\n",
    "    - 두번째 턴 [1, 9, 7] : 1 제외 최소값 7, 인덱스 [1]인 9와 스왑 => [1, 7, 9]\n",
    "</pre>"
   ]
  },
  {
   "cell_type": "markdown",
   "id": "6a7b164d",
   "metadata": {},
   "source": [
    "<div class=\"alert alert-block alert-warning\">\n",
    "<strong><font color=\"blue\" size=\"4em\">프로그래밍 연습</font></strong><br>\n",
    "데이터가 네개 일때 동작하는 선택 정렬 알고리즘을 함수로 만들어보세요<br>\n",
    "</div>\n",
    "\n",
    "* 데이터가 네 개 일때\n",
    "  - 예: data_list = [9, 3, 2, 1]\n",
    "    - 첫번째 턴 [9, 3, 2, 1] : 최소값 1, 인덱스 [0]인 9와 스왑 : [1, 3, 2, 9]\n",
    "    - 두번째 턴 [1, 3, 2, 9] : 1 제외 최소값 2, 인덱스 [1]인 3과 스왑 : [1, 2, 3, 9]\n",
    "    - 세번째 턴 [1, 2, 3, 9] : 1, 2 제외 최소값 3, 스왑 필요 X : [1, 2, 3, 9]\n",
    "\n",
    "</pre>"
   ]
  },
  {
   "cell_type": "markdown",
   "id": "09d00aea",
   "metadata": {},
   "source": [
    "### 3. 알고리즘 구현\n",
    "1. for stand in range(len(data) - 1) 로 반복 (stand = 기준값의 인덱스) - - - - - - - - - - - - - - - - - - - - - - - - - - - -\n",
    "2. lowest = stand 로 놓고,\n",
    "3. for index in range(stand + 1, len(data)) : stand 이후부터 반복\n",
    "    - 내부 루프 안에, if data[lowest] > data[index] 이면\n",
    "        - lowest =  index 로 업데이트\n",
    "4. data[lowest], data[stand] = data[stand], data[lowest] : 최소값과 기준값을 스왑 (lowest = 최소값의 인덱스)<br>\n",
    " \\- - - - - - - - - - - - - - - - - - - - - - - - - - - - - - - - - - - - - - - - - - - - - - - - - - - - - - - - - - - - - - - - - - - - - - - - - - - - -"
   ]
  },
  {
   "cell_type": "code",
   "execution_count": 1,
   "id": "cdb00d27",
   "metadata": {},
   "outputs": [],
   "source": [
    "def selection_sort(data):\n",
    "    for stand in range(len(data) - 1):\n",
    "        lowest = stand\n",
    "        for index in range(stand + 1, len(data)):\n",
    "            if data[lowest] > data[index]:\n",
    "                lowest = index\n",
    "        data[lowest], data[stand] = data[stand], data[lowest]\n",
    "        \n",
    "    return data"
   ]
  },
  {
   "cell_type": "code",
   "execution_count": 2,
   "id": "8a9bc7fd",
   "metadata": {},
   "outputs": [
    {
     "data": {
      "text/plain": [
       "[27, 36, 40, 1, 52, 26, 64, 66, 89, 19]"
      ]
     },
     "execution_count": 2,
     "metadata": {},
     "output_type": "execute_result"
    }
   ],
   "source": [
    "import random\n",
    "\n",
    "data_list = random.sample(range(100), 10)\n",
    "data_list"
   ]
  },
  {
   "cell_type": "code",
   "execution_count": 3,
   "id": "c2bf9d3a",
   "metadata": {},
   "outputs": [
    {
     "data": {
      "text/plain": [
       "[1, 19, 26, 27, 36, 40, 52, 64, 66, 89]"
      ]
     },
     "execution_count": 3,
     "metadata": {},
     "output_type": "execute_result"
    }
   ],
   "source": [
    "selection_sort(data_list)"
   ]
  }
 ],
 "metadata": {
  "kernelspec": {
   "display_name": "Python 3 (ipykernel)",
   "language": "python",
   "name": "python3"
  },
  "language_info": {
   "codemirror_mode": {
    "name": "ipython",
    "version": 3
   },
   "file_extension": ".py",
   "mimetype": "text/x-python",
   "name": "python",
   "nbconvert_exporter": "python",
   "pygments_lexer": "ipython3",
   "version": "3.10.9"
  }
 },
 "nbformat": 4,
 "nbformat_minor": 5
}
