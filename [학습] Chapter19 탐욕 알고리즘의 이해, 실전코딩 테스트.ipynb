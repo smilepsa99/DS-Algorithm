{
 "cells": [
  {
   "cell_type": "markdown",
   "id": "f36283fe",
   "metadata": {},
   "source": [
    "## <span style=\"background-color:#fff5b1\">탐욕 알고리즘</span>의 이해"
   ]
  },
  {
   "cell_type": "markdown",
   "id": "8d13d17f",
   "metadata": {},
   "source": [
    "### 2. 탐욕 알고리즘 예\n",
    "### 문제1: 동전 문제\n",
    "  - 지불해야 하는 값이 4720원 일 때 1원 50원 100원, 500원 동전으로 동전의 수가 가장 적게 지불하시오.\n",
    "    - 가장 큰 동전부터 최대한 지불해야 하는 값을 채우는 방식으로 구현 가능\n",
    "    - 탐욕 알고리즘으로 매순간 최적이라고 생각되는 경우를 선택하면 됨"
   ]
  },
  {
   "cell_type": "code",
   "execution_count": 1,
   "id": "cf9be933",
   "metadata": {},
   "outputs": [],
   "source": [
    "coin_list = [1, 50, 100, 500]"
   ]
  },
  {
   "cell_type": "code",
   "execution_count": 2,
   "id": "7f9a048f",
   "metadata": {},
   "outputs": [],
   "source": [
    "def min_coin_count(value, coin_list):\n",
    "    total_coin_count = 0\n",
    "    details = list()\n",
    "    \n",
    "    coin_list.sort(reverse=True)\n",
    "    for coin in coin_list:\n",
    "        coin_num = value // coin\n",
    "        total_coin_count += coin_num\n",
    "        value -= coin_num * coin\n",
    "        details.append([coin, coin_num])\n",
    "    return total_coin_count, details"
   ]
  },
  {
   "cell_type": "code",
   "execution_count": 3,
   "id": "42ff23b1",
   "metadata": {},
   "outputs": [
    {
     "data": {
      "text/plain": [
       "(31, [[500, 9], [100, 2], [50, 0], [1, 20]])"
      ]
     },
     "execution_count": 3,
     "metadata": {},
     "output_type": "execute_result"
    }
   ],
   "source": [
    "min_coin_count(4720, coin_list)"
   ]
  },
  {
   "cell_type": "markdown",
   "id": "50ff1698",
   "metadata": {},
   "source": [
    "### 문제2: 부분 배낭 문제 (Fractional Knapsack Problem)\n",
    "  - 무게 제한이 k인 배낭에 최대 가치를 가지도록 물건을 넣는 문제\n",
    "    - 각 물건은 무게(w)와 가치(v)로 표현될 수 있음\n",
    "    - 물건은 쪼갤 수 있으므로 물건의 일부분이 배낭에 넣어질 수 있음, 그래서 Fractional Knapsack Problem 으로 부름\n",
    "      - Fractional Knapsack Problem 의 반대로 물건을 쪼개서 넣을 수 없는 배낭 문제도 존재함 (0/1 Knapsack Problem 으로 부름)\n",
    "    <img src=\"https://www.fun-coding.org/00_Images/knapsack.png\">"
   ]
  },
  {
   "cell_type": "code",
   "execution_count": 4,
   "id": "b4306a8e",
   "metadata": {},
   "outputs": [],
   "source": [
    "data_list = [(10, 10), (15, 12), (20, 10), (25, 8), (30, 5)]"
   ]
  },
  {
   "cell_type": "code",
   "execution_count": 5,
   "id": "5e0ecb8b",
   "metadata": {},
   "outputs": [],
   "source": [
    "def get_max_value(data_list, capacity):\n",
    "    total_value = 0\n",
    "    details = list()\n",
    "    sorted(data_list, key = lambda x : x[1] / x[0], reverse = True)\n",
    "    \n",
    "    for data in data_list:\n",
    "        if capacity - data[0] >= 0:\n",
    "            total_value += data[1]\n",
    "            capacity -= data[0]\n",
    "            details.append([data[0], data[1], 1])\n",
    "        else:\n",
    "            fraction = capacity / data[0]\n",
    "            total_value += data[1] * fraction\n",
    "            details.append([data[0], data[1], fraction])\n",
    "            break\n",
    "    return total_value, details  "
   ]
  },
  {
   "cell_type": "code",
   "execution_count": 6,
   "id": "850b4c22",
   "metadata": {
    "scrolled": true
   },
   "outputs": [
    {
     "data": {
      "text/plain": [
       "(24.5, [[10, 10, 1], [15, 12, 1], [20, 10, 0.25]])"
      ]
     },
     "execution_count": 6,
     "metadata": {},
     "output_type": "execute_result"
    }
   ],
   "source": [
    "get_max_value(data_list, 30)"
   ]
  },
  {
   "cell_type": "markdown",
   "id": "d1caa8e9",
   "metadata": {},
   "source": [
    "------"
   ]
  },
  {
   "cell_type": "markdown",
   "id": "5455be6c",
   "metadata": {},
   "source": [
    "### 실전 코딩 테스트 - 탐욕 알고리즘\n",
    "> 본 문제는 각 자료구조/알고리즘을 보다 실전 문제와 연결하여 연습함으로써, 해당 자료구조/알고리즘 이해도와 숙련도를 높이기 위함입니다. 따라서, 해당 문제에서 나오는 핵심 컨셉의 구현에만 초점을 맞춤니다."
   ]
  },
  {
   "cell_type": "markdown",
   "id": "d16fea48",
   "metadata": {},
   "source": [
    "### 1. https://www.acmicpc.net/problem/11399"
   ]
  },
  {
   "cell_type": "code",
   "execution_count": 8,
   "id": "0b601623",
   "metadata": {},
   "outputs": [
    {
     "name": "stdout",
     "output_type": "stream",
     "text": [
      "5\n",
      "3 1 4 3 2\n",
      "32\n"
     ]
    }
   ],
   "source": [
    "# 내 코드 (백준 제출 답안)\n",
    "\n",
    "n = int(input())\n",
    "p = list(map(int, input().split()))\n",
    "\n",
    "total_time = 0\n",
    "atm_wait_time = 0\n",
    "p.sort()\n",
    "\n",
    "for atm_time in p:\n",
    "    atm_wait_time += atm_time\n",
    "    total_time += atm_wait_time\n",
    "\n",
    "print(total_time)"
   ]
  },
  {
   "cell_type": "code",
   "execution_count": 9,
   "id": "c7922390",
   "metadata": {},
   "outputs": [
    {
     "name": "stdout",
     "output_type": "stream",
     "text": [
      "32\n"
     ]
    }
   ],
   "source": [
    "# 쌤 코드\n",
    "\n",
    "N = 5\n",
    "N_list = [3, 1, 4, 3, 2]\n",
    "\n",
    "N_list.sort()\n",
    "\n",
    "minimum = 0\n",
    "for index in range(N):\n",
    "    for index2 in range(index + 1):\n",
    "        minimum += N_list[index2]\n",
    "\n",
    "print(minimum)"
   ]
  }
 ],
 "metadata": {
  "kernelspec": {
   "display_name": "Python 3 (ipykernel)",
   "language": "python",
   "name": "python3"
  },
  "language_info": {
   "codemirror_mode": {
    "name": "ipython",
    "version": 3
   },
   "file_extension": ".py",
   "mimetype": "text/x-python",
   "name": "python",
   "nbconvert_exporter": "python",
   "pygments_lexer": "ipython3",
   "version": "3.10.9"
  }
 },
 "nbformat": 4,
 "nbformat_minor": 5
}
