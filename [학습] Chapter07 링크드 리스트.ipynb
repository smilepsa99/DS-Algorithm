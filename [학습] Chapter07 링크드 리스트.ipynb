{
 "cells": [
  {
   "cell_type": "markdown",
   "id": "ca977526",
   "metadata": {},
   "source": [
    "### 2. 간단한 링크드 리스트 예"
   ]
  },
  {
   "cell_type": "markdown",
   "id": "8a36a895",
   "metadata": {},
   "source": [
    "#### Node 구현"
   ]
  },
  {
   "cell_type": "code",
   "execution_count": 1,
   "id": "236c0590",
   "metadata": {},
   "outputs": [],
   "source": [
    "# 포인터 없는 노드\n",
    "class Node:\n",
    "    def __init__(self, data):\n",
    "        self.data = data\n",
    "        self.next = None"
   ]
  },
  {
   "cell_type": "code",
   "execution_count": 2,
   "id": "b1fcd9b7",
   "metadata": {},
   "outputs": [],
   "source": [
    "# 포인터 없음이 기본값인 노드\n",
    "class Node:\n",
    "    def __init__ (self,data, next=None): # next에 입력된 값이 없다면, 기본값으로 None이 들어간다는 뜻\n",
    "        self.data = data\n",
    "        self.next = next"
   ]
  },
  {
   "cell_type": "markdown",
   "id": "7774c200",
   "metadata": {},
   "source": [
    "#### Node와 Node 연결하기 (포인터 활용)"
   ]
  },
  {
   "cell_type": "code",
   "execution_count": 3,
   "id": "0e2e7016",
   "metadata": {},
   "outputs": [],
   "source": [
    "node1 = Node(1)      # 데이터: 1, next(주소값): None\n",
    "node2 = Node(2)      # 데이터: 2, next(주소값): None\n",
    "node1.next = node2   # node1의 next에 node2를 넣음\n",
    "head = node1         # 가장 앞에 있는 node1의 주소를 head 라는 별도의 변수에 저장"
   ]
  },
  {
   "cell_type": "markdown",
   "id": "98ec56f0",
   "metadata": {},
   "source": [
    "#### 링크드 리스트로 데이터 추가하기"
   ]
  },
  {
   "cell_type": "code",
   "execution_count": 4,
   "id": "615e79ec",
   "metadata": {},
   "outputs": [],
   "source": [
    "class Node:\n",
    "    def __init__(self, data, next=None):\n",
    "        self.data = data\n",
    "        self.next = next\n",
    "        \n",
    "def add(data):\n",
    "    node = head\n",
    "    while node.next: # node 의 next 값이 있는 동안..\n",
    "        node = node.next\n",
    "    node.next = Node(data)"
   ]
  },
  {
   "cell_type": "code",
   "execution_count": 5,
   "id": "2b341736",
   "metadata": {},
   "outputs": [],
   "source": [
    "node1 = Node(1)  # 링크드리스트에 맨처음 노드를 만듬(데이터값: 1, 포인터: None)\n",
    "head = node1     # 맨앞에 있는 노드를 head 라는 변수에 저장\n",
    "\n",
    "for index in range(2, 10):\n",
    "    add(index)"
   ]
  },
  {
   "cell_type": "markdown",
   "id": "18215a21",
   "metadata": {},
   "source": [
    "#### 링크드 리스트 데이터 출력하기(검색하기)"
   ]
  },
  {
   "cell_type": "code",
   "execution_count": 6,
   "id": "83e691b7",
   "metadata": {},
   "outputs": [
    {
     "name": "stdout",
     "output_type": "stream",
     "text": [
      "1\n",
      "2\n",
      "3\n",
      "4\n",
      "5\n",
      "6\n",
      "7\n",
      "8\n",
      "9\n"
     ]
    }
   ],
   "source": [
    "node = head\n",
    "while node.next:\n",
    "    print(node.data)\n",
    "    node = node.next\n",
    "print(node.data)"
   ]
  },
  {
   "cell_type": "markdown",
   "id": "1e203b54",
   "metadata": {},
   "source": [
    "### 4. 링크드 리스트의 복잡한 기능1 (링크드 리스트 데이터 사이에 데이터를 추가)"
   ]
  },
  {
   "cell_type": "code",
   "execution_count": 7,
   "id": "2bbd49ed",
   "metadata": {},
   "outputs": [
    {
     "name": "stdout",
     "output_type": "stream",
     "text": [
      "1\n",
      "1.5\n",
      "2\n",
      "3\n",
      "4\n",
      "5\n",
      "6\n",
      "7\n",
      "8\n",
      "9\n"
     ]
    }
   ],
   "source": [
    "# 노드생성 클래스\n",
    "class Node: \n",
    "    def __init__ (self, data, next = None):\n",
    "        self.data = data\n",
    "        self.next = next\n",
    "\n",
    "# 노드추가 함수\n",
    "def add(data): \n",
    "    node = head\n",
    "    while node.next:      # while node.next == Ture 와 구분 (아래 링크 참고)\n",
    "        node = node.next\n",
    "    node.next = Node(data)\n",
    "\n",
    "node1 = Node(1)\n",
    "head = node1\n",
    "\n",
    "for index in range(2,10):\n",
    "    add(index)\n",
    "\n",
    "# 노드 출력\n",
    "# node = head\n",
    "# while node.next:  \n",
    "#     print(node.data)\n",
    "#     node = node.next\n",
    "# print(node.data)\n",
    "\n",
    "# 노드 추가\n",
    "node3 = Node(1.5)\n",
    "node= head\n",
    "search = True\n",
    "while search == True:\n",
    "    if node.data == 1:\n",
    "        search = False\n",
    "    else:\n",
    "        node = node.next\n",
    "\n",
    "node_next = node.next\n",
    "node.next = node3\n",
    "node3.next = node_next\n",
    "\n",
    "# 노드 추가 후 출력\n",
    "node = head\n",
    "while node.next:  \n",
    "    print(node.data)\n",
    "    node = node.next\n",
    "print(node.data)\n"
   ]
  },
  {
   "cell_type": "markdown",
   "id": "2642cae0",
   "metadata": {},
   "source": [
    "* [참고1] while 문  https://wikidocs.net/21#while_2\n",
    "* [참고2] boolean 자료형  https://wikidocs.net/17\n",
    "* [참고3] True 와 False https://www.codeit.kr/community/questions/UXVlc3Rpb246NWUzNDUyMjU4MGU1MTMzNzNkOTYzMTk5"
   ]
  },
  {
   "cell_type": "markdown",
   "id": "05a93948",
   "metadata": {},
   "source": [
    "### 5. 파이썬 객체지향 프로그래밍으로 링크드 리스트 구현하기"
   ]
  },
  {
   "cell_type": "code",
   "execution_count": 8,
   "id": "14e8b550",
   "metadata": {},
   "outputs": [
    {
     "name": "stdout",
     "output_type": "stream",
     "text": [
      "0\n",
      "1\n",
      "2\n",
      "3\n",
      "4\n",
      "5\n",
      "6\n",
      "7\n",
      "8\n",
      "9\n"
     ]
    }
   ],
   "source": [
    "# 노드 생성 Class\n",
    "class Node:\n",
    "    def __init__ (self, data, next = None):\n",
    "        self.data = data\n",
    "        self.next = next\n",
    "\n",
    "# 노드 관리(management) Class\n",
    "class NodeMgmt:\n",
    "    def __init__ (self, data):  # 첫번째 노드 설정 Method\n",
    "        self.head = Node(data)\n",
    "    \n",
    "    def add(self, data):  # 노드 추가 Method\n",
    "        if self.head == \"\": # 첫번째 노드(head) 없을 시 방어 코드\n",
    "            self.head = Node(data) \n",
    "        else:\n",
    "            node = self.head\n",
    "            while node.next:\n",
    "                node = node.next\n",
    "            node.next = Node(data)\n",
    "            \n",
    "    def desc(self):   # 노드 순회(전체출력) Method\n",
    "        node = self.head\n",
    "        while node:\n",
    "            print(node.data)\n",
    "            node = node.next\n",
    "\n",
    "# 첫번째 노드 설정\n",
    "linkedlist1 = NodeMgmt(0)\n",
    "\n",
    "# 노드 추가\n",
    "for i in range(1,10):\n",
    "    linkedlist1.add(i)\n",
    "\n",
    "# 노드 순회\n",
    "linkedlist1.desc()"
   ]
  },
  {
   "cell_type": "markdown",
   "id": "995e45d4",
   "metadata": {},
   "source": [
    "### 6. 링크드 리스트의 복잡한 기능2 (특정 노드를 삭제)\n",
    "특정 노드를 삭제할 때, 아래의 3가지 경우의 수가 있음\n",
    "1) head 삭제 : 삭제하려는 노드의 다음 노드를 head 로 설정해야 함\n",
    "2) 마지막 노드 삭제 : 삭제하려는 노드의 포인터값(None)을 이전 노드의 포인터값에 넣어줘야 함\n",
    "3) 중간노드 삭제 : 삭제하려는 노드의 포인터값을 이전 노드의 포인터값에 넣어줘야 함\n",
    "\n",
    "이를 고려해서 delete 메서드를 추가함"
   ]
  },
  {
   "cell_type": "code",
   "execution_count": 10,
   "id": "734ad822",
   "metadata": {},
   "outputs": [],
   "source": [
    "# 노드 생성 Class\n",
    "class Node:\n",
    "    def __init__ (self, data, next = None):\n",
    "        self.data = data\n",
    "        self.next = next\n",
    "\n",
    "# 노드 관리 Class (첫번째 노드 설정 / 노드 추가 / 노드 순회 / 노드 삭제 method 가 있음)\n",
    "class NodeMgmt:\n",
    "    def __init__ (self, data):\n",
    "        self.head = Node(data)\n",
    "    \n",
    "    def add(self, data):\n",
    "        if self.head == \"\": # 첫번째 노드(head) 없을 시 방어 코드\n",
    "            self.head = Node(data)\n",
    "        else:\n",
    "            node = self.head\n",
    "            while node.next:\n",
    "                node = node.next\n",
    "            node.next = Node(data)\n",
    "            \n",
    "    def desc(self):\n",
    "        node = self.head\n",
    "        while node:\n",
    "            print(node.data)\n",
    "            node = node.next\n",
    "            \n",
    "    def delete(self, data):\n",
    "        if self.head.data == \"\": # 첫번째 노드(head) 없을 시 방어 코드\n",
    "            print(\"해당 값을 가진 노드가 없습니다.\")\n",
    "            return  # 함수(def) 탈출\n",
    "                                        # 1. head 삭제할 경우        \n",
    "        if self.head.data == data:      # head의 데이터값이 입력된 data 와 일치한다면..\n",
    "            temp = self.head            # temp 라는 변수에 기존의 head 임시로 저장\n",
    "            self.head = self.head.next  # head 에 기존 head의 다음 노드를 저장\n",
    "            del temp                    # 기존 head가 저장된 temp 삭제\n",
    "                                               # 2. 마지막 노드 / 3. 중간 노드 삭제할 경우\n",
    "        else:                                  # head의 데이터값이 입력된 data 와 일치하지 않다면..\n",
    "            node = self.head                   # node 라는 변수에 head 를 저장\n",
    "            while node.next:                   # node의 포인터값이 있는 동안 아래 코드 실행 \n",
    "                if node.next.data == data:     # node 의 다음 노드의 데이터값이 입력된 data 와 일치한다면..\n",
    "                    temp = node.next           # temp 라는 변수에 node 의 다음 노드를 임시로 저장     \n",
    "                    node.next = node.next.next # node의 포인터값에 node 의 다음 노드의 포인터값을 저장\n",
    "                    del temp                   # node 의 다음 노드였던 temp 삭제\n",
    "                    return                     # 함수(def) 탈출\n",
    "                else:                          # node 의 다음 노드의 데이터값이 입력된 data 와 일치하지 않다면..\n",
    "                    node = node.next           # 변수 node 에 node의 다음 노드를 넣어라"
   ]
  },
  {
   "cell_type": "markdown",
   "id": "826b83ff",
   "metadata": {},
   "source": [
    "#### 테스트를 위해 1개 노드를 만들어 봄"
   ]
  },
  {
   "cell_type": "code",
   "execution_count": 11,
   "id": "fefc7232",
   "metadata": {
    "scrolled": true
   },
   "outputs": [
    {
     "name": "stdout",
     "output_type": "stream",
     "text": [
      "0\n"
     ]
    }
   ],
   "source": [
    "linkedlist1 = NodeMgmt(0)\n",
    "linkedlist1.desc()"
   ]
  },
  {
   "cell_type": "markdown",
   "id": "944a467b",
   "metadata": {},
   "source": [
    "#### head 가 살아있음을 확인"
   ]
  },
  {
   "cell_type": "code",
   "execution_count": 12,
   "id": "14bc646b",
   "metadata": {},
   "outputs": [
    {
     "data": {
      "text/plain": [
       "<__main__.Node at 0x1668c9422f0>"
      ]
     },
     "execution_count": 12,
     "metadata": {},
     "output_type": "execute_result"
    }
   ],
   "source": [
    "linkedlist1.head"
   ]
  },
  {
   "cell_type": "markdown",
   "id": "acb6fb9f",
   "metadata": {},
   "source": [
    "#### head 삭제해보기 (위에서 언급한, 1번의 경우)"
   ]
  },
  {
   "cell_type": "code",
   "execution_count": 13,
   "id": "619c5b53",
   "metadata": {},
   "outputs": [],
   "source": [
    "linkedlist1.delete(0)"
   ]
  },
  {
   "cell_type": "markdown",
   "id": "14fe8c0b",
   "metadata": {},
   "source": [
    "#### 다음 코드 실행시 아무것도 안나온다는 것은 linkedlist1.head 가 정상적으로 삭제되었음을 의미"
   ]
  },
  {
   "cell_type": "code",
   "execution_count": 14,
   "id": "699966c6",
   "metadata": {},
   "outputs": [],
   "source": [
    "linkedlist1.head"
   ]
  },
  {
   "cell_type": "markdown",
   "id": "2904cd7b",
   "metadata": {},
   "source": [
    "#### 다시 하나의 노드를 만들어봄"
   ]
  },
  {
   "cell_type": "code",
   "execution_count": 15,
   "id": "d20ad9eb",
   "metadata": {},
   "outputs": [
    {
     "name": "stdout",
     "output_type": "stream",
     "text": [
      "0\n"
     ]
    }
   ],
   "source": [
    "linkedlist1 = NodeMgmt(0)\n",
    "linkedlist1.desc()"
   ]
  },
  {
   "cell_type": "markdown",
   "id": "7437a396",
   "metadata": {},
   "source": [
    "#### 이번엔 여러 노드를 추가 후 출력함"
   ]
  },
  {
   "cell_type": "code",
   "execution_count": 16,
   "id": "8ae2464a",
   "metadata": {},
   "outputs": [
    {
     "name": "stdout",
     "output_type": "stream",
     "text": [
      "0\n",
      "1\n",
      "2\n",
      "3\n",
      "4\n",
      "5\n",
      "6\n",
      "7\n",
      "8\n",
      "9\n"
     ]
    }
   ],
   "source": [
    "for data in range(1,10):\n",
    "    linkedlist1.add(data)\n",
    "    \n",
    "linkedlist1.desc()"
   ]
  },
  {
   "cell_type": "markdown",
   "id": "72e93c70",
   "metadata": {},
   "source": [
    "#### 노드 중에 한개를 삭제함 (위에서 언급한, 2번의 경우)"
   ]
  },
  {
   "cell_type": "code",
   "execution_count": 17,
   "id": "b9f0699e",
   "metadata": {},
   "outputs": [],
   "source": [
    "linkedlist1.delete(4)"
   ]
  },
  {
   "cell_type": "markdown",
   "id": "1079d440",
   "metadata": {},
   "source": [
    "#### 특정 노드가 삭제됐는지 출력해서 확인 (4가 삭제됨)"
   ]
  },
  {
   "cell_type": "code",
   "execution_count": 18,
   "id": "2d69de51",
   "metadata": {},
   "outputs": [
    {
     "name": "stdout",
     "output_type": "stream",
     "text": [
      "0\n",
      "1\n",
      "2\n",
      "3\n",
      "5\n",
      "6\n",
      "7\n",
      "8\n",
      "9\n"
     ]
    }
   ],
   "source": [
    "linkedlist1.desc()"
   ]
  },
  {
   "cell_type": "markdown",
   "id": "04cb13ff",
   "metadata": {},
   "source": [
    "#### 노드 중에 마지막 것을 삭제함 (위에서 언급한, 3번의 경우)"
   ]
  },
  {
   "cell_type": "code",
   "execution_count": 19,
   "id": "3f182556",
   "metadata": {},
   "outputs": [],
   "source": [
    "linkedlist1.delete(9)"
   ]
  },
  {
   "cell_type": "markdown",
   "id": "a504ccfe",
   "metadata": {},
   "source": [
    "#### 특정 노드가 삭제됐는지 출력해서 확인 (9가 삭제됨)"
   ]
  },
  {
   "cell_type": "code",
   "execution_count": 20,
   "id": "9c344e4b",
   "metadata": {},
   "outputs": [
    {
     "name": "stdout",
     "output_type": "stream",
     "text": [
      "0\n",
      "1\n",
      "2\n",
      "3\n",
      "5\n",
      "6\n",
      "7\n",
      "8\n"
     ]
    }
   ],
   "source": [
    "linkedlist1.desc()"
   ]
  },
  {
   "cell_type": "markdown",
   "id": "1a6db95a",
   "metadata": {},
   "source": [
    "<div class=\"alert alert-block alert-warning\">\n",
    "<strong><font color=\"blue\" size=\"3em\">연습1: 위 코드에서 노드 데이터가 2인 노드 삭제해보기</font></strong>\n",
    "</div>"
   ]
  },
  {
   "cell_type": "code",
   "execution_count": null,
   "id": "cc55c879",
   "metadata": {},
   "outputs": [],
   "source": []
  },
  {
   "cell_type": "markdown",
   "id": "f98d011d",
   "metadata": {},
   "source": [
    "<div class=\"alert alert-block alert-warning\">\n",
    "<strong><font color=\"blue\" size=\"3em\">연습2: 위 코드에서 노드 데이터가 특정 숫자인 노드를 찾는 함수를 만들고, 테스트해보기</font></strong><br>\n",
    "테스트: 임의로 1 ~ 9까지 데이터를 링크드 리스트에 넣어보고, 데이터 값이 4인 노드의 데이터 값 출력해보기\n",
    "</div>"
   ]
  },
  {
   "cell_type": "code",
   "execution_count": null,
   "id": "d1fb2ba3",
   "metadata": {},
   "outputs": [],
   "source": []
  }
 ],
 "metadata": {
  "kernelspec": {
   "display_name": "Python 3 (ipykernel)",
   "language": "python",
   "name": "python3"
  },
  "language_info": {
   "codemirror_mode": {
    "name": "ipython",
    "version": 3
   },
   "file_extension": ".py",
   "mimetype": "text/x-python",
   "name": "python",
   "nbconvert_exporter": "python",
   "pygments_lexer": "ipython3",
   "version": "3.10.9"
  }
 },
 "nbformat": 4,
 "nbformat_minor": 5
}
