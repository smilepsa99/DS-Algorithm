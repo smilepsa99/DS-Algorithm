{
 "cells": [
  {
   "cell_type": "markdown",
   "id": "ca977526",
   "metadata": {},
   "source": [
    "### 2. 간단한 링크드 리스트 예"
   ]
  },
  {
   "cell_type": "markdown",
   "id": "8a36a895",
   "metadata": {},
   "source": [
    "#### Node 구현"
   ]
  },
  {
   "cell_type": "code",
   "execution_count": 1,
   "id": "236c0590",
   "metadata": {},
   "outputs": [],
   "source": [
    "# 포인터 없는 노드\n",
    "class Node:\n",
    "    def __init__(self, data):\n",
    "        self.data = data\n",
    "        self.next = None"
   ]
  },
  {
   "cell_type": "code",
   "execution_count": 2,
   "id": "b1fcd9b7",
   "metadata": {},
   "outputs": [],
   "source": [
    "# 포인터 없음이 기본값인 노드\n",
    "class Node:\n",
    "    def __init__ (self,data, next=None): # next에 입력된 값이 없다면, 기본값으로 None이 들어간다는 뜻\n",
    "        self.data = data\n",
    "        self.next = next"
   ]
  },
  {
   "cell_type": "markdown",
   "id": "7774c200",
   "metadata": {},
   "source": [
    "#### Node와 Node 연결하기 (포인터 활용)"
   ]
  },
  {
   "cell_type": "code",
   "execution_count": 3,
   "id": "0e2e7016",
   "metadata": {},
   "outputs": [],
   "source": [
    "node1 = Node(1)      # 데이터: 1, next(주소값): None\n",
    "node2 = Node(2)      # 데이터: 2, next(주소값): None\n",
    "node1.next = node2   # node1의 next에 node2를 넣음\n",
    "head = node1         # 가장 앞에 있는 node1의 주소를 head 라는 별도의 변수에 저장"
   ]
  },
  {
   "cell_type": "markdown",
   "id": "98ec56f0",
   "metadata": {},
   "source": [
    "#### 링크드 리스트로 데이터 추가하기"
   ]
  },
  {
   "cell_type": "code",
   "execution_count": 4,
   "id": "615e79ec",
   "metadata": {},
   "outputs": [],
   "source": [
    "class Node:\n",
    "    def __init__(self, data, next=None):\n",
    "        self.data = data\n",
    "        self.next = next\n",
    "        \n",
    "def add(data):\n",
    "    node = head\n",
    "    while node.next: # node 의 next 값이 있는 동안..\n",
    "        node = node.next\n",
    "    node.next = Node(data)"
   ]
  },
  {
   "cell_type": "code",
   "execution_count": 5,
   "id": "2b341736",
   "metadata": {},
   "outputs": [],
   "source": [
    "node1 = Node(1)  # 링크드리스트에 맨처음 노드를 만듬(데이터값: 1, 포인터: None)\n",
    "head = node1     # 맨앞에 있는 노드를 head 라는 변수에 저장\n",
    "\n",
    "for index in range(2, 10):\n",
    "    add(index)"
   ]
  },
  {
   "cell_type": "markdown",
   "id": "18215a21",
   "metadata": {},
   "source": [
    "#### 링크드 리스트 데이터 출력하기(검색하기)"
   ]
  },
  {
   "cell_type": "code",
   "execution_count": 6,
   "id": "83e691b7",
   "metadata": {},
   "outputs": [
    {
     "name": "stdout",
     "output_type": "stream",
     "text": [
      "1\n",
      "2\n",
      "3\n",
      "4\n",
      "5\n",
      "6\n",
      "7\n",
      "8\n",
      "9\n"
     ]
    }
   ],
   "source": [
    "node = head\n",
    "while node.next:\n",
    "    print(node.data)\n",
    "    node = node.next\n",
    "print(node.data)"
   ]
  },
  {
   "cell_type": "markdown",
   "id": "1e203b54",
   "metadata": {},
   "source": [
    "### 4. 링크드 리스트의 복잡한 기능1 (링크드 리스트 데이터 사이에 데이터를 추가)"
   ]
  },
  {
   "cell_type": "code",
   "execution_count": 7,
   "id": "2bbd49ed",
   "metadata": {},
   "outputs": [
    {
     "name": "stdout",
     "output_type": "stream",
     "text": [
      "1\n",
      "1.5\n",
      "2\n",
      "3\n",
      "4\n",
      "5\n",
      "6\n",
      "7\n",
      "8\n",
      "9\n"
     ]
    }
   ],
   "source": [
    "# 노드생성 클래스\n",
    "class Node: \n",
    "    def __init__ (self, data, next = None):\n",
    "        self.data = data\n",
    "        self.next = next\n",
    "\n",
    "# 노드추가 함수\n",
    "def add(data): \n",
    "    node = head\n",
    "    while node.next:      # while node.next == Ture 와 구분 (아래 링크 참고)\n",
    "        node = node.next\n",
    "    node.next = Node(data)\n",
    "\n",
    "node1 = Node(1)\n",
    "head = node1\n",
    "\n",
    "for index in range(2,10):\n",
    "    add(index)\n",
    "\n",
    "# 노드 출력\n",
    "# node = head\n",
    "# while node.next:  \n",
    "#     print(node.data)\n",
    "#     node = node.next\n",
    "# print(node.data)\n",
    "\n",
    "# 노드 추가\n",
    "node3 = Node(1.5)\n",
    "node= head\n",
    "search = True\n",
    "while search == True:\n",
    "    if node.data == 1:\n",
    "        search = False\n",
    "    else:\n",
    "        node = node.next\n",
    "\n",
    "node_next = node.next\n",
    "node.next = node3\n",
    "node3.next = node_next\n",
    "\n",
    "# 노드 추가 후 출력\n",
    "node = head\n",
    "while node.next:  \n",
    "    print(node.data)\n",
    "    node = node.next\n",
    "print(node.data)\n"
   ]
  },
  {
   "cell_type": "markdown",
   "id": "2642cae0",
   "metadata": {},
   "source": [
    "* [참고1] while 문  https://wikidocs.net/21#while_2\n",
    "* [참고2] boolean 자료형  https://wikidocs.net/17\n",
    "* [참고3] True 와 False https://www.codeit.kr/community/questions/UXVlc3Rpb246NWUzNDUyMjU4MGU1MTMzNzNkOTYzMTk5"
   ]
  },
  {
   "cell_type": "markdown",
   "id": "05a93948",
   "metadata": {},
   "source": [
    "### 5. 파이썬 객체지향 프로그래밍으로 링크드 리스트 구현하기"
   ]
  },
  {
   "cell_type": "code",
   "execution_count": 8,
   "id": "14e8b550",
   "metadata": {},
   "outputs": [
    {
     "name": "stdout",
     "output_type": "stream",
     "text": [
      "0\n",
      "1\n",
      "2\n",
      "3\n",
      "4\n",
      "5\n",
      "6\n",
      "7\n",
      "8\n",
      "9\n"
     ]
    }
   ],
   "source": [
    "# 노드 생성 Class\n",
    "class Node:\n",
    "    def __init__ (self, data, next = None):\n",
    "        self.data = data\n",
    "        self.next = next\n",
    "\n",
    "# 노드 관리(management) Class\n",
    "class NodeMgmt:\n",
    "    def __init__ (self, data):  # 첫번째 노드 설정 Method\n",
    "        self.head = Node(data)\n",
    "    \n",
    "    def add(self, data):  # 노드 추가 Method\n",
    "        if self.head == \"\": # 첫번째 노드(head) 없을 시 방어 코드\n",
    "            self.head = Node(data) \n",
    "        else:\n",
    "            node = self.head\n",
    "            while node.next:\n",
    "                node = node.next\n",
    "            node.next = Node(data)\n",
    "            \n",
    "    def desc(self):   # 노드 순회(전체출력) Method\n",
    "        node = self.head\n",
    "        while node:\n",
    "            print(node.data)\n",
    "            node = node.next\n",
    "\n",
    "# 첫번째 노드 설정\n",
    "linkedlist1 = NodeMgmt(0)\n",
    "\n",
    "# 노드 추가\n",
    "for i in range(1,10):\n",
    "    linkedlist1.add(i)\n",
    "\n",
    "# 노드 순회\n",
    "linkedlist1.desc()"
   ]
  },
  {
   "cell_type": "markdown",
   "id": "995e45d4",
   "metadata": {},
   "source": [
    "### 6. 링크드 리스트의 복잡한 기능2 (특정 노드를 삭제)\n",
    "특정 노드를 삭제할 때, 아래의 3가지 경우의 수가 있음\n",
    "1) head 삭제 : 삭제하려는 노드의 다음 노드를 head 로 설정해야 함\n",
    "2) 마지막 노드 삭제 : 삭제하려는 노드의 포인터값(None)을 이전 노드의 포인터값에 넣어줘야 함\n",
    "3) 중간노드 삭제 : 삭제하려는 노드의 포인터값을 이전 노드의 포인터값에 넣어줘야 함\n",
    "\n",
    "이를 고려해서 delete 메서드를 추가함"
   ]
  },
  {
   "cell_type": "code",
   "execution_count": 9,
   "id": "734ad822",
   "metadata": {},
   "outputs": [],
   "source": [
    "# 노드 생성 Class\n",
    "class Node:\n",
    "    def __init__ (self, data, next = None):\n",
    "        self.data = data\n",
    "        self.next = next\n",
    "\n",
    "# 노드 관리 Class (첫번째 노드 설정 / 노드 추가 / 노드 순회 / 노드 삭제 method 가 있음)\n",
    "class NodeMgmt:\n",
    "    def __init__ (self, data):\n",
    "        self.head = Node(data)\n",
    "    \n",
    "    def add(self, data):\n",
    "        if self.head == \"\": # 첫번째 노드(head) 없을 시 방어 코드\n",
    "            self.head = Node(data)\n",
    "        else:\n",
    "            node = self.head\n",
    "            while node.next:\n",
    "                node = node.next\n",
    "            node.next = Node(data)\n",
    "            \n",
    "    def desc(self):\n",
    "        node = self.head\n",
    "        while node:\n",
    "            print(node.data)\n",
    "            node = node.next\n",
    "            \n",
    "    def delete(self, data):\n",
    "        if self.head == \"\": # 첫번째 노드(head) 없을 시 방어 코드\n",
    "            print(\"해당 값을 가진 노드가 없습니다.\")\n",
    "            return  # 함수(def) 탈출\n",
    "                                        # 1. head 삭제할 경우        \n",
    "        if self.head.data == data:      # head의 데이터값이 입력된 data 와 일치한다면..\n",
    "            temp = self.head            # temp 라는 변수에 기존의 head 임시로 저장\n",
    "            self.head = self.head.next  # head 에 기존 head의 다음 노드를 저장\n",
    "            del temp                    # 기존 head가 저장된 temp 삭제\n",
    "                                               # 2. 마지막 노드 / 3. 중간 노드 삭제할 경우\n",
    "        else:                                  # head의 데이터값이 입력된 data 와 일치하지 않다면..\n",
    "            node = self.head                   # node 라는 변수에 head 를 저장\n",
    "            while node.next:                   # node의 포인터값이 있는 동안 아래 코드 실행 \n",
    "                if node.next.data == data:     # node 의 다음 노드의 데이터값이 입력된 data 와 일치한다면..\n",
    "                    temp = node.next           # temp 라는 변수에 node 의 다음 노드를 임시로 저장     \n",
    "                    node.next = node.next.next # node의 포인터값에 node 의 다음 노드의 포인터값을 저장\n",
    "                    del temp                   # node 의 다음 노드였던 temp 삭제\n",
    "                    return                     # 함수(def) 탈출\n",
    "                else:                          # node 의 다음 노드의 데이터값이 입력된 data 와 일치하지 않다면..\n",
    "                    node = node.next           # 변수 node 에 node의 다음 노드를 넣어라"
   ]
  },
  {
   "cell_type": "markdown",
   "id": "826b83ff",
   "metadata": {},
   "source": [
    "#### 테스트를 위해 1개 노드를 만들어 봄"
   ]
  },
  {
   "cell_type": "code",
   "execution_count": 10,
   "id": "fefc7232",
   "metadata": {
    "scrolled": true
   },
   "outputs": [
    {
     "name": "stdout",
     "output_type": "stream",
     "text": [
      "0\n"
     ]
    }
   ],
   "source": [
    "linkedlist1 = NodeMgmt(0)\n",
    "linkedlist1.desc()"
   ]
  },
  {
   "cell_type": "markdown",
   "id": "944a467b",
   "metadata": {},
   "source": [
    "#### head 가 살아있음을 확인"
   ]
  },
  {
   "cell_type": "code",
   "execution_count": 11,
   "id": "14bc646b",
   "metadata": {},
   "outputs": [
    {
     "data": {
      "text/plain": [
       "<__main__.Node at 0x20cd6620100>"
      ]
     },
     "execution_count": 11,
     "metadata": {},
     "output_type": "execute_result"
    }
   ],
   "source": [
    "linkedlist1.head"
   ]
  },
  {
   "cell_type": "markdown",
   "id": "acb6fb9f",
   "metadata": {},
   "source": [
    "#### head 삭제해보기 (위에서 언급한, 1번의 경우)"
   ]
  },
  {
   "cell_type": "code",
   "execution_count": 12,
   "id": "619c5b53",
   "metadata": {},
   "outputs": [],
   "source": [
    "linkedlist1.delete(0)"
   ]
  },
  {
   "cell_type": "markdown",
   "id": "14fe8c0b",
   "metadata": {},
   "source": [
    "#### 다음 코드 실행시 아무것도 안나온다는 것은 linkedlist1.head 가 정상적으로 삭제되었음을 의미"
   ]
  },
  {
   "cell_type": "code",
   "execution_count": 13,
   "id": "699966c6",
   "metadata": {},
   "outputs": [],
   "source": [
    "linkedlist1.head"
   ]
  },
  {
   "cell_type": "markdown",
   "id": "2904cd7b",
   "metadata": {},
   "source": [
    "#### 다시 하나의 노드를 만들어봄"
   ]
  },
  {
   "cell_type": "code",
   "execution_count": 14,
   "id": "d20ad9eb",
   "metadata": {},
   "outputs": [
    {
     "name": "stdout",
     "output_type": "stream",
     "text": [
      "0\n"
     ]
    }
   ],
   "source": [
    "linkedlist1 = NodeMgmt(0)\n",
    "linkedlist1.desc()"
   ]
  },
  {
   "cell_type": "markdown",
   "id": "7437a396",
   "metadata": {},
   "source": [
    "#### 이번엔 여러 노드를 추가 후 출력함"
   ]
  },
  {
   "cell_type": "code",
   "execution_count": 15,
   "id": "8ae2464a",
   "metadata": {},
   "outputs": [
    {
     "name": "stdout",
     "output_type": "stream",
     "text": [
      "0\n",
      "1\n",
      "2\n",
      "3\n",
      "4\n",
      "5\n",
      "6\n",
      "7\n",
      "8\n",
      "9\n"
     ]
    }
   ],
   "source": [
    "for data in range(1,10):\n",
    "    linkedlist1.add(data)\n",
    "    \n",
    "linkedlist1.desc()"
   ]
  },
  {
   "cell_type": "markdown",
   "id": "72e93c70",
   "metadata": {},
   "source": [
    "#### 노드 중에 한개를 삭제함 (위에서 언급한, 2번의 경우)"
   ]
  },
  {
   "cell_type": "code",
   "execution_count": 16,
   "id": "b9f0699e",
   "metadata": {},
   "outputs": [],
   "source": [
    "linkedlist1.delete(4)"
   ]
  },
  {
   "cell_type": "markdown",
   "id": "1079d440",
   "metadata": {},
   "source": [
    "#### 특정 노드가 삭제됐는지 출력해서 확인 (4가 삭제됨)"
   ]
  },
  {
   "cell_type": "code",
   "execution_count": 17,
   "id": "2d69de51",
   "metadata": {},
   "outputs": [
    {
     "name": "stdout",
     "output_type": "stream",
     "text": [
      "0\n",
      "1\n",
      "2\n",
      "3\n",
      "5\n",
      "6\n",
      "7\n",
      "8\n",
      "9\n"
     ]
    }
   ],
   "source": [
    "linkedlist1.desc()"
   ]
  },
  {
   "cell_type": "markdown",
   "id": "04cb13ff",
   "metadata": {},
   "source": [
    "#### 노드 중에 마지막 것을 삭제함 (위에서 언급한, 3번의 경우)"
   ]
  },
  {
   "cell_type": "code",
   "execution_count": 18,
   "id": "3f182556",
   "metadata": {},
   "outputs": [],
   "source": [
    "linkedlist1.delete(9)"
   ]
  },
  {
   "cell_type": "markdown",
   "id": "a504ccfe",
   "metadata": {},
   "source": [
    "#### 특정 노드가 삭제됐는지 출력해서 확인 (9가 삭제됨)"
   ]
  },
  {
   "cell_type": "code",
   "execution_count": 19,
   "id": "9c344e4b",
   "metadata": {},
   "outputs": [
    {
     "name": "stdout",
     "output_type": "stream",
     "text": [
      "0\n",
      "1\n",
      "2\n",
      "3\n",
      "5\n",
      "6\n",
      "7\n",
      "8\n"
     ]
    }
   ],
   "source": [
    "linkedlist1.desc()"
   ]
  },
  {
   "cell_type": "markdown",
   "id": "1a6db95a",
   "metadata": {},
   "source": [
    "<div class=\"alert alert-block alert-warning\">\n",
    "<strong><font color=\"blue\" size=\"3em\">연습1: 위 코드에서 노드 데이터가 2인 노드 삭제해보기</font></strong>\n",
    "</div>"
   ]
  },
  {
   "cell_type": "code",
   "execution_count": 20,
   "id": "cc55c879",
   "metadata": {},
   "outputs": [
    {
     "name": "stdout",
     "output_type": "stream",
     "text": [
      "0\n",
      "1\n",
      "3\n",
      "5\n",
      "6\n",
      "7\n",
      "8\n"
     ]
    }
   ],
   "source": [
    "linkedlist1.delete(2)\n",
    "linkedlist1.desc()"
   ]
  },
  {
   "cell_type": "markdown",
   "id": "f98d011d",
   "metadata": {},
   "source": [
    "<div class=\"alert alert-block alert-warning\">\n",
    "<strong><font color=\"blue\" size=\"3em\">연습2: 위 코드에서 노드 데이터가 특정 숫자인 노드를 찾는 함수를 만들고, 테스트해보기</font></strong><br>\n",
    "테스트: 임의로 0 ~ 9까지 데이터를 링크드 리스트에 넣어보고, 데이터 값이 4인 노드의 데이터 값 출력해보기\n",
    "</div>"
   ]
  },
  {
   "cell_type": "code",
   "execution_count": 21,
   "id": "d1fb2ba3",
   "metadata": {},
   "outputs": [],
   "source": [
    "# [Class] 노드 생성\n",
    "class Node:\n",
    "    def __init__(self, data, next = None):\n",
    "        self.data = data\n",
    "        self.next = next\n",
    "\n",
    "# [Class] 노드 관리 ([Method] 첫번째 노드 설정 / 노드 추가 / 노드 순회 / 노드 삭제 / 노드 찾기)\n",
    "class NodeMgmt:\n",
    "    def __init__(self, data):\n",
    "        self.head = Node(data)\n",
    "\n",
    "    def add(self, data):\n",
    "        if self.head == \"\":  # 방어코드\n",
    "            self.head = Node(data)\n",
    "        else:\n",
    "            node = self.head\n",
    "            while node.next:\n",
    "                node = node.next\n",
    "            node.next = Node(data)\n",
    "    \n",
    "    def desc(self):\n",
    "        node = self.head\n",
    "        while node:\n",
    "            print(node.data)\n",
    "            node = node.next\n",
    "            \n",
    "    def delete(self, data):\n",
    "        if self.head == \"\": # 방어코드\n",
    "            print(\"해당 값을 가진 노드가 없습니다.\")\n",
    "            return\n",
    "        \n",
    "        if self.head.data == data: # 1) head 삭제일 경우\n",
    "            temp = self.head\n",
    "            self.head = self.head.next\n",
    "            del temp\n",
    "        else:\n",
    "            node = self.head\n",
    "            while node.next: # 2) 중간노드 삭제 or 3) 마지막 노드 삭제일 경우\n",
    "                if node.next.data == data:\n",
    "                    temp = node.next\n",
    "                    node.next = node.next.next\n",
    "                    del temp\n",
    "                    return\n",
    "                else:\n",
    "                    node = node.next\n",
    "    \n",
    "    def search_node(self,data):\n",
    "        node = self.head\n",
    "        while node:\n",
    "            if node.data == data:\n",
    "                return node\n",
    "            else:\n",
    "                node = node.next"
   ]
  },
  {
   "cell_type": "code",
   "execution_count": 22,
   "id": "43e44f21",
   "metadata": {},
   "outputs": [],
   "source": [
    "linkedlist2 = NodeMgmt(0)\n",
    "for i in range(1,10):\n",
    "    linkedlist2.add(i)"
   ]
  },
  {
   "cell_type": "code",
   "execution_count": 23,
   "id": "91e96951",
   "metadata": {},
   "outputs": [
    {
     "name": "stdout",
     "output_type": "stream",
     "text": [
      "4\n"
     ]
    }
   ],
   "source": [
    "node = linkedlist2.search_node(4)\n",
    "print(node.data)"
   ]
  },
  {
   "cell_type": "markdown",
   "id": "117a12d5",
   "metadata": {},
   "source": [
    "### 7. 다양한 링크드 리스트 구조 \n",
    "* 더블 링크드 리스트(Doubly linked list) 기본 구조 \n",
    "  - 이중 연결 리스트라고도 함\n",
    "  - 장점: 양방향으로 연결되어 있어서 노드 탐색이 양쪽으로 모두 가능"
   ]
  },
  {
   "cell_type": "code",
   "execution_count": 24,
   "id": "996bea2f",
   "metadata": {},
   "outputs": [],
   "source": [
    "class Node:\n",
    "    def __init__(self, data, prev = None, next = None):\n",
    "        self.prev = prev\n",
    "        self.data = data\n",
    "        self.next = next\n",
    "        \n",
    "class NodeMgmt:\n",
    "    def __init__(self, data):\n",
    "        self.head = Node(data)\n",
    "        self.tail = self.head\n",
    "    \n",
    "    def insert(self, data):\n",
    "        if self.head == None:\n",
    "            self.head = Node(data)\n",
    "            self.tail = self.head\n",
    "        else:\n",
    "            node = self.head\n",
    "            while node.next:\n",
    "                node = node.next\n",
    "            new = Node(data)\n",
    "            node.next = new\n",
    "            new.prev = node\n",
    "            self.tail = new\n",
    "            \n",
    "    def desc(self):\n",
    "        node = self.head\n",
    "        while node:\n",
    "            print(node.data)\n",
    "            node = node.next"
   ]
  },
  {
   "cell_type": "code",
   "execution_count": 25,
   "id": "3639d5da",
   "metadata": {},
   "outputs": [
    {
     "name": "stdout",
     "output_type": "stream",
     "text": [
      "0\n",
      "1\n",
      "2\n",
      "3\n",
      "4\n",
      "5\n",
      "6\n",
      "7\n",
      "8\n",
      "9\n"
     ]
    }
   ],
   "source": [
    "double_linked_list = NodeMgmt(0)\n",
    "for data in range(1,10):\n",
    "    double_linked_list.insert(data)\n",
    "double_linked_list.desc()"
   ]
  },
  {
   "cell_type": "markdown",
   "id": "fd4a14da",
   "metadata": {},
   "source": [
    "<div class=\"alert alert-block alert-warning\">\n",
    "<strong><font color=\"blue\" size=\"3em\">연습3: 위 코드에서 노드 데이터가 특정 숫자인 노드 앞에 데이터를 추가하는 함수를 만들고, 테스트해보기</font></strong><br>\n",
    "- 더블 링크드 리스트의 tail 에서부터 뒤로 이동하며, 특정 숫자인 노드를 찾는 방식으로 함수를 구현하기<br>\n",
    "- 테스트: 임의로 0 ~ 9까지 데이터를 링크드 리스트에 넣어보고, 데이터 값이 2인 노드 앞에 1.5 데이터 값을 가진 노드를 추가해보기\n",
    "</div>"
   ]
  },
  {
   "cell_type": "code",
   "execution_count": 29,
   "id": "89134dc7",
   "metadata": {},
   "outputs": [],
   "source": [
    "class Node:\n",
    "    def __init__(self, data, prev = None, next = None):\n",
    "        self.prev = prev\n",
    "        self.data = data\n",
    "        self.next = next\n",
    "        \n",
    "class NodeMgmt:\n",
    "    def __init__(self, data):\n",
    "        self.head = Node(data)\n",
    "        self.tail = self.head\n",
    "    \n",
    "    def insert(self, data):\n",
    "        if self.head == None:\n",
    "            self.head = Node(data)\n",
    "            self.tail = self.head\n",
    "        else:\n",
    "            node = self.head\n",
    "            while node.next:\n",
    "                node = node.next\n",
    "            new = Node(data)\n",
    "            node.next = new\n",
    "            new.prev = node\n",
    "            self.tail = new\n",
    "            \n",
    "    def desc(self):\n",
    "        node = self.head\n",
    "        while node:\n",
    "            print(node.data)\n",
    "            node = node.next\n",
    "            \n",
    "    def search_from_head(self, data): # 앞에서부터 node 검색\n",
    "        if self.head == None: # 방어코드\n",
    "            return False\n",
    "        \n",
    "        node = self.head\n",
    "        while node:\n",
    "            if node.data == data:\n",
    "                return node\n",
    "            else:\n",
    "                node = node.next\n",
    "        return False # 위의 while문을 다 돌았는데도 반환값이 없다면 False 를 반환(입력한 data를 가진 노드를 찾을 수 없다는 의미)"
   ]
  },
  {
   "cell_type": "code",
   "execution_count": 30,
   "id": "d730a202",
   "metadata": {},
   "outputs": [
    {
     "name": "stdout",
     "output_type": "stream",
     "text": [
      "0\n",
      "1\n",
      "2\n",
      "3\n",
      "4\n",
      "5\n",
      "6\n",
      "7\n",
      "8\n",
      "9\n"
     ]
    }
   ],
   "source": [
    "double_linked_list = NodeMgmt(0)\n",
    "for data in range(1,10):\n",
    "    double_linked_list.insert(data)\n",
    "double_linked_list.desc()"
   ]
  },
  {
   "cell_type": "code",
   "execution_count": 31,
   "id": "491861a2",
   "metadata": {},
   "outputs": [
    {
     "name": "stdout",
     "output_type": "stream",
     "text": [
      "3\n"
     ]
    }
   ],
   "source": [
    "node_3 = double_linked_list.search_from_head(3)\n",
    "print(node_3.data)"
   ]
  },
  {
   "cell_type": "code",
   "execution_count": 32,
   "id": "c2f00453",
   "metadata": {},
   "outputs": [
    {
     "name": "stdout",
     "output_type": "stream",
     "text": [
      "No data\n"
     ]
    }
   ],
   "source": [
    "node_10 = double_linked_list.search_from_head(10)\n",
    "if node_10:\n",
    "    print(node_10.data)\n",
    "else:\n",
    "    print(\"No data\")"
   ]
  },
  {
   "cell_type": "code",
   "execution_count": 29,
   "id": "7ab2c6b6",
   "metadata": {},
   "outputs": [],
   "source": [
    "class Node:\n",
    "    def __init__(self, data, prev = None, next = None):\n",
    "        self.prev = prev\n",
    "        self.data = data\n",
    "        self.next = next\n",
    "        \n",
    "class NodeMgmt:\n",
    "    def __init__(self, data):\n",
    "        self.head = Node(data)\n",
    "        self.tail = self.head\n",
    "    \n",
    "    def insert(self, data):\n",
    "        if self.head == None:\n",
    "            self.head = Node(data)\n",
    "            self.tail = self.head\n",
    "        else:\n",
    "            node = self.head\n",
    "            while node.next:\n",
    "                node = node.next\n",
    "            new = Node(data)\n",
    "            node.next = new\n",
    "            new.prev = node\n",
    "            self.tail = new\n",
    "            \n",
    "    def desc(self):\n",
    "        node = self.head\n",
    "        while node:\n",
    "            print(node.data)\n",
    "            node = node.next\n",
    "            \n",
    "    def search_from_head(self, data): # 앞에서부터 node 검색\n",
    "        if self.head == None: # 방어코드\n",
    "            return False\n",
    "        \n",
    "        node = self.head\n",
    "        while node:\n",
    "            if node.data == data:\n",
    "                return node\n",
    "            else:\n",
    "                node = node.next\n",
    "        return False\n",
    "    \n",
    "    def search_from_head(self, data): # 뒤에서부터 node 검색\n",
    "        if self.head == None: # 방어코드\n",
    "            return False\n",
    "        \n",
    "        node = self.tail\n",
    "        while node:\n",
    "            if node.data == data:\n",
    "                return node\n",
    "            else:\n",
    "                node = node.prev\n",
    "        return False"
   ]
  },
  {
   "cell_type": "code",
   "execution_count": 33,
   "id": "f09a6959",
   "metadata": {},
   "outputs": [
    {
     "name": "stdout",
     "output_type": "stream",
     "text": [
      "3\n"
     ]
    }
   ],
   "source": [
    "node_3 = double_linked_list.search_from_head(3)\n",
    "print(node_3.data)"
   ]
  },
  {
   "cell_type": "code",
   "execution_count": 49,
   "id": "c0be4d6b",
   "metadata": {},
   "outputs": [],
   "source": [
    "# 내 답\n",
    "\n",
    "class Node:\n",
    "    def __init__(self, data, prev = None, next = None):\n",
    "        self.prev = prev\n",
    "        self.data = data\n",
    "        self.next = next\n",
    "        \n",
    "class NodeMgmt:\n",
    "    def __init__(self, data):\n",
    "        self.head = Node(data)\n",
    "        self.tail = self.head\n",
    "    \n",
    "    def insert(self, data):\n",
    "        if self.head == None:\n",
    "            self.head = Node(data)\n",
    "            self.tail = self.head\n",
    "        else:\n",
    "            node = self.head\n",
    "            while node.next:\n",
    "                node = node.next\n",
    "            new = Node(data)\n",
    "            node.next = new\n",
    "            new.prev = node\n",
    "            self.tail = new\n",
    "            \n",
    "    def desc(self):\n",
    "        node = self.head\n",
    "        while node:\n",
    "            print(node.data)\n",
    "            node = node.next\n",
    "            \n",
    "    def search_from_head(self, data): # 앞에서부터 node 검색\n",
    "        if self.head == None: # 방어코드\n",
    "            return False\n",
    "        \n",
    "        node = self.head\n",
    "        while node:\n",
    "            if node.data == data:\n",
    "                return node\n",
    "            else:\n",
    "                node = node.next\n",
    "        return False\n",
    "    \n",
    "    def search_from_head(self, data): # 뒤에서부터 node 검색\n",
    "        if self.head == None: # 방어코드\n",
    "            return False\n",
    "        \n",
    "        node = self.tail\n",
    "        while node:\n",
    "            if node.data == data:\n",
    "                return node\n",
    "            else:\n",
    "                node = node.prev\n",
    "        return False\n",
    "\n",
    "    def insert_before(self, data, new_data):\n",
    "        node = self.tail\n",
    "        while node:\n",
    "            if node.data == data:\n",
    "                break\n",
    "            else:\n",
    "                node = node.prev\n",
    "        new = Node(new_data)\n",
    "        new.next = node\n",
    "        new.prev = node.prev\n",
    "        node.prev.next = new\n",
    "        node.prev = new"
   ]
  },
  {
   "cell_type": "code",
   "execution_count": 50,
   "id": "0e796a4f",
   "metadata": {},
   "outputs": [
    {
     "name": "stdout",
     "output_type": "stream",
     "text": [
      "0\n",
      "1\n",
      "2\n",
      "3\n",
      "4\n",
      "5\n",
      "6\n",
      "7\n",
      "8\n",
      "9\n"
     ]
    }
   ],
   "source": [
    "double_linked_list = NodeMgmt(0)\n",
    "for data in range(1,10):\n",
    "    double_linked_list.insert(data)\n",
    "double_linked_list.desc()"
   ]
  },
  {
   "cell_type": "code",
   "execution_count": 51,
   "id": "d52d7e4b",
   "metadata": {
    "scrolled": true
   },
   "outputs": [
    {
     "name": "stdout",
     "output_type": "stream",
     "text": [
      "0\n",
      "1\n",
      "1.5\n",
      "2\n",
      "3\n",
      "4\n",
      "5\n",
      "6\n",
      "7\n",
      "8\n",
      "9\n"
     ]
    }
   ],
   "source": [
    "double_linked_list.insert_before(2, 1.5)\n",
    "double_linked_list.desc()"
   ]
  },
  {
   "cell_type": "code",
   "execution_count": 58,
   "id": "b79a1d36",
   "metadata": {},
   "outputs": [],
   "source": [
    "# 선생님 답\n",
    "\n",
    "class Node:\n",
    "    def __init__(self, data, prev = None, next = None):\n",
    "        self.prev = prev\n",
    "        self.data = data\n",
    "        self.next = next\n",
    "        \n",
    "class NodeMgmt:\n",
    "    def __init__(self, data):\n",
    "        self.head = Node(data)\n",
    "        self.tail = self.head\n",
    "    \n",
    "    def insert(self, data):\n",
    "        if self.head == None:\n",
    "            self.head = Node(data)\n",
    "            self.tail = self.head\n",
    "        else:\n",
    "            node = self.head\n",
    "            while node.next:\n",
    "                node = node.next\n",
    "            new = Node(data)\n",
    "            node.next = new\n",
    "            new.prev = node\n",
    "            self.tail = new\n",
    "            \n",
    "    def desc(self):\n",
    "        node = self.head\n",
    "        while node:\n",
    "            print(node.data)\n",
    "            node = node.next\n",
    "            \n",
    "    def search_from_head(self, data): # 앞에서부터 node 검색\n",
    "        if self.head == None: # 방어코드\n",
    "            return False\n",
    "        \n",
    "        node = self.head\n",
    "        while node:\n",
    "            if node.data == data:\n",
    "                return node\n",
    "            else:\n",
    "                node = node.next\n",
    "        return False\n",
    "    \n",
    "    def search_from_head(self, data): # 뒤에서부터 node 검색\n",
    "        if self.head == None: # 방어코드\n",
    "            return False\n",
    "        \n",
    "        node = self.tail\n",
    "        while node:\n",
    "            if node.data == data:\n",
    "                return node\n",
    "            else:\n",
    "                node = node.prev\n",
    "        return False\n",
    "\n",
    "    def insert_before(self, data, before_data):\n",
    "        if self.head == None:\n",
    "            self.head = Node(data)\n",
    "            return True\n",
    "        else:\n",
    "            node = self.tail\n",
    "            while node.data != before_data:\n",
    "                node = node.prev\n",
    "                if node == None:\n",
    "                    return False\n",
    "            new = Node(data)       # 입력된 data 로 새로운 노드 생성 후, 이를 new 라는 변수에 저장\n",
    "            before_new = node.prev # node (before_data 를 가진 노드)의, 이전노드를 before_new 라는 변수에 저장\n",
    "            before_new.next = new  # before_new 의 다음노드 위치값을 new 로 갱신\n",
    "            new.prev = before_new  # new 의 이전노드 위치값에 before_new 를 저장\n",
    "            new.next = node        # new 의 다음노드 위치값에 node(before_data 를 가진 노드) 를 저장\n",
    "            node.prev = new        # node의 이전노드 위치값을 new 로 갱신\n",
    "            return True           # 함수 탈출 및 (의도한 작업이 실행됐음을 의미하는)True 반환"
   ]
  },
  {
   "cell_type": "code",
   "execution_count": 59,
   "id": "e4101331",
   "metadata": {},
   "outputs": [],
   "source": [
    "double_linked_list = NodeMgmt(0)\n",
    "for data in range(1,10):\n",
    "    double_linked_list.insert(data)"
   ]
  },
  {
   "cell_type": "code",
   "execution_count": 60,
   "id": "831da8d9",
   "metadata": {},
   "outputs": [
    {
     "name": "stdout",
     "output_type": "stream",
     "text": [
      "0\n",
      "1\n",
      "1.5\n",
      "2\n",
      "3\n",
      "4\n",
      "5\n",
      "6\n",
      "7\n",
      "8\n",
      "9\n"
     ]
    }
   ],
   "source": [
    "double_linked_list.insert_before(1.5, 2)\n",
    "double_linked_list.desc()"
   ]
  },
  {
   "cell_type": "code",
   "execution_count": 61,
   "id": "69846edf",
   "metadata": {},
   "outputs": [
    {
     "name": "stdout",
     "output_type": "stream",
     "text": [
      "1.5\n"
     ]
    }
   ],
   "source": [
    "node = double_linked_list.search_from_tail(1.5)\n",
    "print(node.data)"
   ]
  },
  {
   "cell_type": "markdown",
   "id": "01c61923",
   "metadata": {},
   "source": [
    "<div class=\"alert alert-block alert-warning\">\n",
    "<strong><font color=\"blue\" size=\"3em\">연습4: 위 코드에서 노드 데이터가 특정 숫자인 노드 뒤에 데이터를 추가하는 함수를 만들고, 테스트해보기</font></strong><br>\n",
    "- 더블 링크드 리스트의 head 에서부터 다음으로 이동하며, 특정 숫자인 노드를 찾는 방식으로 함수를 구현하기<br>\n",
    "- 테스트: 임의로 0 ~ 9까지 데이터를 링크드 리스트에 넣어보고, 데이터 값이 1인 노드 다음에 1.7 데이터 값을 가진 노드를 추가해보기\n",
    "</div>"
   ]
  },
  {
   "cell_type": "code",
   "execution_count": 108,
   "id": "52ab1caa",
   "metadata": {},
   "outputs": [],
   "source": [
    "# 내 답\n",
    "\n",
    "class Node:\n",
    "    def __init__(self, data, prev = None, next = None):\n",
    "        self.prev = prev\n",
    "        self.data = data\n",
    "        self.next = next\n",
    "        \n",
    "class NodeMgmt:\n",
    "    def __init__(self, data):\n",
    "        self.head = Node(data)\n",
    "        self.tail = self.head\n",
    "    \n",
    "    \n",
    "    def insert(self, data):\n",
    "        if self.head == None: # 방어코드\n",
    "            self.head = Node(data)\n",
    "            self.tail = self.head\n",
    "            return True\n",
    "        \n",
    "        node = self.head\n",
    "        while node.next:\n",
    "            node =  node.next\n",
    "        new = Node(data)\n",
    "        node.next = new\n",
    "        new.prev = node\n",
    "        self.tail = new\n",
    "        \n",
    "        \n",
    "    def desc(self):\n",
    "        node = self.head\n",
    "        while node:\n",
    "            print(node.data)\n",
    "            node = node.next\n",
    "    \n",
    "    \n",
    "    def search_from_head(self, data):\n",
    "        if self.head == None: # 방어코드\n",
    "            return False\n",
    "        \n",
    "        node = self.head\n",
    "        while node:\n",
    "            if node.data == data:\n",
    "                return node\n",
    "            else:\n",
    "                node = node.next\n",
    "        return False\n",
    "    \n",
    "    \n",
    "    def search_from_tail(self, data):\n",
    "        if self.head == None: # 방어코드\n",
    "            return False\n",
    "        \n",
    "        node = self.tail\n",
    "        while node:\n",
    "            if node.data == data:\n",
    "                return node\n",
    "            else:\n",
    "                node = node.prev\n",
    "        return False\n",
    "    \n",
    "    \n",
    "    def insert_before(self, data, before_data):\n",
    "        if self.head == None: # 방어코드\n",
    "            self.head = Node(data)\n",
    "            self.tail = self.head\n",
    "            return True\n",
    "        \n",
    "        node = self.tail\n",
    "        while node.data != before_data:\n",
    "            node = node.prev\n",
    "            if node == None: # node 에 값이 없다면..\n",
    "                return False # node.data = before_data 인 경우가 없다는 뜻이므로 False 반환\n",
    "        new = Node(data)\n",
    "        before_new = node.prev\n",
    "        before_new.next = new\n",
    "        new.prev = before_new\n",
    "        new.next = node\n",
    "        node.prev = new\n",
    "        return True\n",
    "    \n",
    "    def insert_after(self, data, after_data):\n",
    "        if self.head == None: # 방어코드\n",
    "            self.head = Node(data)\n",
    "            self.tail = self.head\n",
    "            return True\n",
    "        \n",
    "        node = self.head\n",
    "        while node.data != after_data:\n",
    "            node = node.next\n",
    "            if node == None:\n",
    "                return False\n",
    "        new = Node(data)\n",
    "        after_new = node.next\n",
    "        node.next = new\n",
    "        new.prev = node\n",
    "        new.next = after_new\n",
    "        if new.next == None:\n",
    "            self.tail = new\n",
    "            return True\n",
    "        else:\n",
    "            after_new.prev = new\n",
    "            return True"
   ]
  },
  {
   "cell_type": "code",
   "execution_count": 109,
   "id": "65386269",
   "metadata": {},
   "outputs": [],
   "source": [
    "DLL = NodeMgmt(0)\n",
    "for data in range(1, 10):\n",
    "    DLL.insert(data)"
   ]
  },
  {
   "cell_type": "code",
   "execution_count": 110,
   "id": "4b1e1af0",
   "metadata": {},
   "outputs": [
    {
     "name": "stdout",
     "output_type": "stream",
     "text": [
      "0\n",
      "1\n",
      "1.7\n",
      "2\n",
      "3\n",
      "4\n",
      "5\n",
      "6\n",
      "7\n",
      "8\n",
      "9\n"
     ]
    }
   ],
   "source": [
    "DLL.insert_after(1.7, 1)\n",
    "DLL.desc()"
   ]
  },
  {
   "cell_type": "code",
   "execution_count": 111,
   "id": "a1934012",
   "metadata": {},
   "outputs": [
    {
     "name": "stdout",
     "output_type": "stream",
     "text": [
      "0\n",
      "1\n",
      "1.7\n",
      "2\n",
      "3\n",
      "4\n",
      "5\n",
      "6\n",
      "7\n",
      "8\n",
      "9\n",
      "10\n"
     ]
    }
   ],
   "source": [
    "DLL.insert_after(10, 9)\n",
    "DLL.desc()"
   ]
  },
  {
   "cell_type": "code",
   "execution_count": 112,
   "id": "3a7b1296",
   "metadata": {},
   "outputs": [
    {
     "name": "stdout",
     "output_type": "stream",
     "text": [
      "1.7\n",
      "1.7\n",
      "10\n",
      "10\n"
     ]
    }
   ],
   "source": [
    "a = DLL.search_from_head(1.7)\n",
    "b = DLL.search_from_tail(1.7)\n",
    "c = DLL.search_from_head(10)\n",
    "d = DLL.search_from_tail(10)\n",
    "\n",
    "print(a.data)\n",
    "print(b.data)\n",
    "print(c.data)\n",
    "print(d.data)"
   ]
  },
  {
   "cell_type": "code",
   "execution_count": 103,
   "id": "0e9608da",
   "metadata": {},
   "outputs": [],
   "source": [
    "# 선생님 답(search_from_head 와 search_from_tail 메서드가 없고 문제를 위한 코드만 딱 구현되어있음 주의)\n",
    "\n",
    "class Node:\n",
    "    def __init__(self, data, prev=None, next=None):\n",
    "        self.prev = prev\n",
    "        self.data = data\n",
    "        self.next = next\n",
    "\n",
    "class NodeMgmt:\n",
    "    def __init__(self, data):\n",
    "        self.head = Node(data)\n",
    "        self.tail = self.head\n",
    "    \n",
    "    def insert_before(self, data, before_data):\n",
    "        if self.head == None:\n",
    "            self.head = Node(data)\n",
    "            return True            \n",
    "        else:\n",
    "            node = self.tail\n",
    "            while node.data != before_data:\n",
    "                node = node.prev\n",
    "                if node == None:\n",
    "                    return False\n",
    "            new = Node(data)\n",
    "            before_new = node.prev\n",
    "            before_new.next = new\n",
    "            new.next = node\n",
    "            return True\n",
    "\n",
    "    def insert_after(self, data, after_data):\n",
    "        if self.head == None:\n",
    "            self.head = Node(data)\n",
    "            return True            \n",
    "        else:\n",
    "            node = self.head\n",
    "            while node.data != after_data:\n",
    "                node = node.next\n",
    "                if node == None:\n",
    "                    return False\n",
    "            new = Node(data)\n",
    "            after_new = node.next\n",
    "            new.next = after_new\n",
    "            new.prev = node\n",
    "            node.next = new\n",
    "            if new.next == None:\n",
    "                self.tail = new\n",
    "            return True\n",
    "\n",
    "    def insert(self, data):\n",
    "        if self.head == None:\n",
    "            self.head = Node(data)\n",
    "        else:\n",
    "            node = self.head\n",
    "            while node.next:\n",
    "                node = node.next\n",
    "            new = Node(data)\n",
    "            node.next = new\n",
    "            new.prev = node\n",
    "            self.tail = new\n",
    "\n",
    "    def desc(self):\n",
    "        node = self.head\n",
    "        while node:\n",
    "            print (node.data)\n",
    "            node = node.next"
   ]
  },
  {
   "cell_type": "code",
   "execution_count": 104,
   "id": "550b2b26",
   "metadata": {
    "scrolled": true
   },
   "outputs": [
    {
     "name": "stdout",
     "output_type": "stream",
     "text": [
      "0\n",
      "1\n",
      "1.7\n",
      "2\n",
      "3\n",
      "4\n",
      "5\n",
      "6\n",
      "7\n",
      "8\n",
      "9\n"
     ]
    }
   ],
   "source": [
    "node_mgmt = NodeMgmt(0)\n",
    "for data in range(1, 10):\n",
    "    node_mgmt.insert(data)\n",
    "\n",
    "# node_mgmt.desc()\n",
    "\n",
    "node_mgmt.insert_after(1.7, 1)\n",
    "node_mgmt.desc()"
   ]
  }
 ],
 "metadata": {
  "kernelspec": {
   "display_name": "Python 3 (ipykernel)",
   "language": "python",
   "name": "python3"
  },
  "language_info": {
   "codemirror_mode": {
    "name": "ipython",
    "version": 3
   },
   "file_extension": ".py",
   "mimetype": "text/x-python",
   "name": "python",
   "nbconvert_exporter": "python",
   "pygments_lexer": "ipython3",
   "version": "3.10.9"
  }
 },
 "nbformat": 4,
 "nbformat_minor": 5
}
