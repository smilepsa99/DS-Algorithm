{
 "cells": [
  {
   "cell_type": "markdown",
   "id": "e9b7d95b",
   "metadata": {},
   "source": [
    "### 4. 힙 구현\n",
    "### 힙과 배열\n",
    "- 일반적으로 힙 구현시 배열 자료구조를 활용함 (힙이 완전 이진 트리의 형태라서, 배열의 index를 적용하기 좋기 때문) \n",
    "- 배열은 인덱스가 0번부터 시작하지만, 힙 구현의 편의를 위해, root 노드 인덱스 번호를 1로 지정하면, 구현이 좀더 수월함\n",
    "  - | **부모** 노드 인덱스 번호 (parent node's index) = **자식** 노드 인덱스 번호 (child node's index) **// 2**\n",
    "  - | **왼쪽 자식** 노드 인덱스 번호 (left child node's index) = **부모** 노드 인덱스 번호 (parent node's index) **\\* 2**\n",
    "  - | **오른쪽 자식** 노드 인덱스 번호 (right child node's index) = **부모** 노드 인덱스 번호 (parent node's index) **\\* 2 + 1**\n",
    "<img src=\"https://www.fun-coding.org/00_Images/heap_array.png\" width=400>"
   ]
  },
  {
   "cell_type": "code",
   "execution_count": 2,
   "id": "3bbc48f4",
   "metadata": {},
   "outputs": [
    {
     "name": "stdout",
     "output_type": "stream",
     "text": [
      "1\n",
      "2\n",
      "2\n"
     ]
    }
   ],
   "source": [
    "# 예시1 : 부모 노드 index 구하기\n",
    "\n",
    "# 10 노드의 부모 노드 index \n",
    "print(2 // 2)\n",
    "\n",
    "# 5 노드의 부모 노드 index \n",
    "print(5 // 2)\n",
    "\n",
    "# 4 노드의 부모 노드 index \n",
    "print(4 // 2)"
   ]
  },
  {
   "cell_type": "code",
   "execution_count": 3,
   "id": "44155c03",
   "metadata": {},
   "outputs": [
    {
     "name": "stdout",
     "output_type": "stream",
     "text": [
      "2\n",
      "4\n"
     ]
    }
   ],
   "source": [
    "# 예시2 : 왼쪽자식 노드 index 구하기\n",
    "\n",
    "# 15 노드의 왼쪽자식 노드 index \n",
    "print(1 * 2)\n",
    "\n",
    "# 10 노드의 왼쪽자식 노드 index \n",
    "print(2 * 2)"
   ]
  },
  {
   "cell_type": "code",
   "execution_count": 4,
   "id": "48be6187",
   "metadata": {
    "scrolled": true
   },
   "outputs": [
    {
     "name": "stdout",
     "output_type": "stream",
     "text": [
      "3\n",
      "5\n"
     ]
    }
   ],
   "source": [
    "# 예시3 : 오른쪽자식 노드 index 구하기\n",
    "\n",
    "# 15 노드의 오른쪽자식 노드 index \n",
    "print(1 * 2 + 1)\n",
    "\n",
    "# 10 노드의 오른쪽자식 노드 index \n",
    "print(2 * 2 + 1)"
   ]
  },
  {
   "cell_type": "markdown",
   "id": "e7d84fa1",
   "metadata": {},
   "source": [
    "### 힙에 데이터 삽입 구현 (Max Heap 예)"
   ]
  },
  {
   "cell_type": "markdown",
   "id": "d383e1e1",
   "metadata": {},
   "source": [
    "- 힙 클래스 구현1 "
   ]
  },
  {
   "cell_type": "code",
   "execution_count": 5,
   "id": "24e9c6db",
   "metadata": {},
   "outputs": [],
   "source": [
    "class Heap:\n",
    "    def __init__(self, data):\n",
    "        self.heap_array = list()\n",
    "        self.heap_array.append(None) # index 1 부터 값을 넣기 위해 index 0에 None을 넣음\n",
    "        self.heap_array.append(data)"
   ]
  },
  {
   "cell_type": "code",
   "execution_count": 6,
   "id": "45bc761a",
   "metadata": {},
   "outputs": [
    {
     "data": {
      "text/plain": [
       "[None, 1]"
      ]
     },
     "execution_count": 6,
     "metadata": {},
     "output_type": "execute_result"
    }
   ],
   "source": [
    "heap = Heap(1)\n",
    "heap.heap_array"
   ]
  },
  {
   "cell_type": "markdown",
   "id": "22678f7d",
   "metadata": {},
   "source": [
    "- 힙 클래스 구현2 - insert1\n",
    "  - 인덱스 번호는 1번부터 시작하도록 변경\n",
    "\n",
    "<img src=\"https://www.fun-coding.org/00_Images/heap_ordinary.png\">"
   ]
  },
  {
   "cell_type": "code",
   "execution_count": null,
   "id": "a104ac87",
   "metadata": {},
   "outputs": [],
   "source": [
    "class Heap:\n",
    "    def __init__(self, data):\n",
    "        self.heap_array = list()\n",
    "        self.heap_array.append(None)\n",
    "        self.heap_array.append(data)\n",
    "        \n",
    "    def insert(self, data):\n",
    "        if len(self.heap_array) == 0:\n",
    "            self.heap_array.append(None)\n",
    "            self.heap_array.append(data)\n",
    "            return True\n",
    "        \n",
    "        self.heap_array.append(data)\n",
    "        return True"
   ]
  },
  {
   "cell_type": "markdown",
   "id": "45b0bf46",
   "metadata": {},
   "source": [
    "- 힙 클래스 구현3 - insert2\n",
    "  - 삽입한 노드가 부모 노드의 값보다 클 경우, 부모 노드와 삽입한 노드 위치를 바꿈\n",
    "  - 삽입한 노드가 루트 노드가 되거나, 부모 노드보다 값이 작거나 같을 경우까지 반복\n",
    "---\n",
    "- 특정 노드의 관련 노드 위치 알아내기\n",
    "  - 부모 노드 인덱스 번호 (parent node's index) = 자식 노드 인덱스 번호 (child node's index) // 2\n",
    "  - 왼쪽 자식 노드 인덱스 번호 (left child node's index) = 부모 노드 인덱스 번호 (parent node's index) * 2\n",
    "  - 오른쪽 자식 노드 인덱스 번호 (right child node's index) = 부모 노드 인덱스 번호 (parent node's index) * 2 + 1\n",
    "\n",
    "<img src=\"https://www.fun-coding.org/00_Images/heap_insert.png\">"
   ]
  },
  {
   "cell_type": "code",
   "execution_count": 21,
   "id": "88f593c0",
   "metadata": {},
   "outputs": [
    {
     "name": "stdout",
     "output_type": "stream",
     "text": [
      "[None, 15, 10, 8, 5, 4]\n",
      "[None, 20, 10, 15, 5, 4, 8]\n"
     ]
    }
   ],
   "source": [
    "heap = Heap(15)\n",
    "\n",
    "heap.insert(10)\n",
    "heap.insert(8)\n",
    "heap.insert(5)\n",
    "heap.insert(4)\n",
    "print(heap.heap_array)\n",
    "\n",
    "heap.insert(20)\n",
    "print(heap.heap_array)"
   ]
  },
  {
   "cell_type": "code",
   "execution_count": 20,
   "id": "63102fbe",
   "metadata": {},
   "outputs": [],
   "source": [
    "class Heap:\n",
    "    def __init__(self, data):\n",
    "        self.heap_array = list()\n",
    "        self.heap_array.append(None)\n",
    "        self.heap_array.append(data)\n",
    "    \n",
    "    def move_up(self, inserted_idx):\n",
    "        if inserted_idx <= 1: # 입력한 노드가 루트 노드일 경우, False\n",
    "            return False\n",
    "        \n",
    "        parent_idx = inserted_idx // 2\n",
    "        if self.heap_array[inserted_idx] > self.heap_array[parent_idx]: # 입력한 노드가 그 노드의 부모노드보다 클 경우, True\n",
    "            return True\n",
    "        else: # 입력한 노드가 그 노드의 부모노드보다 작은 경우, False\n",
    "            return False\n",
    "        \n",
    "    \n",
    "    def insert(self, data):\n",
    "        if len(self.heap_array) == 0:\n",
    "            self.heap_array.append(None)\n",
    "            self.heap_array.append(data)\n",
    "            return True\n",
    "        \n",
    "        self.heap_array.append(data)\n",
    "        \n",
    "        inserted_idx = len(self.heap_array) - 1 # self.heap_array.index(data) 로 써도 될 듯\n",
    "        while self.move_up(inserted_idx): # 클래스 내 메서드를, 동일 클래스 내의 다른 메서드에서 사용할 땐 메서드 앞에 self.붙이기\n",
    "            parent_idx = inserted_idx // 2\n",
    "            # swap\n",
    "            self.heap_array[inserted_idx], self.heap_array[parent_idx] = self.heap_array[parent_idx], self.heap_array[inserted_idx]\n",
    "            inserted_idx = parent_idx\n",
    "        return True"
   ]
  },
  {
   "cell_type": "markdown",
   "id": "0f4acf93",
   "metadata": {},
   "source": [
    "### 힙에 데이터 삭제 구현 (Max Heap 예)"
   ]
  },
  {
   "cell_type": "markdown",
   "id": "c73982df",
   "metadata": {},
   "source": [
    "- 힙 클래스 구현4 - delete1\n",
    "- 보통 삭제는 최상단 노드 (root 노드)를 삭제하는 것이 일반적임\n",
    "  - 힙의 용도는 최대값 또는 최소값을 root 노드에 놓아서, 최대값과 최소값을 바로 꺼내 쓸 수 있도록 하는 것이기 때문"
   ]
  },
  {
   "cell_type": "code",
   "execution_count": null,
   "id": "272b7712",
   "metadata": {},
   "outputs": [],
   "source": [
    "class Heap:\n",
    "    def __init__(self, data):\n",
    "        self.heap_array = list()\n",
    "        self.heap_array.append(None)\n",
    "        self.heap_array.append(data)\n",
    "    \n",
    "    def pop(self):\n",
    "        if len(self.heap_array) <= 1:\n",
    "            return None\n",
    "        returned_data = self.heap_array[1]\n",
    "        return returned_data"
   ]
  },
  {
   "cell_type": "markdown",
   "id": "c79480f7",
   "metadata": {},
   "source": [
    "- 힙 클래스 구현4 - delete2\n",
    "  - 상단의 데이터 삭제시, 가장 최하단부 왼쪽에 위치한 노드 (일반적으로 가장 마지막에 추가한 노드) 를 root 노드로 이동\n",
    "  - root 노드의 값이 child node 보다 작을 경우, root 노드의 child node 중 가장 큰 값을 가진 노드와 root 노드 위치를 바꿔주는 작업을 반복함 (swap)\n",
    "---\n",
    "- 특정 노드의 관련 노드 위치 알아내기\n",
    "  - 부모 노드 인덱스 번호 (parent node's index) = 자식 노드 인덱스 번호 (child node's index) // 2\n",
    "  - 왼쪽 자식 노드 인덱스 번호 (left child node's index) = 부모 노드 인덱스 번호 (parent node's index) * 2\n",
    "  - 오른쪽 자식 노드 인덱스 번호 (right child node's index) = 부모 노드 인덱스 번호 (parent node's index) * 2 + 1\n",
    "\n",
    "<img src=\"https://www.fun-coding.org/00_Images/heap_remove.png\">"
   ]
  },
  {
   "cell_type": "code",
   "execution_count": 23,
   "id": "b13e4039",
   "metadata": {},
   "outputs": [],
   "source": [
    "class Heap:\n",
    "    def __init__(self, data):\n",
    "        self.heap_array = list()\n",
    "        self.heap_array.append(None)\n",
    "        self.heap_array.append(data)\n",
    "    \n",
    "    def move_down(self, popped_idx):\n",
    "        popped_idx_left = popped_idx * 2\n",
    "        popped_idx_right = popped_idx * 2 +1\n",
    "        \n",
    "        # case 1. popped 노드의 자식노드가 0개일 때(왼쪽 자식노드도 없을 때)\n",
    "        if self.heap_array[popped_idx_left] == None:\n",
    "            return False\n",
    "        \n",
    "        # case 2. popped 노드의 자식노드가 1개일 때(오른쪽 자식노드가 없을 때)\n",
    "        elif self.heap_array[popped_idx_right] == None:\n",
    "            # 2-1. popped 노드 < 왼쪽 자식\n",
    "            if self.heap_array[popped_idx] < self.heap_array[popped_idx_left]:\n",
    "                return True\n",
    "            # 2-2. popped 노드 ≥ 왼쪽 자식\n",
    "            else: \n",
    "                return False\n",
    "        \n",
    "        # case 3. popped 노드의 자식노드가 2개일 때(양쪽 자식노드 다 있을 때)\n",
    "        else:\n",
    "            # 3-1. 왼쪽 자식 > 오른쪽 자식\n",
    "            if self.heap_array[popped_idx_left] > self.heap_array[popped_idx_right]:\n",
    "                # 3-1-1. popped < 왼쪽 자식\n",
    "                if self.heap_array[popped_idx] < self.heap_array[popped_idx_left]:\n",
    "                    return True\n",
    "                # 3-1-2. popped ≥ 왼쪽 자식\n",
    "                else:\n",
    "                    return False\n",
    "            # 3-2. 왼쪽 자식 ≤ 오른쪽 자식\n",
    "            else:\n",
    "                # 3-2-1. popped < 오른쪽 자식\n",
    "                if self.heap_array[popped_idx] < self.heap_array[popped_idx_right]:\n",
    "                    return True\n",
    "                # 3-2-2. popped ≥ 오른쪽 자식\n",
    "                else:\n",
    "                    return False\n",
    "    \n",
    "    def pop(self):\n",
    "        if len(self.heap_array) <= 1: # 루트 노드가 없을 때(= heap에 노드가 없을 때)\n",
    "            return None\n",
    "        \n",
    "        returned_data = self.heap_array[1]   \n",
    "        self.heap_array[1] = self.heap_array[-1]\n",
    "        del self.heap_array[-1]\n",
    "        \n",
    "        popped_idx = 1\n",
    "        while self.move_down(popped_idx):\n",
    "            popped_idx_left = popped_idx * 2\n",
    "            popped_idx_right = popped_idx * 2 +1\n",
    "            \n",
    "            # case 2. popped 노드의 자식노드가 1개일 때(오른쪽 자식노드가 없을 때)\n",
    "            if self.heap_array[popped_idx_right] == None:\n",
    "                # 2-1. popped 노드 < 왼쪽 자식\n",
    "                if self.heap_array[popped_idx] < self.heap_array[popped_idx_left]:\n",
    "                    self.heap_array[popped_idx], self.heap_array[popped_idx_left] = self.heap_array[popped_idx_left], self.heap_array[popped_idx]\n",
    "            \n",
    "            # case 3. popped 노드의 자식노드가 2개일 때(양쪽 자식노드 다 있을 때)\n",
    "            else:\n",
    "                # 3-1. 왼쪽 자식 > 오른쪽 자식\n",
    "                if self.heap_array[popped_idx_left] > self.heap_array[popped_idx_right]:\n",
    "                    # 3-1-1. popped 노드 < 왼쪽 자식\n",
    "                    if self.heap_array[popped_idx] < self.heap_array[popped_idx_left]:\n",
    "                        self.heap_array[popped_idx], self.heap_array[popped_idx_left] = self.heap_array[popped_idx_left], self.heap_array[popped_idx]\n",
    "                # 3-2. 왼쪽 자식 ≤ 오른쪽 자식\n",
    "                else:\n",
    "                    # 3-2-1. popped 노드 < 오른쪽 자식\n",
    "                    if self.heap_array[popped_idx] < self.heap_array[popped_idx_right]:\n",
    "                        self.heap_array[popped_idx], self.heap_array[popped_idx_right] = self.heap_array[popped_idx_right], self.heap_array[popped_idx]\n",
    "    \n",
    "        return returned_data"
   ]
  },
  {
   "cell_type": "markdown",
   "id": "2f480ae5",
   "metadata": {},
   "source": [
    "### 힙 전체 코드 구현 (Max Heap 예)"
   ]
  },
  {
   "cell_type": "code",
   "execution_count": 61,
   "id": "33da7f97",
   "metadata": {},
   "outputs": [],
   "source": [
    "class Heap:\n",
    "    def __init__(self, data):\n",
    "        self.heap_array = list()\n",
    "        self.heap_array.append(None)\n",
    "        self.heap_array.append(data)\n",
    "        \n",
    "    def move_up(self, inserted_idx):\n",
    "        parent_idx = inserted_idx // 2\n",
    "        \n",
    "        # case1. inserted 노드가 루트 노드일 때\n",
    "        if inserted_idx <= 1:\n",
    "            return False\n",
    "        \n",
    "        # case2. inserted 노드의 부모 노드가 있을 때(= inserted 노드가 루트 노드가 아닐 때)\n",
    "        # 2-1. inserted 노드 > 부모 노드\n",
    "        if self.heap_array[inserted_idx] > self.heap_array[parent_idx]:\n",
    "            return True\n",
    "        # 2-2. inserted 노드 ≤ 부모 노드\n",
    "        else:\n",
    "            return False\n",
    "     \n",
    "    def insert(self, data):\n",
    "        if len(self.heap_array) <= 1: # heap에 노드가 없을 때\n",
    "            self.heap_array.append(None)\n",
    "            self.heap_array.append(data)\n",
    "            return True\n",
    "        \n",
    "        self.heap_array.append(data)\n",
    "        \n",
    "        inserted_idx = len(self.heap_array) - 1\n",
    "        while self.move_up(inserted_idx):\n",
    "            parent_idx = inserted_idx // 2\n",
    "            if self.heap_array[inserted_idx] > self.heap_array[parent_idx]:\n",
    "                self.heap_array[inserted_idx], self.heap_array[parent_idx] = self.heap_array[parent_idx], self.heap_array[inserted_idx]\n",
    "            inserted_idx = parent_idx # 이 코드가 없으면, while 문이 한번만 실행됨(완전 이진 트리가 될때까지 swap이 이루어지지 않음)\n",
    "        \n",
    "        return True\n",
    "    \n",
    "    def move_down(self, popped_idx):\n",
    "        popped_idx_left = popped_idx * 2\n",
    "        popped_idx_right = popped_idx * 2 +1\n",
    "        \n",
    "        # case 1. popped 노드의 자식노드가 0개일 때(왼쪽 자식노드도 없을 때)\n",
    "        if popped_idx_left >= len(self.heap_array): # if self.heap_array[popped_idx_left] == None 로 쓰면 에러날 수 있음(list index out of range)\n",
    "            return False\n",
    "        \n",
    "        # case 2. popped 노드의 자식노드가 1개일 때(오른쪽 자식노드가 없을 때)\n",
    "        elif popped_idx_right >= len(self.heap_array):\n",
    "            # 2-1. popped 노드 < 왼쪽 자식\n",
    "            if self.heap_array[popped_idx] < self.heap_array[popped_idx_left]:\n",
    "                return True\n",
    "            # 2-2. popped 노드 ≥ 왼쪽 자식\n",
    "            else: \n",
    "                return False\n",
    "        \n",
    "        # case 3. popped 노드의 자식노드가 2개일 때(양쪽 자식노드 다 있을 때)\n",
    "        else:\n",
    "            # 3-1. 왼쪽 자식 > 오른쪽 자식\n",
    "            if self.heap_array[popped_idx_left] > self.heap_array[popped_idx_right]:\n",
    "                # 3-1-1. popped < 왼쪽 자식\n",
    "                if self.heap_array[popped_idx] < self.heap_array[popped_idx_left]:\n",
    "                    return True\n",
    "                # 3-1-2. popped ≥ 왼쪽 자식\n",
    "                else:\n",
    "                    return False\n",
    "            # 3-2. 왼쪽 자식 ≤ 오른쪽 자식\n",
    "            else:\n",
    "                # 3-2-1. popped < 오른쪽 자식\n",
    "                if self.heap_array[popped_idx] < self.heap_array[popped_idx_right]:\n",
    "                    return True\n",
    "                # 3-2-2. popped ≥ 오른쪽 자식\n",
    "                else:\n",
    "                    return False\n",
    "    \n",
    "    def pop(self):\n",
    "        if len(self.heap_array) <= 1: # 루트 노드가 없을 때(= heap에 노드가 없을 때)\n",
    "            return None\n",
    "        \n",
    "        returned_data = self.heap_array[1]   \n",
    "        self.heap_array[1] = self.heap_array[-1]\n",
    "        del self.heap_array[-1]\n",
    "        \n",
    "        popped_idx = 1\n",
    "        while self.move_down(popped_idx):\n",
    "            popped_idx_left = popped_idx * 2\n",
    "            popped_idx_right = popped_idx * 2 +1\n",
    "            \n",
    "            # case 2. popped 노드의 자식노드가 1개일 때(오른쪽 자식노드가 없을 때)\n",
    "            if popped_idx_right >= len(self.heap_array):\n",
    "                # 2-1. popped 노드 < 왼쪽 자식\n",
    "                if self.heap_array[popped_idx] < self.heap_array[popped_idx_left]:\n",
    "                    self.heap_array[popped_idx], self.heap_array[popped_idx_left] = self.heap_array[popped_idx_left], self.heap_array[popped_idx]\n",
    "                popped_idx = popped_idx_left\n",
    "            \n",
    "            # case 3. popped 노드의 자식노드가 2개일 때(양쪽 자식노드 다 있을 때)\n",
    "            else:\n",
    "                # 3-1. 왼쪽 자식 > 오른쪽 자식\n",
    "                if self.heap_array[popped_idx_left] > self.heap_array[popped_idx_right]:\n",
    "                    # 3-1-1. popped 노드 < 왼쪽 자식\n",
    "                    if self.heap_array[popped_idx] < self.heap_array[popped_idx_left]:\n",
    "                        self.heap_array[popped_idx], self.heap_array[popped_idx_left] = self.heap_array[popped_idx_left], self.heap_array[popped_idx]\n",
    "                    popped_idx = popped_idx_left\n",
    "                # 3-2. 왼쪽 자식 ≤ 오른쪽 자식\n",
    "                else:\n",
    "                    # 3-2-1. popped 노드 < 오른쪽 자식\n",
    "                    if self.heap_array[popped_idx] < self.heap_array[popped_idx_right]:\n",
    "                        self.heap_array[popped_idx], self.heap_array[popped_idx_right] = self.heap_array[popped_idx_right], self.heap_array[popped_idx]\n",
    "                    popped_idx = popped_idx_right\n",
    "    \n",
    "        return returned_data"
   ]
  },
  {
   "cell_type": "markdown",
   "id": "66e552fe",
   "metadata": {},
   "source": [
    "### 힙 전체 코드 테스트 (Max Heap 예)"
   ]
  },
  {
   "cell_type": "code",
   "execution_count": 62,
   "id": "d3176429",
   "metadata": {},
   "outputs": [
    {
     "name": "stdout",
     "output_type": "stream",
     "text": [
      "[None, 15, 10, 8, 5, 4]\n"
     ]
    }
   ],
   "source": [
    "heap = Heap(15)\n",
    "\n",
    "heap.insert(10)\n",
    "heap.insert(8)\n",
    "heap.insert(5)\n",
    "heap.insert(4)\n",
    "print(heap.heap_array)"
   ]
  },
  {
   "cell_type": "code",
   "execution_count": 63,
   "id": "192f678a",
   "metadata": {},
   "outputs": [
    {
     "name": "stdout",
     "output_type": "stream",
     "text": [
      "[None, 20, 10, 15, 5, 4, 8]\n"
     ]
    }
   ],
   "source": [
    "# [Test] 노드 추가\n",
    "heap.insert(20)\n",
    "print(heap.heap_array)"
   ]
  },
  {
   "cell_type": "code",
   "execution_count": 64,
   "id": "894290b9",
   "metadata": {
    "scrolled": true
   },
   "outputs": [
    {
     "name": "stdout",
     "output_type": "stream",
     "text": [
      "20\n",
      "[None, 15, 10, 8, 5, 4]\n"
     ]
    }
   ],
   "source": [
    "# [Test] 노드 삭제 1\n",
    "print(heap.pop())\n",
    "print(heap.heap_array)"
   ]
  },
  {
   "cell_type": "code",
   "execution_count": 65,
   "id": "384809e0",
   "metadata": {
    "scrolled": true
   },
   "outputs": [
    {
     "name": "stdout",
     "output_type": "stream",
     "text": [
      "15\n",
      "[None, 10, 5, 8, 4]\n"
     ]
    }
   ],
   "source": [
    "# [Test] 노드 삭제 2\n",
    "print(heap.pop())\n",
    "print(heap.heap_array)"
   ]
  }
 ],
 "metadata": {
  "kernelspec": {
   "display_name": "Python 3 (ipykernel)",
   "language": "python",
   "name": "python3"
  },
  "language_info": {
   "codemirror_mode": {
    "name": "ipython",
    "version": 3
   },
   "file_extension": ".py",
   "mimetype": "text/x-python",
   "name": "python",
   "nbconvert_exporter": "python",
   "pygments_lexer": "ipython3",
   "version": "3.10.9"
  }
 },
 "nbformat": 4,
 "nbformat_minor": 5
}
