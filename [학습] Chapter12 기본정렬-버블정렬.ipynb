{
 "cells": [
  {
   "cell_type": "markdown",
   "id": "ac495f8a",
   "metadata": {},
   "source": [
    "### 2. <span style=\"background-color:#fff5b1\">버블 정렬 (bubble sort)</span> 란?\n",
    "* <span style=\"background-color:#fff5b1\">두 인접한 데이터를 비교해서, 앞에 있는 데이터가 뒤에 있는 데이터보다 크면, 자리를 바꾸는 정렬 알고리즘</span>\n",
    "\n",
    "#### 직접 눈으로 보면 더 이해가 쉽다: https://visualgo.net/en/sorting\n",
    "\n",
    "<img src=\"https://upload.wikimedia.org/wikipedia/commons/c/c8/Bubble-sort-example-300px.gif\" width=600/>\n",
    "\n",
    "> 출처: https://en.wikipedia.org/wiki/Bubble_sort"
   ]
  },
  {
   "cell_type": "markdown",
   "id": "83af9f2f",
   "metadata": {
    "collapsed": true
   },
   "source": [
    "### 3. 어떻게 코드로 만들까?\n",
    "\n",
    "> 알고리즘 연습 방법에 기반해서 단계별로 생각해봅니다."
   ]
  },
  {
   "cell_type": "markdown",
   "id": "7a172e70",
   "metadata": {},
   "source": [
    "<div class=\"alert alert-block alert-warning\">\n",
    "<strong><font color=\"blue\" size=\"4em\">프로그래밍 연습</font></strong><br>\n",
    "데이터가 두 개일 때 버블 정렬 알고리즘 방식으로 정렬해보세요<br>\n",
    "</div>"
   ]
  },
  {
   "cell_type": "markdown",
   "id": "a7cab5bf",
   "metadata": {},
   "source": [
    "data_list = [5, 2] \n",
    " - 1번째 턴\n",
    "   - 5 와 2 비교 : swap O → [2, 5]"
   ]
  },
  {
   "cell_type": "code",
   "execution_count": 1,
   "id": "3eb89bbe",
   "metadata": {},
   "outputs": [
    {
     "data": {
      "text/plain": [
       "[2, 5]"
      ]
     },
     "execution_count": 1,
     "metadata": {},
     "output_type": "execute_result"
    }
   ],
   "source": [
    "data_list = [5, 2]\n",
    "\n",
    "for index in range(len(data_list) - 1):\n",
    "    if data_list[i] > data_list[i+1]:\n",
    "        data_list[i], data_list[i+1] = data_list[i+1], data_list[i]\n",
    "        \n",
    "data_list"
   ]
  },
  {
   "cell_type": "markdown",
   "id": "427f20be",
   "metadata": {},
   "source": [
    "<div class=\"alert alert-block alert-warning\">\n",
    "<strong><font color=\"blue\" size=\"4em\">프로그래밍 연습</font></strong><br>\n",
    "데이터가 세 개일 때 버블 정렬 알고리즘 방식으로 정렬해보세요<br>\n",
    "</div>"
   ]
  },
  {
   "cell_type": "markdown",
   "id": "0e50d1a2",
   "metadata": {},
   "source": [
    "data_list = [5, 4, 2] \n",
    "  - 1번째 턴\n",
    "    - 5 와 4 비교 : swap O → [4, 5, 2]\n",
    "    - 5 와 2 비교 : swap O → [4, 2, 5] \n",
    "  - 2번째 턴\n",
    "    - 4 와 2 비교 : swap O → [2, 4, 5]\n",
    "    - 4 와 5 비교 : swap X → [2, 4, 5] "
   ]
  },
  {
   "cell_type": "code",
   "execution_count": 8,
   "id": "1f400648",
   "metadata": {},
   "outputs": [
    {
     "data": {
      "text/plain": [
       "[2, 4, 5]"
      ]
     },
     "execution_count": 8,
     "metadata": {},
     "output_type": "execute_result"
    }
   ],
   "source": [
    "# 턴 횟수 = len(data_list) - 1, 비교 횟수 = len(data_list) - 1\n",
    "\n",
    "data_list = [5, 4, 2]\n",
    "\n",
    "for index1 in range(len(data_list) - 1):            # 턴 반복\n",
    "    for index2 in range(len(data_list) - 1):        # 비교 반복\n",
    "        if data_list[index2] > data_list[index2+1]: # 비교 시 swap 조건\n",
    "            data_list[index2], data_list[index2+1] = data_list[index2+1], data_list[index2]\n",
    "        \n",
    "data_list"
   ]
  },
  {
   "cell_type": "markdown",
   "id": "dfbcb922",
   "metadata": {},
   "source": [
    "<div class=\"alert alert-block alert-warning\">\n",
    "<strong><font color=\"blue\" size=\"4em\">프로그래밍 연습</font></strong><br>\n",
    "데이터가 네 개일 때 버블 정렬 알고리즘 방식으로 정렬해보세요<br>\n",
    "</div>"
   ]
  },
  {
   "cell_type": "markdown",
   "id": "0ce0b75a",
   "metadata": {},
   "source": [
    "예1) data_list = [5, 4, 2, 1] \n",
    "  - 1번째 턴\n",
    "    - 5 와 4 비교 : swap O → [4, 5, 2, 1]\n",
    "    - 5 와 2 비교 : swap O → [4, 2, 5, 1]\n",
    "    - 5 와 1 비교 : swap O → [4, 2, 1, 5]\n",
    "  - 2번째 턴\n",
    "    - 4 와 2 비교 : swap O → [2, 4, 1, 5]\n",
    "    - 4 와 1 비교 : swap O → [2, 1, 4, 5]\n",
    "    - 4 와 5 비교 : swap X → [2, 1, 4, 5]\n",
    "  - 3번째 턴\n",
    "    - 2 와 1 비교 : swap O → [1, 2, 4, 5]\n",
    "    - 2 와 4 비교 : swap X → [1, 2, 4, 5]\n",
    "    - 4 와 5 비교 : swap X → [1, 2, 4, 5]"
   ]
  },
  {
   "cell_type": "code",
   "execution_count": 7,
   "id": "8c21876e",
   "metadata": {},
   "outputs": [
    {
     "data": {
      "text/plain": [
       "[1, 2, 4, 5]"
      ]
     },
     "execution_count": 7,
     "metadata": {},
     "output_type": "execute_result"
    }
   ],
   "source": [
    "# 턴 횟수 = len(data_list) - 1, 비교 횟수 = len(data_list) - 1\n",
    "# 한 턴을 지날 때마다, 가장 큰 숫자가 뒤에서부터 1개씩 고정됨 → 비교 시 swap할 횟수가 len(data_list) - 1 에서 1씩 감소\n",
    "\n",
    "data_list = [5, 4, 2, 1]\n",
    "                                                         # len(data_list) - 1 = 3\n",
    "for index1 in range(len(data_list) - 1):                # index1 = 0      , 1   , 2\n",
    "    for index2 in range((len(data_list) - 1) - index1): # index2 = 0,1,2 / 0,1 / 0\n",
    "        if data_list[index2] > data_list[index2+1]:\n",
    "            data_list[index2], data_list[index2+1] = data_list[index2+1], data_list[index2]\n",
    "        \n",
    "data_list"
   ]
  },
  {
   "cell_type": "markdown",
   "id": "4d2ff639",
   "metadata": {},
   "source": [
    "예2) data_list = [1, 9, 2, 3]\n",
    "  - 1번째 턴\n",
    "    - 1 와 9 비교: swap X → [1, 9, 2, 3]\n",
    "    - 9 와 2 비교: swap O → [1, 2, 9, 3]\n",
    "    - 9 와 3 비교: swap O → [1, 2, 3, 9]\n",
    "  - 2번째 턴\n",
    "    - 1 와 2 비교: swap X → [1, 2, 3, 9]\n",
    "    - 2 와 3 비교: swap X → [1, 2, 3, 9]\n",
    "    - 3 와 9 비교: swap X → [1, 2, 3, 9] (\\* 사실상 여기서 정렬을 더 진행할 필요 X)\n",
    "  - 3번째 턴\n",
    "    - 1 와 2 비교: swap X → [1, 2, 3, 9]\n",
    "    - 2 와 3 비교: swap X → [1, 2, 3, 9]\n",
    "    - 3 와 9 비교: swap X → [1, 2, 3, 9]"
   ]
  },
  {
   "cell_type": "code",
   "execution_count": 40,
   "id": "aa40e1ff",
   "metadata": {},
   "outputs": [
    {
     "data": {
      "text/plain": [
       "[1, 2, 3, 9]"
      ]
     },
     "execution_count": 40,
     "metadata": {},
     "output_type": "execute_result"
    }
   ],
   "source": [
    "# 턴 횟수 = len(data_list) - 1, 비교 횟수 = len(data_list) - 1\n",
    "# 한 턴을 지날 때마다, 가장 큰 숫자가 뒤에서부터 1개씩 고정됨 → 비교 시 swap할 횟수가 len(data_list) - 1 에서 1씩 감소\n",
    "# 한 턴이 끝났을 때, swap이 한번도 실행되지 않았으면 다음 턴으로 넘어갈 필요 없음(→ 정렬 중단)\n",
    "\n",
    "data_list = [1, 9, 2, 3]\n",
    "\n",
    "swap_count = 0 # swap 횟수 확인용 코드\n",
    "compare_count = 0 # 비교 횟수 확인용 코드\n",
    "\n",
    "for index1 in range(len(data_list) - 1):\n",
    "    swap = False # 턴마다 swap = False 로 초기화해줘야 하므로, 첫번째 반복문 안에, 두번째 반복문 위에 작성 \n",
    "    for index2 in range(len(data_list) - 1):\n",
    "        if data_list[index2] > data_list[index2+1]:\n",
    "            data_list[index2], data_list[index2+1] = data_list[index2+1], data_list[index2]\n",
    "            swap = True\n",
    "            swap_count += 1 # swap 횟수 확인용 코드\n",
    "        compare_count += 1 # 비교 횟수 확인용 코드\n",
    "            \n",
    "    if swap == False:\n",
    "        break\n",
    "        \n",
    "data_list"
   ]
  },
  {
   "cell_type": "code",
   "execution_count": 41,
   "id": "01f3f58c",
   "metadata": {},
   "outputs": [
    {
     "name": "stdout",
     "output_type": "stream",
     "text": [
      "2\n",
      "6\n"
     ]
    }
   ],
   "source": [
    "# swap 횟수 확인\n",
    "print(swap_count)\n",
    "\n",
    "# 비교 횟수 확인\n",
    "print(compare_count)"
   ]
  },
  {
   "cell_type": "markdown",
   "id": "aa267e51",
   "metadata": {
    "collapsed": true
   },
   "source": [
    "### 4. 알고리즘 구현\n",
    "* **특이점 찾아보기**\n",
    "  - n개의 리스트가 있는 경우 최대 n-1번의 로직을 적용한다.\n",
    "  - 로직을 1번 적용할 때마다 가장 큰 숫자가 뒤에서부터 1개씩 결정된다.\n",
    "  - 로직이 경우에 따라 일찍 끝날 수도 있다. 따라서 로직을 적용할 때 한 번도 데이터가 교환된 적이 없다면 이미 정렬된 상태이므로 더 이상 로직을 반복 적용할 필요가 없다.\n",
    "<img src=\"https://www.fun-coding.org/00_Images/bubblealgo.png\" />"
   ]
  },
  {
   "cell_type": "markdown",
   "id": "faf07693",
   "metadata": {
    "collapsed": true
   },
   "source": [
    "* data_list 를 버블정렬하기 위한 알고리즘 작성\n",
    "\n",
    "    1. 턴 반복문: for index1 in range(len(data_list) - 1)\n",
    "    2. 턴 반복문 안에, 스왑 여부를 확인할 수 있는 변수를 둚 : swap = False\n",
    "    3. 턴 반복문 안에, 비교 반복문: for index2 in range((len(data_list) - 1) - index1) (\\*한턴 마다 1씩 감소 구현 : - index1)\n",
    "    4. 턴 반복문 안에, 비교 반복문 안에, 비교시 swap 조건문: if data_list[index] > data_list[index + 1]\n",
    "    5. 위 조건문에 해당한다면, 스왑하기: data_list[index], data_list[index + 1] = data_list[index + 1], data_list[index]\n",
    "    6. 위 조건문에 해당한다면, 스왑 여부를 O로 바꿔주기 : swap = True\n",
    "    7. (비교 반복문 이후에) 턴 반복문 안에, 스왑 여부 X 면 정렬 중단하기: if swap == False: break "
   ]
  },
  {
   "cell_type": "markdown",
   "id": "30c5e372",
   "metadata": {
    "collapsed": true
   },
   "source": [
    "* **알고리즘 테스트**"
   ]
  },
  {
   "cell_type": "code",
   "execution_count": 63,
   "id": "15be623f",
   "metadata": {},
   "outputs": [],
   "source": [
    "def bubblesort(data):\n",
    "    for index1 in range(len(data) - 1):\n",
    "        swap = False\n",
    "        for index2 in range(len(data) - index1 - 1):\n",
    "            if data[index2] > data[index2 + 1]:\n",
    "                data[index2], data[index2 + 1] = data[index2 + 1], data[index2]\n",
    "                swap = True\n",
    "                \n",
    "        if swap == False:\n",
    "            break\n",
    "    \n",
    "    return data"
   ]
  },
  {
   "cell_type": "code",
   "execution_count": 64,
   "id": "816b3555",
   "metadata": {},
   "outputs": [
    {
     "name": "stdout",
     "output_type": "stream",
     "text": [
      "[50, 96, 9, 81, 29, 73, 14, 60, 82, 7, 48, 0, 84, 68, 58, 79, 13, 74, 53, 22, 27, 34, 21, 16, 72, 33, 98, 43, 38, 28, 97, 40, 15, 77, 59, 1, 36, 19, 55, 41, 62, 88, 11, 70, 52, 91, 23, 35, 75, 10]\n"
     ]
    }
   ],
   "source": [
    "import random\n",
    "\n",
    "data_list = random.sample(range(100), 50) # sample(sequence, k) : sequence 안에서, k 개의 데이터를 랜덤을 뽑아 리스트 만듦\n",
    "print(data_list)"
   ]
  },
  {
   "cell_type": "code",
   "execution_count": 65,
   "id": "f10b3a22",
   "metadata": {},
   "outputs": [
    {
     "name": "stdout",
     "output_type": "stream",
     "text": [
      "[0, 1, 7, 9, 10, 11, 13, 14, 15, 16, 19, 21, 22, 23, 27, 28, 29, 33, 34, 35, 36, 38, 40, 41, 43, 48, 50, 52, 53, 55, 58, 59, 60, 62, 68, 70, 72, 73, 74, 75, 77, 79, 81, 82, 84, 88, 91, 96, 97, 98]\n"
     ]
    }
   ],
   "source": [
    "print(bubblesort(data_list))"
   ]
  }
 ],
 "metadata": {
  "kernelspec": {
   "display_name": "Python 3 (ipykernel)",
   "language": "python",
   "name": "python3"
  },
  "language_info": {
   "codemirror_mode": {
    "name": "ipython",
    "version": 3
   },
   "file_extension": ".py",
   "mimetype": "text/x-python",
   "name": "python",
   "nbconvert_exporter": "python",
   "pygments_lexer": "ipython3",
   "version": "3.10.9"
  }
 },
 "nbformat": 4,
 "nbformat_minor": 5
}
