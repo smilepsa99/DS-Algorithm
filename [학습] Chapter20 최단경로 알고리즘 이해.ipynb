{
 "cells": [
  {
   "cell_type": "markdown",
   "id": "4e56c1bc",
   "metadata": {},
   "source": [
    "## 최단 경로 알고리즘의 이해"
   ]
  },
  {
   "cell_type": "markdown",
   "id": "47d71ceb",
   "metadata": {},
   "source": [
    "### 4. 다익스트라 알고리즘 파이썬 구현 (우선순위 큐 활용까지 포함)"
   ]
  },
  {
   "cell_type": "markdown",
   "id": "e4214cad",
   "metadata": {},
   "source": [
    "### 참고: heapq 라이브러리 활용을 통해 우선순위 큐 사용하기\n",
    "- 데이터가 리스트 형태일 경우, 0번 인덱스를 우선순위로 인지, 우선순위가 낮은 순서대로 pop 할 수 있음"
   ]
  },
  {
   "cell_type": "code",
   "execution_count": 1,
   "id": "af244f6c",
   "metadata": {},
   "outputs": [
    {
     "name": "stdout",
     "output_type": "stream",
     "text": [
      "[[1, 'C'], [5, 'B'], [2, 'A'], [7, 'D']]\n",
      "[1, 'C']\n",
      "[2, 'A']\n",
      "[5, 'B']\n",
      "[7, 'D']\n"
     ]
    }
   ],
   "source": [
    "# 우선순위 큐의 구현 방법\n",
    "\n",
    "import heapq\n",
    "\n",
    "queue = []\n",
    "heapq.heappush(queue, [2, 'A'])\n",
    "heapq.heappush(queue, [5, 'B'])\n",
    "heapq.heappush(queue, [1, 'C'])\n",
    "heapq.heappush(queue, [7, 'D'])\n",
    "\n",
    "print(queue)\n",
    "\n",
    "for index in range(len(queue)):\n",
    "    print(heapq.heappop(queue))"
   ]
  },
  {
   "cell_type": "markdown",
   "id": "108a3078",
   "metadata": {},
   "source": [
    "### 다익스트라 알고리즘\n",
    "- 탐색할 그래프의 시작 정점과 다른 정점들간의 최단 거리 구하기"
   ]
  },
  {
   "cell_type": "code",
   "execution_count": 2,
   "id": "68cffd2b",
   "metadata": {},
   "outputs": [],
   "source": [
    "# 0. 탐색할 그래프 구현\n",
    "\n",
    "mygraph = {\n",
    "    'A': {'B': 8, 'C': 1, 'D': 2},\n",
    "    'B': {},\n",
    "    'C': {'B': 5, 'D': 2},\n",
    "    'D': {'E': 3, 'F': 5},\n",
    "    'E': {'F': 1},\n",
    "    'F': {'A': 5}\n",
    "}"
   ]
  },
  {
   "cell_type": "code",
   "execution_count": 3,
   "id": "bfdb87d4",
   "metadata": {},
   "outputs": [],
   "source": [
    "import heapq\n",
    "\n",
    "def dijkstra(graph, start):\n",
    "    # 1. 초기화\n",
    "    # 1-1. 거리를 저장할 배열 선언\n",
    "    distances = {node: float('inf') for node in graph}\n",
    "    # 1-2. 시작정점의 거리를 0으로 업데이트 후, 우선순위 큐에 넣음\n",
    "    distances[start] = 0\n",
    "    queue = []\n",
    "    heapq.heappush(queue, [distances[start], start])\n",
    "    \n",
    "    # 2. 반복문으로 최단거리 찾기\n",
    "    while queue:\n",
    "        current_distance, current_node = heapq.heappop(queue)\n",
    "        \n",
    "        if distances[current_node] < current_distance:\n",
    "            continue\n",
    "        \n",
    "        for adjacent, weight in graph[current_node].items():\n",
    "            distance = current_distance + weight\n",
    "            \n",
    "            if distance < distances[adjacent]: # 최단거리를 찾은 경우 : 업데이트 후 우선순위 큐에 넣음\n",
    "                distances[adjacent] = distance\n",
    "                heapq.heappush(queue, [distance, adjacent])\n",
    "                \n",
    "    return distances"
   ]
  },
  {
   "cell_type": "markdown",
   "id": "c1c33fc7",
   "metadata": {},
   "source": [
    "<img src=\"https://www.fun-coding.org/00_Images/dijkstra.png\" width=300>"
   ]
  },
  {
   "cell_type": "code",
   "execution_count": 4,
   "id": "00c01bd0",
   "metadata": {},
   "outputs": [
    {
     "data": {
      "text/plain": [
       "{'A': 0, 'B': 6, 'C': 1, 'D': 2, 'E': 5, 'F': 6}"
      ]
     },
     "execution_count": 4,
     "metadata": {},
     "output_type": "execute_result"
    }
   ],
   "source": [
    "dijkstra(mygraph, 'A')"
   ]
  },
  {
   "cell_type": "markdown",
   "id": "d5a9601b",
   "metadata": {},
   "source": [
    "### 참고: 최단 경로 출력\n",
    "- 탐색할 그래프의 시작 정점과 다른 정점들간의 최단 거리 및 최단 경로 출력하기"
   ]
  },
  {
   "cell_type": "code",
   "execution_count": 5,
   "id": "1c5005c8",
   "metadata": {},
   "outputs": [],
   "source": [
    "import heapq\n",
    "\n",
    "def dijkstra2(graph, start, end):\n",
    "    \n",
    "    # 최단 거리 탐색\n",
    "    distances = {node: [float('inf'), start] for node in graph}\n",
    "    distances[start] = [0, start]\n",
    "    queue = []\n",
    "    heapq.heappush(queue, [distances[start][0], start])\n",
    "    \n",
    "    while queue:\n",
    "        current_distance, current_node = heapq.heappop(queue)\n",
    "        \n",
    "        if distances[current_node][0] < current_distance:\n",
    "            continue\n",
    "        \n",
    "        for adjacent, weight in graph[current_node].items():\n",
    "            distance = current_distance + weight\n",
    "            \n",
    "            if distance < distances[adjacent][0]:\n",
    "                distances[adjacent] = [distance, current_node]\n",
    "                heapq.heappush(queue, [distance, adjacent])\n",
    "                \n",
    "    # 최단 경로 출력\n",
    "    path = end\n",
    "    path_output = end\n",
    "    while distances[path][1] != start:\n",
    "        path_output += \" ← \" + distances[path][1]\n",
    "        path = distances[path][1]\n",
    "    path_output += \" ← \" + start\n",
    "    print(path_output)\n",
    "    \n",
    "    return distances"
   ]
  },
  {
   "cell_type": "code",
   "execution_count": 6,
   "id": "b9884160",
   "metadata": {
    "scrolled": true
   },
   "outputs": [
    {
     "name": "stdout",
     "output_type": "stream",
     "text": [
      "F ← E ← D ← A\n"
     ]
    },
    {
     "data": {
      "text/plain": [
       "{'A': [0, 'A'],\n",
       " 'B': [6, 'C'],\n",
       " 'C': [1, 'A'],\n",
       " 'D': [2, 'A'],\n",
       " 'E': [5, 'D'],\n",
       " 'F': [6, 'E']}"
      ]
     },
     "execution_count": 6,
     "metadata": {},
     "output_type": "execute_result"
    }
   ],
   "source": [
    "dijkstra2(mygraph, 'A', 'F')"
   ]
  },
  {
   "cell_type": "code",
   "execution_count": 7,
   "id": "1d4bad4f",
   "metadata": {
    "scrolled": true
   },
   "outputs": [
    {
     "name": "stdout",
     "output_type": "stream",
     "text": [
      "B ← C ← A\n"
     ]
    },
    {
     "data": {
      "text/plain": [
       "{'A': [0, 'A'],\n",
       " 'B': [6, 'C'],\n",
       " 'C': [1, 'A'],\n",
       " 'D': [2, 'A'],\n",
       " 'E': [5, 'D'],\n",
       " 'F': [6, 'E']}"
      ]
     },
     "execution_count": 7,
     "metadata": {},
     "output_type": "execute_result"
    }
   ],
   "source": [
    "dijkstra2(mygraph, 'A', 'B')"
   ]
  },
  {
   "cell_type": "markdown",
   "id": "d552b46f",
   "metadata": {},
   "source": [
    "---"
   ]
  },
  {
   "cell_type": "code",
   "execution_count": 8,
   "id": "6e63f249",
   "metadata": {},
   "outputs": [],
   "source": [
    "# 최단 경로 출력 보완 (내 코드)\n",
    "\n",
    "import heapq\n",
    "\n",
    "def dijkstra3(graph, start, end):\n",
    "    \n",
    "    # 최단 거리 탐색\n",
    "    distances = {node: [float('inf'), start] for node in graph}\n",
    "    distances[start] = [0, start]\n",
    "    queue = []\n",
    "    heapq.heappush(queue, [distances[start][0], start])\n",
    "    \n",
    "    while queue:\n",
    "        current_distance, current_node = heapq.heappop(queue)\n",
    "        \n",
    "        if distances[current_node][0] < current_distance:\n",
    "            continue\n",
    "        \n",
    "        for adjacent, weight in graph[current_node].items():\n",
    "            distance = current_distance + weight\n",
    "            \n",
    "            if distance < distances[adjacent][0]:\n",
    "                distances[adjacent] = [distance, current_node]\n",
    "                heapq.heappush(queue, [distance, adjacent])\n",
    "                \n",
    "    # 최단 경로 출력\n",
    "    path = end\n",
    "    path_list = list()\n",
    "    path_output = \"\"\n",
    "    \n",
    "    while distances[path][1] != start:\n",
    "        path_list.append(distances[path][1])\n",
    "        path = distances[path][1]\n",
    "    \n",
    "    path_list.reverse()\n",
    "    for node in path_list:\n",
    "        path_output += node + \" → \"\n",
    "    path_output = start + \" → \" + path_output + end \n",
    "    print(path_output)\n",
    "    \n",
    "    return distances"
   ]
  },
  {
   "cell_type": "code",
   "execution_count": 9,
   "id": "4e544bc4",
   "metadata": {
    "scrolled": true
   },
   "outputs": [
    {
     "name": "stdout",
     "output_type": "stream",
     "text": [
      "A → D → E → F\n"
     ]
    },
    {
     "data": {
      "text/plain": [
       "{'A': [0, 'A'],\n",
       " 'B': [6, 'C'],\n",
       " 'C': [1, 'A'],\n",
       " 'D': [2, 'A'],\n",
       " 'E': [5, 'D'],\n",
       " 'F': [6, 'E']}"
      ]
     },
     "execution_count": 9,
     "metadata": {},
     "output_type": "execute_result"
    }
   ],
   "source": [
    "dijkstra3(mygraph, 'A', 'F')"
   ]
  },
  {
   "cell_type": "code",
   "execution_count": 10,
   "id": "ff1a884b",
   "metadata": {
    "scrolled": true
   },
   "outputs": [
    {
     "name": "stdout",
     "output_type": "stream",
     "text": [
      "A → D → E\n"
     ]
    },
    {
     "data": {
      "text/plain": [
       "{'A': [0, 'A'],\n",
       " 'B': [6, 'C'],\n",
       " 'C': [1, 'A'],\n",
       " 'D': [2, 'A'],\n",
       " 'E': [5, 'D'],\n",
       " 'F': [6, 'E']}"
      ]
     },
     "execution_count": 10,
     "metadata": {},
     "output_type": "execute_result"
    }
   ],
   "source": [
    "dijkstra3(mygraph, 'A', 'E')"
   ]
  },
  {
   "cell_type": "code",
   "execution_count": 11,
   "id": "03078117",
   "metadata": {},
   "outputs": [
    {
     "name": "stdout",
     "output_type": "stream",
     "text": [
      "A → C → B\n"
     ]
    },
    {
     "data": {
      "text/plain": [
       "{'A': [0, 'A'],\n",
       " 'B': [6, 'C'],\n",
       " 'C': [1, 'A'],\n",
       " 'D': [2, 'A'],\n",
       " 'E': [5, 'D'],\n",
       " 'F': [6, 'E']}"
      ]
     },
     "execution_count": 11,
     "metadata": {},
     "output_type": "execute_result"
    }
   ],
   "source": [
    "dijkstra3(mygraph, 'A', 'B')"
   ]
  }
 ],
 "metadata": {
  "kernelspec": {
   "display_name": "Python 3 (ipykernel)",
   "language": "python",
   "name": "python3"
  },
  "language_info": {
   "codemirror_mode": {
    "name": "ipython",
    "version": 3
   },
   "file_extension": ".py",
   "mimetype": "text/x-python",
   "name": "python",
   "nbconvert_exporter": "python",
   "pygments_lexer": "ipython3",
   "version": "3.10.9"
  }
 },
 "nbformat": 4,
 "nbformat_minor": 5
}
