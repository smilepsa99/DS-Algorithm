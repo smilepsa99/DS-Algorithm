{
 "cells": [
  {
   "cell_type": "markdown",
   "id": "154f7a0b",
   "metadata": {},
   "source": [
    "## < 자료구조와 알고리즘 정리 >"
   ]
  },
  {
   "cell_type": "markdown",
   "id": "15f081fe",
   "metadata": {},
   "source": [
    "### 자료구조"
   ]
  },
  {
   "cell_type": "markdown",
   "id": "5982f260",
   "metadata": {},
   "source": [
    "- 배열, 큐, 스택, 링크드 리스트, 해쉬 테이블\n",
    "- 트리, 이진탐색트리, 힙"
   ]
  },
  {
   "cell_type": "markdown",
   "id": "1beb13d5",
   "metadata": {},
   "source": [
    "### 알고리즘"
   ]
  },
  {
   "cell_type": "markdown",
   "id": "3f11df50",
   "metadata": {},
   "source": [
    "- **정렬**\n",
    "    - 기본: 버블, 선택, 삽입\n",
    "    - 고급: 병합, 퀵\n",
    "<br><br>\n",
    "- 재귀 호출\n",
    "- 프로그래밍 전략 - 동적 계획법, 분할 정복, 탐욕 알고리즘, 백트래킹\n",
    "<br><br>\n",
    "- **탐색**\n",
    "    - 순차탐색, 이진탐색, (해쉬테이블, 이진탐색트리)\n",
    "<br><br>\n",
    "- **그래프**\n",
    "    - 너비 우선 탐색(BFS), 깊이 우선 탐색(DFS)\n",
    "    - 최단 경로 알고리즘 (다익스트라 알고리즘)\n",
    "    - 최소 신장 트리 알고리즘\n",
    "            - 크루스칼 알고리즘, 프림 알고리즘"
   ]
  },
  {
   "cell_type": "markdown",
   "id": "730fed23",
   "metadata": {},
   "source": [
    "----"
   ]
  },
  {
   "cell_type": "markdown",
   "id": "309877c3",
   "metadata": {},
   "source": [
    "### 자료구조와 알고리즘 향후 학습 방법\n",
    " - 기본적으로 자료구조, 알고리즘을 반복 학습한 후!\n",
    "   - 각 알고리즘을 사용하는 유사한 코딩 테스트 문제들을, 한꺼번에 묶어서 쭉 풀어보세요 <font color = \"blue\">⇒ 알고리즘 별로 문제를 모아서, 한꺼번에 쭉 풀어보기</font>\n",
    "   - 연습장을 활용해서 알고리즘을 고안하는 기법을 연습하세요"
   ]
  }
 ],
 "metadata": {
  "kernelspec": {
   "display_name": "Python 3 (ipykernel)",
   "language": "python",
   "name": "python3"
  },
  "language_info": {
   "codemirror_mode": {
    "name": "ipython",
    "version": 3
   },
   "file_extension": ".py",
   "mimetype": "text/x-python",
   "name": "python",
   "nbconvert_exporter": "python",
   "pygments_lexer": "ipython3",
   "version": "3.10.9"
  }
 },
 "nbformat": 4,
 "nbformat_minor": 5
}
