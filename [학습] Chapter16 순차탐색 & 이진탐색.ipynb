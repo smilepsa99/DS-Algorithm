{
 "cells": [
  {
   "cell_type": "markdown",
   "id": "e8eec0b7",
   "metadata": {},
   "source": [
    "## 탐색 알고리즘1: <span style=\"background-color:#fff5b1\">순차 탐색 (Sequential Search)</span>"
   ]
  },
  {
   "cell_type": "markdown",
   "id": "d118594e",
   "metadata": {},
   "source": [
    "### 1. 순차 탐색 (Sequential Search) 이란?\n",
    "* <font color = \"blue\">탐색</font>은 <font color = \"blue\">여러 데이터 중에서 원하는 데이터를 찾아내는 것</font>을 의미\n",
    "* 데이터가 담겨있는 리스트를 <span style=\"background-color:#fff5b1\">앞에서부터 하나씩 비교</span>해서 원하는 데이터를 찾는 방법"
   ]
  },
  {
   "cell_type": "markdown",
   "id": "e6cbc054",
   "metadata": {
    "solution2": "hidden",
    "solution2_first": true
   },
   "source": [
    "<div class=\"alert alert-block alert-warning\">\n",
    "<strong><font color=\"blue\" size=\"4em\">프로그래밍 연습</font></strong><br>\n",
    "임의 리스트가 다음과 같이 rand_data_list로 있을 때, 원하는 데이터의 위치를 리턴하는 순차탐색 알고리즘 작성해보기<br>\n",
    "- 가장 기본적인 방법이므로, 직접 작성해보겠습니다.\n",
    "- 원하는 데이터가 리스트에 없을 경우 -1을 리턴\n",
    "</div>\n",
    "<pre>\n",
    "# 데이터 준비: data_list 10개 만들기\n",
    "from random import *\n",
    " \n",
    "rand_data_list = list()\n",
    "for num in range(10):\n",
    "    rand_data_list.append(randint(1, 100))\n",
    "</pre>"
   ]
  },
  {
   "cell_type": "code",
   "execution_count": 1,
   "id": "f196fbfe",
   "metadata": {},
   "outputs": [
    {
     "data": {
      "text/plain": [
       "[9, 79, 45, 49, 17, 24, 94, 93, 92, 79]"
      ]
     },
     "execution_count": 1,
     "metadata": {},
     "output_type": "execute_result"
    }
   ],
   "source": [
    "from random import *\n",
    "\n",
    "rand_data_list = list()\n",
    "for num in range(10):\n",
    "    rand_data_list.append(randint(1, 100))\n",
    "    \n",
    "rand_data_list"
   ]
  },
  {
   "cell_type": "code",
   "execution_count": 2,
   "id": "ccaf2426",
   "metadata": {},
   "outputs": [],
   "source": [
    "# 내 코드\n",
    "def sequencial(n, data_list):\n",
    "    for index in range(len(data_list)):\n",
    "        if data_list[index] == n:\n",
    "            return data_list.index(n)\n",
    "    return -1 # 이걸 for문 안에서 돌리면, index 0 이 아닐시 더 확인하지 않고 바로 -1로 반환됨 주의"
   ]
  },
  {
   "cell_type": "code",
   "execution_count": 3,
   "id": "01ea4da8",
   "metadata": {},
   "outputs": [
    {
     "name": "stdout",
     "output_type": "stream",
     "text": [
      "0\n",
      "3\n",
      "-1\n"
     ]
    }
   ],
   "source": [
    "print(sequencial(9, rand_data_list))\n",
    "print(sequencial(49, rand_data_list))\n",
    "print(sequencial(0, rand_data_list))"
   ]
  },
  {
   "cell_type": "code",
   "execution_count": 4,
   "id": "270109ff",
   "metadata": {},
   "outputs": [],
   "source": [
    "# 쌤 코드\n",
    "def sequencial(data_list, search_data):\n",
    "    for index in range(len(data_list)):\n",
    "        if data_list[index] == search_data:\n",
    "            return index\n",
    "    return -1"
   ]
  },
  {
   "cell_type": "code",
   "execution_count": 6,
   "id": "80a49ac5",
   "metadata": {
    "scrolled": false
   },
   "outputs": [
    {
     "name": "stdout",
     "output_type": "stream",
     "text": [
      "0\n",
      "3\n",
      "-1\n"
     ]
    }
   ],
   "source": [
    "print(sequencial(rand_data_list, 9))\n",
    "print(sequencial(rand_data_list, 49))\n",
    "print(sequencial(rand_data_list, 0))"
   ]
  },
  {
   "cell_type": "markdown",
   "id": "34829434",
   "metadata": {},
   "source": [
    "**- - - - - - - - - - - - - - - - - - - - - - - - - - - - - - - - - - - - - - - - - - - - - - - - - - - - - - - - - - - - - - - - - - - - - - - - - - - - - - - - - - - - - - - - - - - - - - - - - - - - - - - - - - - - - - - - - -**"
   ]
  },
  {
   "cell_type": "markdown",
   "id": "39ed6857",
   "metadata": {},
   "source": [
    "## 탐색 알고리즘2: <span style=\"background-color:#fff5b1\">이진 탐색 (Binary Search)</span>\n",
    "- 지금까지 4개의 탐색 알고리즘을 배움 : 해쉬테이블, 이진탐색트리, 순차탐색, 이진탐색"
   ]
  },
  {
   "cell_type": "markdown",
   "id": "f583a841",
   "metadata": {},
   "source": [
    "### 1. 이진 탐색 (Binary Search) 이란?\n",
    "* 탐색할 <span style=\"background-color:#fff5b1\">자료를 둘로 나누어</span> 해당 데이터가 있을만한 곳을 탐색하는 방법"
   ]
  },
  {
   "cell_type": "markdown",
   "id": "15c10446",
   "metadata": {},
   "source": [
    "### 4. 알고리즘 구현"
   ]
  },
  {
   "cell_type": "code",
   "execution_count": 47,
   "id": "61ea49c0",
   "metadata": {},
   "outputs": [],
   "source": [
    "# 내 코드\n",
    "\n",
    "def binary_search(data, search):\n",
    "    medium = int(len(data) / 2)\n",
    "    if search == data[medium]:\n",
    "        return True\n",
    "    elif medium == 0:\n",
    "        return False\n",
    "    \n",
    "    elif search < data[medium]:\n",
    "        return binary_search(data[:medium], search)\n",
    "    elif search > data[medium]:\n",
    "        return binary_search(data[medium:], search)# 여기서 medium + 1 로 쓰면 안됨: IndexError 날 수 있음\n",
    "                                                   #  그냥 medium 으로 쓰면 에러없이 되긴 하는데.. 내가 짠 코드는 좀 헷갈리는 듯"
   ]
  },
  {
   "cell_type": "code",
   "execution_count": 48,
   "id": "e367dae2",
   "metadata": {},
   "outputs": [
    {
     "data": {
      "text/plain": [
       "[5, 27, 37, 44, 63, 67, 68, 79, 89, 93, 95]"
      ]
     },
     "execution_count": 48,
     "metadata": {},
     "output_type": "execute_result"
    }
   ],
   "source": [
    "import random\n",
    "\n",
    "data_list = random.sample(range(100), 11)\n",
    "data_list.sort()\n",
    "data_list"
   ]
  },
  {
   "cell_type": "code",
   "execution_count": 49,
   "id": "8b7c93ee",
   "metadata": {},
   "outputs": [
    {
     "name": "stdout",
     "output_type": "stream",
     "text": [
      "True\n",
      "False\n"
     ]
    }
   ],
   "source": [
    "print(binary_search(data_list, 68))\n",
    "print(binary_search(data_list, 100))"
   ]
  },
  {
   "cell_type": "code",
   "execution_count": 52,
   "id": "f498f217",
   "metadata": {},
   "outputs": [],
   "source": [
    "# 쌤 코드\n",
    "\n",
    "def binary_search(data, search):\n",
    "    print(data) # 분할과정 확인용 코드\n",
    "    if len(data) == 1 and search == data[0]:\n",
    "        return True\n",
    "    if len(data) == 1 and search != data[0]:\n",
    "        return False\n",
    "    if len(data) == 0: # 2. 재귀함수로 돌 때, 슬라이싱 된 리스트가 [] 일 수 있음\n",
    "        return False\n",
    "    \n",
    "    medium = len(data) // 2\n",
    "    if search == data[medium]:\n",
    "        return True\n",
    "    elif search > data[medium]:\n",
    "        return binary_search(data[medium + 1:], search) 1. 여기서 medium: 이 아니라 medium + 1: 을 쓰면..(2번으로)\n",
    "    else:\n",
    "        return binary_search(data[:medium], search)"
   ]
  },
  {
   "cell_type": "code",
   "execution_count": 53,
   "id": "17b45273",
   "metadata": {},
   "outputs": [
    {
     "data": {
      "text/plain": [
       "[16, 19, 22, 30, 40, 49, 60, 75, 84, 92]"
      ]
     },
     "execution_count": 53,
     "metadata": {},
     "output_type": "execute_result"
    }
   ],
   "source": [
    "import random\n",
    "\n",
    "data_list = random.sample(range(100), 10)\n",
    "data_list.sort()\n",
    "data_list"
   ]
  },
  {
   "cell_type": "code",
   "execution_count": 54,
   "id": "26cc8782",
   "metadata": {},
   "outputs": [
    {
     "name": "stdout",
     "output_type": "stream",
     "text": [
      "[16, 19, 22, 30, 40, 49, 60, 75, 84, 92]\n",
      "[60, 75, 84, 92]\n",
      "[60, 75]\n",
      "[60]\n"
     ]
    },
    {
     "data": {
      "text/plain": [
       "False"
      ]
     },
     "execution_count": 54,
     "metadata": {},
     "output_type": "execute_result"
    }
   ],
   "source": [
    "binary_search(data_list, 50)"
   ]
  }
 ],
 "metadata": {
  "kernelspec": {
   "display_name": "Python 3 (ipykernel)",
   "language": "python",
   "name": "python3"
  },
  "language_info": {
   "codemirror_mode": {
    "name": "ipython",
    "version": 3
   },
   "file_extension": ".py",
   "mimetype": "text/x-python",
   "name": "python",
   "nbconvert_exporter": "python",
   "pygments_lexer": "ipython3",
   "version": "3.10.9"
  }
 },
 "nbformat": 4,
 "nbformat_minor": 5
}
