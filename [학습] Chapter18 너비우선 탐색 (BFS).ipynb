{
 "cells": [
  {
   "cell_type": "markdown",
   "id": "5c1df2c2",
   "metadata": {},
   "source": [
    "### 2. 파이썬으로 그래프를 표현하는 방법\n",
    "- 파이썬에서 제공하는 딕셔너리와 리스트 자료 구조를 활용해서 그래프를 표현할 수 있음"
   ]
  },
  {
   "cell_type": "markdown",
   "id": "d9ca8167",
   "metadata": {},
   "source": [
    "### 그래프 예와 파이썬 표현\n",
    "<img src=\"https://www.fun-coding.org/00_Images/bfsgraph.png\" width=700>"
   ]
  },
  {
   "cell_type": "code",
   "execution_count": 1,
   "id": "a36b05ee",
   "metadata": {},
   "outputs": [],
   "source": [
    "graph = dict()\n",
    "\n",
    "graph['A'] = ['B', 'C']\n",
    "graph['B'] = ['A', 'D']\n",
    "graph['C'] = ['A', 'G', 'H', 'I']\n",
    "graph['D'] = ['B', 'E', 'F']\n",
    "graph['E'] = ['D']\n",
    "graph['F'] = ['D']\n",
    "graph['G'] = ['C']\n",
    "graph['H'] = ['C']\n",
    "graph['I'] = ['C', 'J']\n",
    "graph['J'] = ['I']"
   ]
  },
  {
   "cell_type": "code",
   "execution_count": 2,
   "id": "89949376",
   "metadata": {},
   "outputs": [
    {
     "data": {
      "text/plain": [
       "{'A': ['B', 'C'],\n",
       " 'B': ['A', 'D'],\n",
       " 'C': ['A', 'G', 'H', 'I'],\n",
       " 'D': ['B', 'E', 'F'],\n",
       " 'E': ['D'],\n",
       " 'F': ['D'],\n",
       " 'G': ['C'],\n",
       " 'H': ['C'],\n",
       " 'I': ['C', 'J'],\n",
       " 'J': ['I']}"
      ]
     },
     "execution_count": 2,
     "metadata": {},
     "output_type": "execute_result"
    }
   ],
   "source": [
    "graph"
   ]
  },
  {
   "cell_type": "markdown",
   "id": "52dbb29f",
   "metadata": {},
   "source": [
    "### 3. BFS 알고리즘 구현\n",
    "\n",
    "- 자료구조 큐를 활용함\n",
    "  - need_visit 큐와 visited 큐, <font color = \"blue\">두 개의 큐를 생성</font>\n",
    "  \n",
    "<img src=\"https://www.fun-coding.org/00_Images/bfsqueue.png\" width=700>"
   ]
  },
  {
   "cell_type": "markdown",
   "id": "a128f728",
   "metadata": {},
   "source": [
    "- 큐의 구현은 간단히 파이썬 리스트를 활용"
   ]
  },
  {
   "cell_type": "code",
   "execution_count": 3,
   "id": "932e260f",
   "metadata": {},
   "outputs": [],
   "source": [
    "def bsf(graph, start_node):\n",
    "    need_visit = list()\n",
    "    visited = list()\n",
    "    \n",
    "    need_visit.append(start_node)\n",
    "    \n",
    "    while need_visit:\n",
    "        node = need_visit.pop(0) # 큐 need_visit 에서 인덱스값이 0인 노드를 꺼내서, 변수 node 에 저장\n",
    "        if node not in visited:\n",
    "            visited.append(node)\n",
    "            need_visit.extend(graph[node])\n",
    "    \n",
    "    return visited"
   ]
  },
  {
   "cell_type": "code",
   "execution_count": 4,
   "id": "19944217",
   "metadata": {},
   "outputs": [
    {
     "data": {
      "text/plain": [
       "['A', 'B', 'C', 'D', 'G', 'H', 'I', 'E', 'F', 'J']"
      ]
     },
     "execution_count": 4,
     "metadata": {},
     "output_type": "execute_result"
    }
   ],
   "source": [
    "bsf(graph, 'A')"
   ]
  },
  {
   "cell_type": "markdown",
   "id": "8cc2c774",
   "metadata": {},
   "source": [
    "<img src=\"https://www.fun-coding.org/00_Images/bfsgraph.png\" width=700>"
   ]
  },
  {
   "cell_type": "markdown",
   "id": "86657662",
   "metadata": {},
   "source": [
    "### 4. 시간 복잡도\n",
    "- 일반적인 BFS 시간 복잡도\n",
    "  - 노드 수: V (Vertex)\n",
    "  - 간선 수: E (Edge)\n",
    "    - 위 코드에서 while need_visit 은 V + E 번 만큼 수행함\n",
    "  - 시간 복잡도: <span style=\"background-color:#fff5b1\">O(V + E)</span> (그래프는 n 이 입력되는게 아니라, 노드와 간선이 입력되기 때문에 이렇게 표기됨)\n",
    "  "
   ]
  },
  {
   "cell_type": "code",
   "execution_count": 5,
   "id": "808a01e4",
   "metadata": {},
   "outputs": [],
   "source": [
    "# 실행 횟수 확인\n",
    "\n",
    "def bsf(graph, start_node):\n",
    "    need_visit = list()\n",
    "    visited = list()\n",
    "    \n",
    "    need_visit.append(start_node)\n",
    "    count = 0 # 확인용 코드\n",
    "    while need_visit:\n",
    "        count += 1 # 확인용 코드\n",
    "        node = need_visit.pop(0)\n",
    "        if node not in visited:\n",
    "            visited.append(node)\n",
    "            need_visit.extend(graph[node])\n",
    "    \n",
    "    print(count) # 확인용 코드\n",
    "    return visited"
   ]
  },
  {
   "cell_type": "code",
   "execution_count": 6,
   "id": "d81d81df",
   "metadata": {},
   "outputs": [
    {
     "name": "stdout",
     "output_type": "stream",
     "text": [
      "19\n"
     ]
    },
    {
     "data": {
      "text/plain": [
       "['A', 'B', 'C', 'D', 'G', 'H', 'I', 'E', 'F', 'J']"
      ]
     },
     "execution_count": 6,
     "metadata": {},
     "output_type": "execute_result"
    }
   ],
   "source": [
    "bsf(graph, 'A') # 총 실행횟수 : 19 (노드 수 10 + 간선 수 9)"
   ]
  }
 ],
 "metadata": {
  "kernelspec": {
   "display_name": "Python 3 (ipykernel)",
   "language": "python",
   "name": "python3"
  },
  "language_info": {
   "codemirror_mode": {
    "name": "ipython",
    "version": 3
   },
   "file_extension": ".py",
   "mimetype": "text/x-python",
   "name": "python",
   "nbconvert_exporter": "python",
   "pygments_lexer": "ipython3",
   "version": "3.10.9"
  }
 },
 "nbformat": 4,
 "nbformat_minor": 5
}
