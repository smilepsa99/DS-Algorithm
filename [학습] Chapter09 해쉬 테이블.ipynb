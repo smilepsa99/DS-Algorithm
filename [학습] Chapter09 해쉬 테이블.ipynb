{
 "cells": [
  {
   "cell_type": "markdown",
   "id": "d917eca2",
   "metadata": {},
   "source": [
    "### 3. 간단한 해쉬 예"
   ]
  },
  {
   "cell_type": "markdown",
   "id": "536d1d2e",
   "metadata": {},
   "source": [
    "#### 3.1. hash table 만들기\n",
    "* 참고: 파이썬 list comprehension - https://www.fun-coding.org/PL&OOP5-2.html"
   ]
  },
  {
   "cell_type": "code",
   "execution_count": 1,
   "id": "7b79dbcd",
   "metadata": {},
   "outputs": [
    {
     "data": {
      "text/plain": [
       "[0, 0, 0, 0, 0, 0, 0, 0, 0, 0]"
      ]
     },
     "execution_count": 1,
     "metadata": {},
     "output_type": "execute_result"
    }
   ],
   "source": [
    "hash_table = [0 for i in range(10)]\n",
    "hash_table"
   ]
  },
  {
   "cell_type": "markdown",
   "id": "54a1dbff",
   "metadata": {},
   "source": [
    "#### 3.2. 이번엔 초간단 해쉬 함수를 만들어봅니다.\n",
    "- 다양한 해쉬 함수 고안 기법이 있으며, 가장 간단한 방식이 Division 법 (나누기를 통한 나머지 값을 사용하는 기법)"
   ]
  },
  {
   "cell_type": "code",
   "execution_count": 2,
   "id": "dd29919d",
   "metadata": {},
   "outputs": [],
   "source": [
    "def hash_func(key):\n",
    "    return key % 5"
   ]
  },
  {
   "cell_type": "markdown",
   "id": "84481a61",
   "metadata": {},
   "source": [
    "#### 3.3. 해쉬 테이블에 저장해보겠습니다.\n",
    "- 데이터에 따라 필요시 key 생성 방법 정의가 필요함"
   ]
  },
  {
   "cell_type": "code",
   "execution_count": 3,
   "id": "f451b918",
   "metadata": {},
   "outputs": [
    {
     "name": "stdout",
     "output_type": "stream",
     "text": [
      "65 68 84\n",
      "65 0\n"
     ]
    }
   ],
   "source": [
    "data1 = \"Andy\"\n",
    "data2 = \"Dave\"\n",
    "data3 = \"Trump\"\n",
    "\n",
    "# ord(): 문자의 ASCII(아스키)코드 리턴\n",
    "print(ord(data1[0]), ord(data2[0]), ord(data3[0]))\n",
    "print(ord(data1[0]), hash_func(ord(data1[0])))"
   ]
  },
  {
   "cell_type": "markdown",
   "id": "e9dc15fd",
   "metadata": {},
   "source": [
    "- 3.3.2. 해쉬 테이블에 값 저장 예\n",
    "  - data:value 와 같이 data 와 value를 넣으면, 해당 data에 대한 key를 찾아서, 해당 key에 대응하는 해쉬주소에 value를 저장하는 예"
   ]
  },
  {
   "cell_type": "code",
   "execution_count": 4,
   "id": "bff83aef",
   "metadata": {},
   "outputs": [],
   "source": [
    "def storage_data(data, value):\n",
    "    key = ord(data[0])\n",
    "    hash_address = hash_func(key)\n",
    "    hash_table[hash_address] = value"
   ]
  },
  {
   "cell_type": "markdown",
   "id": "17ddd74a",
   "metadata": {},
   "source": [
    "#### 3.4. 해쉬 테이블에서 특정 주소의 데이터를 가져오는 함수도 만들어봅니다."
   ]
  },
  {
   "cell_type": "code",
   "execution_count": 5,
   "id": "6745a580",
   "metadata": {},
   "outputs": [],
   "source": [
    "def get_data(data):\n",
    "    key = ord(data[0])\n",
    "    hash_address = hash_func(key)\n",
    "    return hash_table[hash_address]"
   ]
  },
  {
   "cell_type": "markdown",
   "id": "fd555636",
   "metadata": {},
   "source": [
    "#### 3.5. 실제 데이터를 저장하고, 읽어보겠습니다."
   ]
  },
  {
   "cell_type": "code",
   "execution_count": 6,
   "id": "7561fa1a",
   "metadata": {},
   "outputs": [],
   "source": [
    "storage_data(\"Andy\", \"01055553333\")\n",
    "storage_data(\"Dave\", \"01044443333\")\n",
    "storage_data(\"Trump\", \"01022223333\")"
   ]
  },
  {
   "cell_type": "code",
   "execution_count": 7,
   "id": "e5928e81",
   "metadata": {},
   "outputs": [
    {
     "data": {
      "text/plain": [
       "'01055553333'"
      ]
     },
     "execution_count": 7,
     "metadata": {},
     "output_type": "execute_result"
    }
   ],
   "source": [
    "get_data(\"Andy\")"
   ]
  },
  {
   "cell_type": "markdown",
   "id": "03f61d26",
   "metadata": {},
   "source": [
    "### 4. 자료 구조 해쉬 테이블의 장단점과 주요 용도\n",
    "- 장점\n",
    "  - 데이터 저장/읽기 <span style=\"background-color:#fff5b1\">속도가 빠르다.</span> (검색 속도가 빠르다.)\n",
    "  - 해쉬는 키에 대한 데이터가 있는지 확인이 쉬움 (중복 처리가 쉬움)\n",
    "- 단점 \n",
    "  - 일반적으로 저장공간이 좀더 많이 필요하다.\n",
    "  - **여러 키에 해당하는 주소가 동일할 경우 충돌을 해결하기 위한 별도 자료구조가 필요함**\n",
    "- 주요 용도\n",
    "  - 검색이 많이 필요한 경우\n",
    "  - 저장, 삭제, 읽기가 빈번한 경우\n",
    "  - 캐쉬 구현시 (중복 확인이 쉽기 때문)"
   ]
  },
  {
   "cell_type": "markdown",
   "id": "8f87356f",
   "metadata": {},
   "source": [
    "### 4. 자료 구조 해쉬 테이블의 장단점과 주요 용도\n",
    "- 장점\n",
    "  - 데이터 저장/읽기 <span style=\"background-color:#fff5b1\">속도가 빠르다.</span> (검색 속도가 빠르다.)\n",
    "  - 해쉬는 키에 대한 데이터가 있는지 확인이 쉬움 (중복 처리가 쉬움)\n",
    "- 단점 \n",
    "  - 일반적으로 저장공간이 좀더 많이 필요하다.\n",
    "  - <span style=\"background-color:#fff5b1\">**여러 키에 해당하는 주소가 동일할 경우, 충돌을 해결하기 위한 별도 자료구조가 필요함**</span>\n",
    "- 주요 용도\n",
    "  - 검색이 많이 필요한 경우\n",
    "  - 저장, 삭제, 읽기가 빈번한 경우\n",
    "  - 캐쉬 구현시 (중복 확인이 쉽기 때문)"
   ]
  },
  {
   "cell_type": "code",
   "execution_count": 8,
   "id": "39916f9e",
   "metadata": {},
   "outputs": [
    {
     "name": "stdout",
     "output_type": "stream",
     "text": [
      "65 65\n"
     ]
    }
   ],
   "source": [
    "data1 = \"Andy\"\n",
    "data2 = \"Dave\"\n",
    "data3 = \"Trump\"\n",
    "data4 = \"Anthor\"\n",
    "\n",
    "print(ord(data1[0]), ord(data4[0])) # 여러 키에 해당하는 주소가 동일한 경우"
   ]
  },
  {
   "cell_type": "markdown",
   "id": "5926d488",
   "metadata": {},
   "source": [
    "### 5. 프로그래밍 연습"
   ]
  },
  {
   "cell_type": "markdown",
   "id": "6a01f907",
   "metadata": {},
   "source": [
    "<div class=\"alert alert-block alert-warning\">\n",
    "<strong><font color=\"blue\" size=\"3em\">연습1: 리스트 변수를 활용해서 해쉬 테이블 구현해보기</font></strong><br>\n",
    "1. 해쉬 함수: key % 8<br>\n",
    "2. 해쉬 키 생성: hash(data)\n",
    "</div>"
   ]
  },
  {
   "cell_type": "code",
   "execution_count": 9,
   "id": "b5626b44",
   "metadata": {},
   "outputs": [
    {
     "data": {
      "text/plain": [
       "505266903576357045"
      ]
     },
     "execution_count": 9,
     "metadata": {},
     "output_type": "execute_result"
    }
   ],
   "source": [
    "# 파이썬 내장함수 hash()\n",
    "hash(\"Dave\")"
   ]
  },
  {
   "cell_type": "code",
   "execution_count": 10,
   "id": "60998889",
   "metadata": {},
   "outputs": [],
   "source": [
    "hash_table = [0 for i in range(8)]\n",
    "\n",
    "def get_key(data):\n",
    "    return hash(data)\n",
    "\n",
    "def hash_function(key):\n",
    "    return key % 8\n",
    "\n",
    "def save_data(data, value):\n",
    "    hash_address = hash_function(get_key(data))\n",
    "    hash_table[hash_address] = value\n",
    "\n",
    "def read_data(data):\n",
    "    hash_address = hash_function(get_key(data))\n",
    "    return hash_table[hash_address]"
   ]
  },
  {
   "cell_type": "code",
   "execution_count": 11,
   "id": "b59a84db",
   "metadata": {},
   "outputs": [
    {
     "data": {
      "text/plain": [
       "'0102030200'"
      ]
     },
     "execution_count": 11,
     "metadata": {},
     "output_type": "execute_result"
    }
   ],
   "source": [
    "save_data(\"Dave\", \"0102030200\")\n",
    "save_data(\"Andy\", \"01033232200\")\n",
    "read_data(\"Dave\")"
   ]
  },
  {
   "cell_type": "code",
   "execution_count": 12,
   "id": "a65b0fa6",
   "metadata": {
    "scrolled": true
   },
   "outputs": [
    {
     "data": {
      "text/plain": [
       "[0, 0, 0, '01033232200', 0, '0102030200', 0, 0]"
      ]
     },
     "execution_count": 12,
     "metadata": {},
     "output_type": "execute_result"
    }
   ],
   "source": [
    "hash_table"
   ]
  },
  {
   "cell_type": "markdown",
   "id": "43587cd0",
   "metadata": {},
   "source": [
    "### 6. 충돌(Collision) 해결 알고리즘 (좋은 해쉬 함수 사용하기)\n",
    "> 해쉬 테이블의 가장 큰 문제는 충돌(Collision)의 경우입니다.\n",
    "> 이 문제를 충돌(Collision) 또는 해쉬 충돌(Hash Collision)이라고 부릅니다."
   ]
  },
  {
   "cell_type": "markdown",
   "id": "25c59e08",
   "metadata": {},
   "source": [
    "#### 6.1. Chaining 기법\n",
    "- **개방 해슁 또는 Open Hashing 기법** 중 하나: 해쉬 테이블 저장공간 외의 공간을 활용하는 기법\n",
    "- 충돌이 일어나면, 링크드 리스트라는 자료 구조를 사용해서, 링크드 리스트로 데이터를 추가로 뒤에 연결시켜서 저장하는 기법"
   ]
  },
  {
   "cell_type": "markdown",
   "id": "fbd42e87",
   "metadata": {},
   "source": [
    "<div class=\"alert alert-block alert-warning\">\n",
    "<strong><font color=\"blue\" size=\"3em\">연습2: 연습1의 해쉬 테이블 코드에 Chaining 기법으로 충돌해결 코드를 추가해보기</font></strong><br>\n",
    "1. 해쉬 함수: key % 8<br>\n",
    "2. 해쉬 키 생성: hash(data)\n",
    "</div>"
   ]
  },
  {
   "cell_type": "code",
   "execution_count": 13,
   "id": "46f7aed3",
   "metadata": {},
   "outputs": [],
   "source": [
    "hash_table = [0 for i in range(8)]\n",
    "\n",
    "def get_key(data):\n",
    "    return hash(data)\n",
    "    \n",
    "def hash_function(key):\n",
    "    return key % 8\n",
    "\n",
    "def save_data(data, value):\n",
    "    index_key = get_key(data)\n",
    "    hash_address = hash_function(index_key)\n",
    "    if hash_table[hash_address] != 0:\n",
    "        for index in range(len(hash_table[hash_address])):\n",
    "            if hash_table[hash_address][index][0] == index_key:\n",
    "                hash_table[hash_address][index][1] = value\n",
    "                return\n",
    "        hash_table[hash_address].append([index_key, value])\n",
    "    else:\n",
    "        hash_table[hash_address] = [[index_key, value]]\n",
    "    \n",
    "def read_data(data):\n",
    "    index_key = get_key(data)\n",
    "    hash_address = hash_function(index_key)\n",
    "    if hash_table[hash_address] != 0:\n",
    "        for index in range(len(hash_table[hash_address])):\n",
    "            if hash_table[hash_address][index][0] == index_key:\n",
    "                return hash_table[hash_address][index][1]\n",
    "        return None\n",
    "    else:\n",
    "        return None"
   ]
  },
  {
   "cell_type": "code",
   "execution_count": 17,
   "id": "e7a3d397",
   "metadata": {
    "scrolled": true
   },
   "outputs": [
    {
     "name": "stdout",
     "output_type": "stream",
     "text": [
      "3\n",
      "5\n",
      "3\n"
     ]
    }
   ],
   "source": [
    "# hash_address 가 같아서 충돌이 일어날 data 찾기 (\"Andy\"와 \"Trump\"가 같게 나옴 (hash() 특성상 할 때마다 다름주의))\n",
    "print(hash(\"Andy\") % 8)\n",
    "print(hash(\"Dave\") % 8)\n",
    "print(hash(\"Trump\") % 8)"
   ]
  },
  {
   "cell_type": "code",
   "execution_count": 18,
   "id": "e4a55ed7",
   "metadata": {},
   "outputs": [],
   "source": [
    "# hash_table 에 hash_address 가 같게 나오는 2개의 data 저장\n",
    "save_data(\"Andy\", \"1234\")\n",
    "save_data(\"Trump\", \"5678\")"
   ]
  },
  {
   "cell_type": "code",
   "execution_count": 19,
   "id": "c5aacbd7",
   "metadata": {},
   "outputs": [
    {
     "name": "stdout",
     "output_type": "stream",
     "text": [
      "1234\n",
      "5678\n"
     ]
    }
   ],
   "source": [
    "# 충돌한 두 data가 잘 저장됐는지 확인(Chaining 기법이 잘 적용됐는지 확인)\n",
    "print(read_data(\"Andy\"))\n",
    "print(read_data(\"Trump\"))"
   ]
  },
  {
   "cell_type": "code",
   "execution_count": 20,
   "id": "e9b8d456",
   "metadata": {
    "scrolled": true
   },
   "outputs": [
    {
     "data": {
      "text/plain": [
       "[0,\n",
       " 0,\n",
       " 0,\n",
       " [[-6568529494570225165, '1234'], [1899328724047400331, '5678']],\n",
       " 0,\n",
       " 0,\n",
       " 0,\n",
       " 0]"
      ]
     },
     "execution_count": 20,
     "metadata": {},
     "output_type": "execute_result"
    }
   ],
   "source": [
    "# hash_table 전체 확인\n",
    "hash_table"
   ]
  },
  {
   "cell_type": "markdown",
   "id": "6c32df1b",
   "metadata": {},
   "source": [
    "#### 6.2. <span style=\"background-color:#fff5b1\">Linear Probing</span> 기법\n",
    "- **폐쇄 해슁 또는 <span style=\"background-color:#fff5b1\">Close Hashing</span> 기법** 중 하나: 해쉬 테이블 <span style=\"background-color:#fff5b1\">저장공간 안에서 충돌 문제를 해결</span>하는 기법\n",
    "- 충돌이 일어나면, 해당 hash address의 다음 address부터 맨 처음 나오는 빈공간에 저장하는 기법\n",
    "  - 저장공간 활용도를 높이기 위한 기법"
   ]
  },
  {
   "cell_type": "markdown",
   "id": "9f98c16b",
   "metadata": {},
   "source": [
    "<div class=\"alert alert-block alert-warning\">\n",
    "<strong><font color=\"blue\" size=\"3em\">연습3: 연습1의 해쉬 테이블 코드에 Linear Probling 기법으로 충돌해결 코드를 추가해보기</font></strong><br>\n",
    "1. 해쉬 함수: key % 8<br>\n",
    "2. 해쉬 키 생성: hash(data)\n",
    "</div>"
   ]
  },
  {
   "cell_type": "code",
   "execution_count": 49,
   "id": "c21feeb3",
   "metadata": {},
   "outputs": [],
   "source": [
    "hash_table = [0 for i in range(8)]\n",
    "\n",
    "def get_key(data):\n",
    "    return hash(data)\n",
    "\n",
    "def hash_function(key):\n",
    "    return key % 8\n",
    "\n",
    "def save_data(data, value):\n",
    "    index_key = get_key(data)\n",
    "    hash_address = hash_function(index_key)\n",
    "    if hash_table[hash_address] != 0:\n",
    "        for index in range(hash_address, len(hash_table)):\n",
    "            if hash_table[index] == 0:\n",
    "                hash_table[index] = [index_key, value]\n",
    "                return  # return 안하면 의도한 작업 후에도 루프가 계속 돌아서, 입력한 데이터가 불필요하게 더 저장될 수 있음\n",
    "            elif hash_table[index][0] == index_key:\n",
    "                hash_table[index][1] = value\n",
    "                return  # return 안하면 의도한 작업 후에도 루프가 계속 돌아서, 입력한 데이터가 불필요하게 더 저장될 수 있음\n",
    "    else:\n",
    "        hash_table[hash_address] = [index_key, value]\n",
    "        \n",
    "def read_data(data):\n",
    "    index_key = get_key(data)\n",
    "    hash_address = hash_function(index_key)\n",
    "    if hash_table[hash_address] != 0:\n",
    "        for index in range(hash_address, len(hash_table)):\n",
    "            if hash_table[index] == 0:\n",
    "                return None\n",
    "            elif hash_table[index][0] == index_key:\n",
    "                return hash_table[index][1]\n",
    "    else:\n",
    "        return None"
   ]
  },
  {
   "cell_type": "code",
   "execution_count": 50,
   "id": "4b93d612",
   "metadata": {},
   "outputs": [
    {
     "name": "stdout",
     "output_type": "stream",
     "text": [
      "3\n",
      "5\n",
      "3\n",
      "3\n"
     ]
    }
   ],
   "source": [
    "# hash_address 가 같아서 충돌이 일어날 data 찾기 (\"Andy\",\"Trump\",\"Trunk\"가 3으로 같게 나옴 (hash() 특성상 할 때마다 다름주의))\n",
    "print(hash(\"Andy\") % 8)\n",
    "print(hash(\"Dave\") % 8)\n",
    "print(hash(\"Trump\") % 8)\n",
    "print(hash(\"Trunk\") % 8)"
   ]
  },
  {
   "cell_type": "code",
   "execution_count": 51,
   "id": "dd9a9f99",
   "metadata": {},
   "outputs": [],
   "source": [
    "# hash_table 에 hash_address 가 같게 나오는 2개의 data 저장\n",
    "save_data(\"Andy\", \"1234\")\n",
    "save_data(\"Trump\", \"5678\")"
   ]
  },
  {
   "cell_type": "code",
   "execution_count": 52,
   "id": "b0ca8007",
   "metadata": {},
   "outputs": [
    {
     "name": "stdout",
     "output_type": "stream",
     "text": [
      "1234\n",
      "5678\n"
     ]
    }
   ],
   "source": [
    "# 충돌한 두 data가 잘 저장됐는지 확인\n",
    "print(read_data(\"Andy\"))\n",
    "print(read_data(\"Trump\"))"
   ]
  },
  {
   "cell_type": "code",
   "execution_count": 53,
   "id": "b729976d",
   "metadata": {},
   "outputs": [
    {
     "name": "stdout",
     "output_type": "stream",
     "text": [
      "None\n"
     ]
    }
   ],
   "source": [
    "# hash_table 에 없는 data 에 대해 None이 반환되는지 확인\n",
    "print(read_data(\"Trunk\"))"
   ]
  },
  {
   "cell_type": "code",
   "execution_count": 54,
   "id": "a9c56d4b",
   "metadata": {
    "scrolled": true
   },
   "outputs": [
    {
     "data": {
      "text/plain": [
       "[0,\n",
       " 0,\n",
       " 0,\n",
       " [-6568529494570225165, '1234'],\n",
       " [1899328724047400331, '5678'],\n",
       " 0,\n",
       " 0,\n",
       " 0]"
      ]
     },
     "execution_count": 54,
     "metadata": {},
     "output_type": "execute_result"
    }
   ],
   "source": [
    "# hash_table 전체 확인\n",
    "hash_table"
   ]
  },
  {
   "cell_type": "code",
   "execution_count": 55,
   "id": "e5dd3cc0",
   "metadata": {},
   "outputs": [
    {
     "name": "stdout",
     "output_type": "stream",
     "text": [
      "9999\n"
     ]
    }
   ],
   "source": [
    "# \"Trump\"의 value 값을 수정 후, 잘 갱신되는지 확인\n",
    "save_data(\"Trump\", \"9999\")\n",
    "print(read_data(\"Trump\"))"
   ]
  },
  {
   "cell_type": "code",
   "execution_count": 56,
   "id": "59a2ff58",
   "metadata": {
    "scrolled": true
   },
   "outputs": [
    {
     "data": {
      "text/plain": [
       "[0,\n",
       " 0,\n",
       " 0,\n",
       " [-6568529494570225165, '1234'],\n",
       " [1899328724047400331, '9999'],\n",
       " 0,\n",
       " 0,\n",
       " 0]"
      ]
     },
     "execution_count": 56,
     "metadata": {},
     "output_type": "execute_result"
    }
   ],
   "source": [
    "# hash_table 전체 확인\n",
    "hash_table"
   ]
  },
  {
   "cell_type": "markdown",
   "id": "23d0d9e8",
   "metadata": {},
   "source": [
    "### 참고: 해쉬 함수와 키 생성 함수\n",
    "- 파이썬의 hash() 함수는 실행할 때마다, 값이 달라질 수 있음\n",
    "- 유명한 해쉬 함수들이 있음: SHA(Secure Hash Algorithm, 안전한 해시 알고리즘)\n",
    "  - 어떤 데이터도 유일한 고정된 크기의 고정값을 리턴해주므로, 해쉬 함수로 유용하게 활용 가능"
   ]
  },
  {
   "cell_type": "markdown",
   "id": "49d8abc4",
   "metadata": {},
   "source": [
    "#### SHA-1"
   ]
  },
  {
   "cell_type": "code",
   "execution_count": 59,
   "id": "9bc00e89",
   "metadata": {},
   "outputs": [
    {
     "name": "stdout",
     "output_type": "stream",
     "text": [
      "a94a8fe5ccb19ba61c4c0873d391e987982fbbd3\n"
     ]
    }
   ],
   "source": [
    "import hashlib\n",
    "\n",
    "data = 'test'.encode() # encode() : 문자열을 byte 형태로 변환 / b'test' 로도 쓸 수 있음\n",
    "hash_object = hashlib.sha1()\n",
    "hash_object.update(data)\n",
    "hex_dig = hash_object.hexdigest() # hexdigest() : 바이트 문자열을, 16진수로 변환한 문자열 반환\n",
    "print (hex_dig)"
   ]
  },
  {
   "cell_type": "markdown",
   "id": "9abb20be",
   "metadata": {},
   "source": [
    "#### SHA-256 (SHA-1보다 좀 더 보안이 잘됨, 블록체인에서 사용됨)"
   ]
  },
  {
   "cell_type": "code",
   "execution_count": 60,
   "id": "52ea6458",
   "metadata": {},
   "outputs": [
    {
     "name": "stdout",
     "output_type": "stream",
     "text": [
      "9f86d081884c7d659a2feaa0c55ad015a3bf4f1b2b0b822cd15d6c15b0f00a08\n"
     ]
    }
   ],
   "source": [
    "import hashlib\n",
    "\n",
    "data = 'test'.encode()\n",
    "hash_object = hashlib.sha256()\n",
    "hash_object.update(data)\n",
    "hex_dig = hash_object.hexdigest()\n",
    "print (hex_dig)"
   ]
  },
  {
   "cell_type": "markdown",
   "id": "0a5a9396",
   "metadata": {},
   "source": [
    "<div class=\"alert alert-block alert-warning\">\n",
    "<strong><font color=\"blue\" size=\"3em\">연습4: 연습2의 Chaining 기법을 적용한 해쉬 테이블 코드에 키 생성 함수를 sha256 해쉬 알고리즘을 사용하도록 변경해보기</font></strong><br>\n",
    "1. 해쉬 함수: key % 8<br>\n",
    "2. 해쉬 키 생성: hash(data)\n",
    "</div>"
   ]
  },
  {
   "cell_type": "code",
   "execution_count": 98,
   "id": "81fa38c0",
   "metadata": {},
   "outputs": [],
   "source": [
    "import hashlib\n",
    "\n",
    "hash_table = [0 for i in range(8)]\n",
    "\n",
    "def get_key(data):\n",
    "    hash_object = hashlib.sha256()\n",
    "    hash_object.update(data.encode())\n",
    "    hex_dig = hash_object.hexdigest()\n",
    "    return int(hex_dig, 16) # 16진수에 해당하는 hex_dig를 정수로 변환한다는 의미 (int(value, base)의 형태)\n",
    "\n",
    "def hash_function(key):\n",
    "    return key % 8\n",
    "\n",
    "def save_data(data, value):\n",
    "    index_key = get_key(data)\n",
    "    hash_address = hash_function(index_key)\n",
    "    if hash_table[hash_address] != 0:\n",
    "        for index in range(hash_address, len(hash_table)):\n",
    "            if hash_table[index] == 0:\n",
    "                hash_table[index] = [index_key, value]\n",
    "                return\n",
    "            elif hash_table[index][0] == index_key:\n",
    "                hash_table[index][1] = value\n",
    "                return \n",
    "    else:\n",
    "        hash_table[hash_address] = [index_key, value]\n",
    "        \n",
    "def read_data(data):\n",
    "    index_key = get_key(data)\n",
    "    hash_address = hash_function(index_key)\n",
    "    if hash_table[hash_address] != 0:\n",
    "        for index in range(hash_address, len(hash_table)):\n",
    "            if hash_table[index] == 0:\n",
    "                return None\n",
    "            elif hash_table[index][0] == index_key:\n",
    "                return hash_table[index][1]\n",
    "    else:\n",
    "        return None"
   ]
  },
  {
   "cell_type": "code",
   "execution_count": 99,
   "id": "cc207d73",
   "metadata": {},
   "outputs": [
    {
     "name": "stdout",
     "output_type": "stream",
     "text": [
      "4\n",
      "0\n",
      "2\n",
      "0\n",
      "2\n",
      "2\n"
     ]
    }
   ],
   "source": [
    "# hash_address 가 같아서 충돌이 일어날 data 찾기 (\"Trump\",\"Daniel\", \"David\"가 2로 같음을 확인)\n",
    "print(get_key(\"Andy\") % 8)\n",
    "print(get_key(\"Dave\") % 8)\n",
    "print(get_key(\"Trump\") % 8)\n",
    "print(get_key(\"Trunk\") % 8)\n",
    "print(get_key(\"Daniel\") % 8)\n",
    "print(get_key(\"David\") % 8)"
   ]
  },
  {
   "cell_type": "code",
   "execution_count": 100,
   "id": "6070b1cc",
   "metadata": {},
   "outputs": [],
   "source": [
    "# hash_table 에 hash_address 가 같게 나오는 2개의 data 저장\n",
    "save_data(\"Trump\", \"1212\")\n",
    "save_data(\"Daniel\", \"3434\")"
   ]
  },
  {
   "cell_type": "code",
   "execution_count": 101,
   "id": "664cc091",
   "metadata": {
    "scrolled": true
   },
   "outputs": [
    {
     "name": "stdout",
     "output_type": "stream",
     "text": [
      "1212\n",
      "3434\n"
     ]
    }
   ],
   "source": [
    "# 충돌한 두 data가 잘 저장됐는지 확인\n",
    "print(read_data(\"Trump\"))\n",
    "print(read_data(\"Daniel\"))"
   ]
  },
  {
   "cell_type": "code",
   "execution_count": 102,
   "id": "f31b0fff",
   "metadata": {},
   "outputs": [
    {
     "name": "stdout",
     "output_type": "stream",
     "text": [
      "None\n"
     ]
    }
   ],
   "source": [
    "# hash_table 에 없는 data 에 대해 None이 반환되는지 확인\n",
    "print(read_data(\"David\"))"
   ]
  },
  {
   "cell_type": "code",
   "execution_count": 103,
   "id": "9ba4bd91",
   "metadata": {},
   "outputs": [
    {
     "data": {
      "text/plain": [
       "[0,\n",
       " 0,\n",
       " [38963611933561328912070133308933138173803869618081389837010443199484385680034,\n",
       "  '1212'],\n",
       " [51831973626089399691765291278110360994453548131076530201167334246864962829442,\n",
       "  '3434'],\n",
       " 0,\n",
       " 0,\n",
       " 0,\n",
       " 0]"
      ]
     },
     "execution_count": 103,
     "metadata": {},
     "output_type": "execute_result"
    }
   ],
   "source": [
    "# hash_table 전체 확인\n",
    "hash_table"
   ]
  }
 ],
 "metadata": {
  "kernelspec": {
   "display_name": "Python 3 (ipykernel)",
   "language": "python",
   "name": "python3"
  },
  "language_info": {
   "codemirror_mode": {
    "name": "ipython",
    "version": 3
   },
   "file_extension": ".py",
   "mimetype": "text/x-python",
   "name": "python",
   "nbconvert_exporter": "python",
   "pygments_lexer": "ipython3",
   "version": "3.10.9"
  }
 },
 "nbformat": 4,
 "nbformat_minor": 5
}
