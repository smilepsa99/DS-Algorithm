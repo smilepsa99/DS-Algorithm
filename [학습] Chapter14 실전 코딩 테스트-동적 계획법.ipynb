{
 "cells": [
  {
   "cell_type": "markdown",
   "id": "d9b66e96",
   "metadata": {},
   "source": [
    "### 실전 코딩 테스트 - 동적 계획법"
   ]
  },
  {
   "cell_type": "markdown",
   "id": "578d7f95",
   "metadata": {},
   "source": [
    "### 1. 연습 문제: https://www.acmicpc.net/problem/11726"
   ]
  },
  {
   "cell_type": "code",
   "execution_count": 1,
   "id": "c7b5a300",
   "metadata": {},
   "outputs": [],
   "source": [
    "# 내 코드\n",
    "\n",
    "def func(n):\n",
    "    if n <= 2:\n",
    "        return n\n",
    "    \n",
    "    cache = [0 for i in range(n + 1)]\n",
    "    cache[1] = 1\n",
    "    cache[2] = 2\n",
    "    \n",
    "    for index in range(3, n + 1):\n",
    "        cache[index] = cache[index - 1] + cache[index - 2]\n",
    "    return cache[n]"
   ]
  },
  {
   "cell_type": "code",
   "execution_count": 2,
   "id": "c2a35a88",
   "metadata": {},
   "outputs": [
    {
     "data": {
      "text/plain": [
       "2"
      ]
     },
     "execution_count": 2,
     "metadata": {},
     "output_type": "execute_result"
    }
   ],
   "source": [
    "func(2)"
   ]
  },
  {
   "cell_type": "code",
   "execution_count": 3,
   "id": "fbd6a797",
   "metadata": {},
   "outputs": [
    {
     "data": {
      "text/plain": [
       "55"
      ]
     },
     "execution_count": 3,
     "metadata": {},
     "output_type": "execute_result"
    }
   ],
   "source": [
    "func(9)"
   ]
  },
  {
   "cell_type": "markdown",
   "id": "03c0e997",
   "metadata": {},
   "source": [
    "### 코드 작성 패턴\n",
    "- 1. 빈 리스트 만들기(입력값에 따른)\n",
    "- 2. 초기값을 설정\n",
    "- 3. 점화식 기반으로 계산값 적용하기\n",
    "- 4. 특정 입력값에 따른 계산값을 리스트에서 추출하기"
   ]
  },
  {
   "cell_type": "code",
   "execution_count": 4,
   "id": "50f45170",
   "metadata": {},
   "outputs": [
    {
     "name": "stdout",
     "output_type": "stream",
     "text": [
      "9\n",
      "55\n"
     ]
    }
   ],
   "source": [
    "# 쌤 코드\n",
    "\n",
    "n = int(input())\n",
    "\n",
    "# 1. 빈 리스트 만들기\n",
    "dp = [0] * 1001\n",
    "\n",
    "# 2. 초기값 설정\n",
    "dp[1] = 1\n",
    "dp[2] = 2\n",
    "\n",
    "# 3. 점화식 기반으로 계산값 적용\n",
    "for index in range(3, n + 1):\n",
    "    dp[index] = dp[index - 1] + dp[index - 2]\n",
    "\n",
    "# 4. 특정 입력값에 따른 계산값을 리스트에서 추출하기\n",
    "print(dp[n] % 10007)"
   ]
  },
  {
   "cell_type": "markdown",
   "id": "b6bcb2c5",
   "metadata": {},
   "source": [
    "### 2. 연습문제: https://www.acmicpc.net/problem/9461"
   ]
  },
  {
   "cell_type": "code",
   "execution_count": 5,
   "id": "a847fa33",
   "metadata": {},
   "outputs": [
    {
     "name": "stdout",
     "output_type": "stream",
     "text": [
      "12\n",
      "16\n"
     ]
    }
   ],
   "source": [
    "# 내 코드\n",
    "\n",
    "n = int(input())\n",
    "\n",
    "dp = [0] * 101\n",
    "\n",
    "dp[1] = 1\n",
    "dp[2] = 1\n",
    "dp[3] = 1\n",
    "\n",
    "for index in range(4, n + 1):\n",
    "    dp[index] = dp[index - 2] + dp[index - 3]\n",
    "    \n",
    "print(dp[n])"
   ]
  },
  {
   "cell_type": "code",
   "execution_count": 6,
   "id": "20b7adcb",
   "metadata": {},
   "outputs": [
    {
     "name": "stdout",
     "output_type": "stream",
     "text": [
      "1\n",
      "3\n",
      "16\n"
     ]
    }
   ],
   "source": [
    "# 쌤 코드\n",
    "\n",
    "dp = [0] * 101\n",
    "dp[1], dp[2], dp[3] = 1, 1, 1\n",
    "\n",
    "for index in range(1, 98):\n",
    "    dp[index + 3] = dp[index] + dp[index + 1]\n",
    "    \n",
    "print(dp[2])\n",
    "print(dp[6])\n",
    "print(dp[12])"
   ]
  },
  {
   "cell_type": "markdown",
   "id": "8f1fab29",
   "metadata": {},
   "source": [
    "### 추가 참고 문제: 3. https://www.acmicpc.net/problem/1904"
   ]
  },
  {
   "cell_type": "code",
   "execution_count": 7,
   "id": "b4e1aa35",
   "metadata": {},
   "outputs": [
    {
     "name": "stdout",
     "output_type": "stream",
     "text": [
      "4\n",
      "5\n"
     ]
    }
   ],
   "source": [
    "# 내 코드\n",
    "\n",
    "n = int(input())\n",
    "\n",
    "dp = [0] * (n + 1)\n",
    "dp[1], dp[2] = 1, 2\n",
    "for i in range(3, n + 1):\n",
    "    dp[i] = dp[i - 1] + dp[i - 2]\n",
    "print(dp[n])"
   ]
  },
  {
   "cell_type": "code",
   "execution_count": 8,
   "id": "049af332",
   "metadata": {},
   "outputs": [
    {
     "name": "stdout",
     "output_type": "stream",
     "text": [
      "5\n"
     ]
    }
   ],
   "source": [
    "# 쌤 코드\n",
    "\n",
    "n = 4\n",
    "\n",
    "dp = [0] * 1000001\n",
    "dp[1] = 1\n",
    "dp[2] = 2\n",
    "\n",
    "for index in range(3, n + 1):\n",
    "    dp[index] = (dp[index - 1] + dp[index - 2]) % 15746\n",
    "\n",
    "print(dp[n])"
   ]
  }
 ],
 "metadata": {
  "kernelspec": {
   "display_name": "Python 3 (ipykernel)",
   "language": "python",
   "name": "python3"
  },
  "language_info": {
   "codemirror_mode": {
    "name": "ipython",
    "version": 3
   },
   "file_extension": ".py",
   "mimetype": "text/x-python",
   "name": "python",
   "nbconvert_exporter": "python",
   "pygments_lexer": "ipython3",
   "version": "3.10.9"
  }
 },
 "nbformat": 4,
 "nbformat_minor": 5
}
