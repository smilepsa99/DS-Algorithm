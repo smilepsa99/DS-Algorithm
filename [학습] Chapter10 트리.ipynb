{
 "cells": [
  {
   "cell_type": "markdown",
   "id": "7bcbfed8",
   "metadata": {},
   "source": [
    "### 5. 파이썬 객체지향 프로그래밍으로 링크드 리스트 구현하기"
   ]
  },
  {
   "cell_type": "markdown",
   "id": "ecbe0e8c",
   "metadata": {},
   "source": [
    "#### 5.1. 노드 클래스 만들기"
   ]
  },
  {
   "cell_type": "code",
   "execution_count": 1,
   "id": "c9f0ab80",
   "metadata": {},
   "outputs": [],
   "source": [
    "class Node:\n",
    "    def __init__(self, value):\n",
    "        self.value = value\n",
    "        self.left = None\n",
    "        self.right = None"
   ]
  },
  {
   "cell_type": "markdown",
   "id": "92c76b10",
   "metadata": {},
   "source": [
    "#### 5.2. 이진 탐색 트리에 데이터 넣기\n",
    "* 이진 탐색 트리 조건에 부합하게 데이터를 넣어야 함"
   ]
  },
  {
   "cell_type": "code",
   "execution_count": 2,
   "id": "6fa17f87",
   "metadata": {},
   "outputs": [],
   "source": [
    "class NodeMgmt:\n",
    "    def __init__(self, head):\n",
    "        self.head = head\n",
    "        \n",
    "    def insert(self, value):\n",
    "        self.current_node = self.head\n",
    "        while True:\n",
    "            if value < self.current_node.value:\n",
    "                if self.current_node.left != None:\n",
    "                    self.current_node = self.current_node.left\n",
    "                else:\n",
    "                    self.current_node.left = Node(value)\n",
    "                    break\n",
    "            else:\n",
    "                if self.current_node.right != None:\n",
    "                    self.current_node = self.current_node.right\n",
    "                else:\n",
    "                    self.current_node.right = Node(value)\n",
    "                    break"
   ]
  },
  {
   "cell_type": "code",
   "execution_count": 3,
   "id": "f77d0f9d",
   "metadata": {},
   "outputs": [],
   "source": [
    "head = Node(1)       # 노드 생성 후, head 라는 변수에 저장\n",
    "BST = NodeMgmt(head) # head 를 루트 노드로 설정한 이진 탐색 트리 생성 후, BST 라는 변수에 저장\n",
    "BST.insert(2)        # BST 에 값(2) 추가"
   ]
  },
  {
   "cell_type": "markdown",
   "id": "26578b62",
   "metadata": {
    "collapsed": true
   },
   "source": [
    "#### 5.3. 이진 탐색 트리 탐색"
   ]
  },
  {
   "cell_type": "code",
   "execution_count": 4,
   "id": "8e45af53",
   "metadata": {},
   "outputs": [],
   "source": [
    "class Node:\n",
    "    def __init__(self, value):\n",
    "        self.value = value\n",
    "        self.left = None\n",
    "        self.right = None\n",
    "        \n",
    "class NodeMgmt:\n",
    "    def __init__(self, head):\n",
    "        self.head = head\n",
    "    \n",
    "    def insert(self, value):\n",
    "        self.current_node = self.head\n",
    "        while True:\n",
    "            if value < self.current_node.value:\n",
    "                if self.current_node.left != None:\n",
    "                    self.current_node = self.current_node.left\n",
    "                else:\n",
    "                    self.current_node.left = Node(value)\n",
    "                    break\n",
    "            else:\n",
    "                if self.current_node.right != None:\n",
    "                    self.current_node = self.current_node.right\n",
    "                else:\n",
    "                    self.current_node.right = Node(value)\n",
    "                    break\n",
    "                    \n",
    "    def search(self, value):\n",
    "        self.current_node = self.head\n",
    "        while self.current_node:\n",
    "            if self.current_node.value == value:\n",
    "                return True\n",
    "            else:\n",
    "                if value < self.current_node.value:\n",
    "                    self.current_node = self.current_node.left\n",
    "                else:\n",
    "                    self.current_node = self.current_node.right\n",
    "        return False"
   ]
  },
  {
   "cell_type": "code",
   "execution_count": 5,
   "id": "d37eaa91",
   "metadata": {
    "scrolled": true
   },
   "outputs": [],
   "source": [
    "# 이진탐색트리 생성\n",
    "head = Node(1)\n",
    "BST = NodeMgmt(head)"
   ]
  },
  {
   "cell_type": "code",
   "execution_count": 6,
   "id": "ee3da0d3",
   "metadata": {},
   "outputs": [],
   "source": [
    "# 노드 추가\n",
    "BST.insert(2)\n",
    "BST.insert(3)\n",
    "BST.insert(0)\n",
    "BST.insert(4)\n",
    "BST.insert(8)"
   ]
  },
  {
   "cell_type": "code",
   "execution_count": 7,
   "id": "cbd564da",
   "metadata": {
    "scrolled": true
   },
   "outputs": [
    {
     "name": "stdout",
     "output_type": "stream",
     "text": [
      "True\n",
      "True\n",
      "False\n"
     ]
    }
   ],
   "source": [
    "# 노드 탐색\n",
    "print(BST.search(2))\n",
    "print(BST.search(8))\n",
    "print(BST.search(-1))"
   ]
  },
  {
   "cell_type": "markdown",
   "id": "b177e064",
   "metadata": {},
   "source": [
    "### 5.5. 이진 탐색 트리 삭제 코드 구현과 분석"
   ]
  },
  {
   "cell_type": "markdown",
   "id": "9d7c85ed",
   "metadata": {},
   "source": [
    "#### 5.5.1 삭제할 Node 탐색\n",
    "- 삭제할 Node가 없는 경우도 처리해야 함\n",
    "  - 이를 위해 삭제할 Node가 없는 경우는 False를 리턴하고, 함수를 종료 시킴"
   ]
  },
  {
   "cell_type": "code",
   "execution_count": null,
   "id": "de70c1ae",
   "metadata": {},
   "outputs": [],
   "source": [
    "# def delete(self, value):\n",
    "    searched = False\n",
    "    self.current_node = self.head\n",
    "    self.parent = self.head\n",
    "    while self.current_node:\n",
    "        if self.current_node.value == value:\n",
    "            searched = True\n",
    "            break\n",
    "        elif value < self.current_node.value:\n",
    "            self.parent = self.current_node\n",
    "            self.current_node = self.current_node.left\n",
    "        else:\n",
    "            self.parent = self.current_node\n",
    "            self.current_node = self.current_node.right\n",
    "    if searched == False:\n",
    "        return False\n",
    "    \n",
    "    ### 이후부터 Case들을 분리해서, 코드 작성    "
   ]
  },
  {
   "cell_type": "markdown",
   "id": "f225f94d",
   "metadata": {},
   "source": [
    "#### 5.5.2. Case1: 삭제할 Node가 Leaf Node인 경우\n",
    "<img src=\"http://www.fun-coding.org/00_Images/tree_remove_leaf_code.png\" width=\"600\" />"
   ]
  },
  {
   "cell_type": "code",
   "execution_count": null,
   "id": "0dddd5a9",
   "metadata": {},
   "outputs": [],
   "source": [
    "# self.current_node 는 삭제할 노드, self.parent 는 삭제할 노드의 부모 노드인 상태\n",
    "    if self.current_node.left == None and self.current_node.right == None:\n",
    "        if value < self.parent.value :\n",
    "            self.parent.left = None\n",
    "        else:\n",
    "            self.parent.right = None\n",
    "        del self.current_node"
   ]
  },
  {
   "cell_type": "markdown",
   "id": "c80eaff0",
   "metadata": {},
   "source": [
    "#### 5.5.2. Case2: 삭제할 Node가 Child Node를 한 개 가지고 있을 경우\n",
    "<img src=\"http://www.fun-coding.org/00_Images/tree_remove_1child_code.png\" width=\"400\" />"
   ]
  },
  {
   "cell_type": "code",
   "execution_count": null,
   "id": "6131d0f7",
   "metadata": {},
   "outputs": [],
   "source": [
    "    if self.current_node.left != None and self.current_node.right == None:\n",
    "        if value < self.parent.value:\n",
    "            self.parent.left = self.current_node.left\n",
    "        else:\n",
    "            self.parent.right = self.current_node.left\n",
    "    elif self.current_node.left == None and self.current_node.right != None:\n",
    "        if value < self.parent.value:\n",
    "            self.parent.left = self.current_node.right\n",
    "        else:\n",
    "            self.parent.right = self.current_node.right"
   ]
  },
  {
   "cell_type": "markdown",
   "id": "b1481264",
   "metadata": {},
   "source": [
    "#### 5.5.3. Case3-1: 삭제할 Node가 Child Node를 두 개 가지고 있을 경우 (삭제할 Node가 Parent Node 왼쪽에 있을 때)\n",
    "* 기본 사용 가능 전략\n",
    "  1. **삭제할 Node의 오른쪽 자식 중, 가장 작은 값을 삭제할 Node의 Parent Node가 가리키도록 한다.**\n",
    "  2. 삭제할 Node의 왼쪽 자식 중, 가장 큰 값을 삭제할 Node의 Parent Node가 가리키도록 한다.\n",
    "* 기본 사용 가능 전략 중, 1번 전략을 사용하여 코드를 구현하기로 함\n",
    "  - 경우의 수가 또다시 두가지가 있음\n",
    "    - **Case3-1-1:** 삭제할 Node가 Parent Node의 왼쪽에 있고, 삭제할 Node의 오른쪽 자식 중, 가장 작은 값을 가진 Node의 Child Node가 없을 때\n",
    "    - **Case3-1-2:** 삭제할 Node가 Parent Node의 왼쪽에 있고, 삭제할 Node의 오른쪽 자식 중, 가장 작은 값을 가진 Node의 오른쪽에 Child Node가 있을 때\n",
    "       - 가장 작은 값을 가진 Node의 Child Node가 왼쪽에 있을 경우는 없음, 왜냐하면 왼쪽 Node가 있다는 것은 해당 Node보다 더 작은 값을 가진 Node가 있다는 뜻이 되기 때문임\n",
    "\n",
    "\n",
    "<img src=\"http://www.fun-coding.org/00_Images/tree_remove_2child_code_left.png\" width=\"600\" />"
   ]
  },
  {
   "cell_type": "code",
   "execution_count": null,
   "id": "abba1e0f",
   "metadata": {},
   "outputs": [],
   "source": [
    "    if self.current_node.left != None and self.current_node.rightt != None:  # case 3\n",
    "        if value < self.parent.value: # case 3-1\n",
    "            self.change_node = self.current_node.right\n",
    "            self.change_node_parent = self.current_node.right\n",
    "            while self.change_node.left != None:\n",
    "                self.change_node_parent = self.change_node\n",
    "                self.change_node = self.change_node.left\n",
    "            if self.change_node.right != None: # case 3-1-2\n",
    "                self.change_node_parent.left = self.change_node.right\n",
    "            else:                              # case 3-1-1\n",
    "                self.change_node_parent.left = None\n",
    "            self.parent.left = self.change_node\n",
    "            self.change_node.left = self.current_node.left\n",
    "            self.change_node.right = self.current_node.right"
   ]
  },
  {
   "cell_type": "markdown",
   "id": "3e763952",
   "metadata": {},
   "source": [
    "#### 5.5.4. Case3-2: 삭제할 Node가 Child Node를 두 개 가지고 있을 경우 (삭제할 Node가 Parent Node 오른쪽에 있을 때)\n",
    "* 기본 사용 가능 전략\n",
    "  1. **삭제할 Node의 오른쪽 자식 중, 가장 작은 값을 삭제할 Node의 Parent Node가 가리키도록 한다.**\n",
    "  2. 삭제할 Node의 왼쪽 자식 중, 가장 큰 값을 삭제할 Node의 Parent Node가 가리키도록 한다.\n",
    "* 기본 사용 가능 전략 중, 1번 전략을 사용하여 코드를 구현하기로 함\n",
    "  - 경우의 수가 또다시 두가지가 있음\n",
    "    - **Case3-2-1:** 삭제할 Node가 Parent Node의 오른쪽에 있고, 삭제할 Node의 오른쪽 자식 중, 가장 작은 값을 가진 Node의 Child Node가 없을 때\n",
    "    - **Case3-2-2:** 삭제할 Node가 Parent Node의 오른쪽에 있고, 삭제할 Node의 오른쪽 자식 중, 가장 작은 값을 가진 Node의 오른쪽에 Child Node가 있을 때\n",
    "       - 가장 작은 값을 가진 Node의 Child Node가 왼쪽에 있을 경우는 없음, 왜냐하면 왼쪽 Node가 있다는 것은 해당 Node보다 더 작은 값을 가진 Node가 있다는 뜻이 되기 때문임\n",
    "\n",
    "\n",
    "<img src=\"http://www.fun-coding.org/00_Images/tree_remove_2child_code_right.png\" width=\"600\" />"
   ]
  },
  {
   "cell_type": "code",
   "execution_count": null,
   "id": "5d90b9f9",
   "metadata": {},
   "outputs": [],
   "source": [
    "        else: # case 3-2\n",
    "            self.change_node = self.current_node.right\n",
    "            self.change_node_parent = self.current_node.right\n",
    "            while self.change_node.left != None:\n",
    "                self.change_node_parent = self.change_node\n",
    "                self.change_node = self.change_node.left\n",
    "            if self.change_node.right != None: # case 3-2-2\n",
    "                self.change_node_parent.left = self.change_node.right\n",
    "            else:                              # case 3-2-1\n",
    "                self.change_node_parent.left = None\n",
    "            self.parent.right = self.change_node\n",
    "            self.change_node.left = self.current_node.left\n",
    "            self.change_node.right = self.current_node.right"
   ]
  },
  {
   "cell_type": "markdown",
   "id": "6dbaa3f2",
   "metadata": {},
   "source": [
    "#### 5.5.5. 파이썬 전체 코드 구현"
   ]
  },
  {
   "cell_type": "code",
   "execution_count": 71,
   "id": "a0e5db7b",
   "metadata": {},
   "outputs": [],
   "source": [
    "# 노드 생성 Class\n",
    "class Node:\n",
    "    def __init__(self, value):\n",
    "        self.value = value\n",
    "        self.left = None\n",
    "        self.right = None\n",
    "        \n",
    "# 노드 관리 Class\n",
    "class NodeMgmt:\n",
    "    def __init__(self, head):\n",
    "        self.head = head\n",
    "    \n",
    "    \n",
    "    # 노드 추가 Method\n",
    "    def insert(self, value):\n",
    "        self.current_node = self.head\n",
    "        while True:\n",
    "            if value < self.current_node.value:\n",
    "                if self.current_node.left != None:\n",
    "                    self.current_node = self.current_node.left\n",
    "                else:\n",
    "                    self.current_node.left = Node(value)\n",
    "                    break\n",
    "            else:\n",
    "                if self.current_node.right != None:\n",
    "                    self.current_node = self.current_node.right\n",
    "                else:\n",
    "                    self.current_node.right = Node(value)\n",
    "                    break\n",
    "    \n",
    "    \n",
    "    # 노드 검색 Method\n",
    "    def search(self, value):\n",
    "        self.current_node = self.head\n",
    "        while self.current_node:\n",
    "            if self.current_node.value == value:\n",
    "                return True\n",
    "                break\n",
    "            else:\n",
    "                if value < self.current_node.value:\n",
    "                    self.current_node = self.current_node.left\n",
    "                else:\n",
    "                    self.current_node = self.current_node.right\n",
    "        return False\n",
    "\n",
    "    \n",
    "    # 노드 삭제 Method\n",
    "    def delete(self, value):\n",
    "        \n",
    "        # 삭제할 노드가 있는지 확인 (있으면 searched = True, 없으면 searched = False)\n",
    "        searched = False\n",
    "        self.current_node = self.head\n",
    "        self.parent = self.head\n",
    "        while self.current_node:\n",
    "            if self.current_node.value == value:\n",
    "                searched = True\n",
    "                break\n",
    "            else:\n",
    "                if value < self.current_node.value:\n",
    "                    self.parent = self.current_node\n",
    "                    self.current_node = self.current_node.left\n",
    "                else:\n",
    "                    self.parent = self.current_node\n",
    "                    self.current_node = self.current_node.right                    \n",
    "        if searched == False:\n",
    "            return False\n",
    "        \n",
    "        # case 1 : 삭제할 노드가 Child Node를 0개 가질 경우 (= 삭제할 노드가 Leaf Node 일 경우)\n",
    "        if self.current_node.left == None and self.current_node.right == None:\n",
    "            # 1-1. 삭제할 노드가 Parent 노드의 왼쪽에 있을 때\n",
    "            if value < self.parent.value:    \n",
    "                self.parent.left = None\n",
    "            # 1-2. 삭제할 노드가 Parent 노드의 오른쪽에 있을 때\n",
    "            else:                            \n",
    "                self.parent.right = None\n",
    "            del self.current_node\n",
    "        \n",
    "        # case 2 : 삭제할 노드가 Child Node를 1개 가질 경우\n",
    "        # 2-1. 삭제할 노드의 Child Node가 왼쪽에 있을 때\n",
    "        elif self.current_node.left != None and self.current_node.right == None:\n",
    "            # 2-1-1. 삭제할 노드가 Parent 노드의 왼쪽에 있을 때\n",
    "            if value < self.parent.value:\n",
    "                self.parent.left = self.current_node.left\n",
    "            # 2-1-2. 삭제할 노드가 Parent 노드의 왼쪽에 있을 때\n",
    "            else:\n",
    "                self.parent.right = self.current_node.left\n",
    "            del self.current_node\n",
    "        # 2-2. 삭제할 노드의 Child Node가 오른쪽에 있을 때\n",
    "        elif self.current_node.left == None and self.current_node.right != None:\n",
    "            # 2-2-1. 삭제할 노드가 Parent 노드의 왼쪽에 있을 때\n",
    "            if value < self.parent.value:\n",
    "                self.parent.left = self.current_node.right\n",
    "            # 2-2-2. 삭제할 노드가 Parent 노드의 왼쪽에 있을 때\n",
    "            else:\n",
    "                self.parent.right = self.current_node.right\n",
    "            del self.current_node\n",
    "            \n",
    "        # case 3 : 삭제할 노드가 Child Node를 2개 가질 경우\n",
    "        elif self.current_node.left != None and self.current_node.right != None:\n",
    "            # 3-1. 삭제할 노드가 Parent 노드의 왼쪽에 있을 때\n",
    "            if value < self.parent.value:\n",
    "                self.change_node = self.current_node.right\n",
    "                self.change_node_parent = self.current_node.right\n",
    "                while self.change_node.left:\n",
    "                    self.change_node_parent = self.change_node\n",
    "                    self.change_node = self.change_node.left\n",
    "                # 3-1-1. 삭제할 노드를 대체할 노드(change_node)의 Child Node가 (오른쪽에) 있을 때\n",
    "                if self.change_node.right != None:\n",
    "                    self.change_node_parent.left = self.change_node.right\n",
    "                # 3-1-2. 삭제할 노드를 대체할 노드(change_node)의 Child Node가 없을 때\n",
    "                else:\n",
    "                    self.change_node_parent.left = None\n",
    "                self.parent.left = self.change_node\n",
    "                self.change_node.left = self.current_node.left\n",
    "                self.change_node.right = self.current_node.right\n",
    "            # 3-2. 삭제할 노드가 Parent 노드의 오른쪽에 있을 때\n",
    "            else:\n",
    "                self.change_node = self.current_node.right\n",
    "                self.change_node_parent = self.current_node.right\n",
    "                while self.change_node.left:\n",
    "                    self.change_node_parent = self.change_node\n",
    "                    self.change_node = self.change_node.left\n",
    "                # 3-2-1. 삭제할 노드를 대체할 노드(change_node)의 Child Node가 (오른쪽에) 있을 때\n",
    "                if self.change_node.right != None:\n",
    "                    self.change_node_parent.left = self.change_node.right\n",
    "                # 3-2-2. 삭제할 노드를 대체할 노드(change_node)의 Child Node가 없을 때\n",
    "                else:\n",
    "                    self.change_node_parent.left = None\n",
    "                self.parent.right = self.change_node\n",
    "                self.change_node.left = self.current_node.left\n",
    "                self.change_node.right = self.current_node.right\n",
    "            del self.current_node\n",
    "            \n",
    "        return True\n",
    "    \n",
    "    # 노드의 왼쪽/오른쪽 반환 Methd (테스트를 위해서 내가 추가함)\n",
    "    def read_left(self, value):\n",
    "        self.current_node = self.head\n",
    "        while self.current_node:\n",
    "            if self.current_node.value == value:\n",
    "                if self.current_node.left == None:\n",
    "                    return None\n",
    "                else:\n",
    "                    return self.current_node.left.value\n",
    "                break\n",
    "            elif value < self.current_node.value:\n",
    "                self.current_node = self.current_node.left\n",
    "            else:\n",
    "                self.current_node = self.current_node.right\n",
    "        return False\n",
    "    \n",
    "    def read_right(self, value):\n",
    "        self.current_node = self.head\n",
    "        while self.current_node:\n",
    "            if self.current_node.value == value:\n",
    "                if self.current_node.right == None:\n",
    "                    return None\n",
    "                else:\n",
    "                    return self.current_node.right.value\n",
    "                break\n",
    "            elif value < self.current_node.value:\n",
    "                self.current_node = self.current_node.left\n",
    "            else:\n",
    "                self.current_node = self.current_node.right\n",
    "        return False"
   ]
  },
  {
   "cell_type": "code",
   "execution_count": 72,
   "id": "d71de8a6",
   "metadata": {
    "scrolled": false
   },
   "outputs": [],
   "source": [
    "# 테스트 (case 1)\n",
    "\n",
    "head = Node(10)\n",
    "bst1 = NodeMgmt(head)\n",
    "\n",
    "bst1.insert(5)\n",
    "bst1.insert(15)\n",
    "bst1.insert(3)\n",
    "bst1.insert(6)\n",
    "bst1.insert(12)\n",
    "bst1.insert(19)"
   ]
  },
  {
   "cell_type": "code",
   "execution_count": 73,
   "id": "6dc0b9a0",
   "metadata": {},
   "outputs": [
    {
     "name": "stdout",
     "output_type": "stream",
     "text": [
      "True\n",
      "12\n",
      "False\n",
      "None\n"
     ]
    }
   ],
   "source": [
    "# 1-1. 삭제할 노드가 Parent 노드의 왼쪽에 있을 때 : 12\n",
    "print(bst1.search(12))\n",
    "print(bst1.read_left(15))\n",
    "bst1.delete(12)\n",
    "print(bst1.search(12))\n",
    "print(bst1.read_left(15))"
   ]
  },
  {
   "cell_type": "code",
   "execution_count": 74,
   "id": "a8ecd629",
   "metadata": {},
   "outputs": [
    {
     "name": "stdout",
     "output_type": "stream",
     "text": [
      "True\n",
      "19\n",
      "False\n",
      "None\n"
     ]
    }
   ],
   "source": [
    "# 1-2. 삭제할 노드가 Parent 노드의 오른쪽에 있을 때 : 19\n",
    "print(bst1.search(19))\n",
    "print(bst1.read_right(15))\n",
    "bst1.delete(19)\n",
    "print(bst1.search(19))\n",
    "print(bst1.read_right(15))"
   ]
  },
  {
   "cell_type": "markdown",
   "id": "66f81512",
   "metadata": {},
   "source": [
    "<img src=\"http://www.fun-coding.org/00_Images/tree_remove_leaf_code.png\" width=\"600\" />"
   ]
  },
  {
   "cell_type": "code",
   "execution_count": 75,
   "id": "58170c49",
   "metadata": {},
   "outputs": [
    {
     "name": "stdout",
     "output_type": "stream",
     "text": [
      "True\n",
      "5\n",
      "False\n",
      "3\n"
     ]
    }
   ],
   "source": [
    "# 테스트 (case 2)\n",
    "# 2-1. 삭제할 노드의 Child Node가 왼쪽에 있을 때\n",
    "# 2-1-1. 삭제할 노드가 Parent 노드의 왼쪽에 있을 때 : 5\n",
    "\n",
    "head = Node(10)\n",
    "bst2 = NodeMgmt(head)\n",
    "\n",
    "bst2.insert(5)\n",
    "bst2.insert(15)\n",
    "bst2.insert(3)\n",
    "bst2.insert(12)\n",
    "\n",
    "print(bst2.search(5))\n",
    "print(bst2.read_left(10))\n",
    "\n",
    "bst2.delete(5)\n",
    "\n",
    "print(bst2.search(5))\n",
    "print(bst2.read_left(10))"
   ]
  },
  {
   "cell_type": "code",
   "execution_count": 76,
   "id": "595406ac",
   "metadata": {},
   "outputs": [
    {
     "name": "stdout",
     "output_type": "stream",
     "text": [
      "True\n",
      "15\n",
      "False\n",
      "12\n"
     ]
    }
   ],
   "source": [
    "# 2-1-2. 삭제할 노드가 Parent 노드의 오른쪽에 있을 때 : 15\n",
    "\n",
    "head = Node(10)\n",
    "bst2 = NodeMgmt(head)\n",
    "\n",
    "bst2.insert(5)\n",
    "bst2.insert(15)\n",
    "bst2.insert(3)\n",
    "bst2.insert(12)\n",
    "\n",
    "print(bst2.search(15))\n",
    "print(bst2.read_right(10))\n",
    "\n",
    "bst2.delete(15)\n",
    "\n",
    "print(bst2.search(15))\n",
    "print(bst2.read_right(10))"
   ]
  },
  {
   "cell_type": "code",
   "execution_count": 77,
   "id": "6e021747",
   "metadata": {},
   "outputs": [
    {
     "name": "stdout",
     "output_type": "stream",
     "text": [
      "True\n",
      "5\n",
      "False\n",
      "6\n"
     ]
    }
   ],
   "source": [
    "# 2-2. 삭제할 노드의 Child Node가 오른쪽에 있을 때\n",
    "# 2-2-1. 삭제할 노드가 Parent 노드의 왼쪽에 있을 때 : 5\n",
    "\n",
    "head = Node(10)\n",
    "bst2 = NodeMgmt(head)\n",
    "\n",
    "bst2.insert(5)\n",
    "bst2.insert(15)\n",
    "bst2.insert(6)\n",
    "bst2.insert(19)\n",
    "\n",
    "print(bst2.search(5))\n",
    "print(bst2.read_left(10))\n",
    "\n",
    "bst2.delete(5)\n",
    "\n",
    "print(bst2.search(5))\n",
    "print(bst2.read_left(10))"
   ]
  },
  {
   "cell_type": "code",
   "execution_count": 78,
   "id": "fd50053d",
   "metadata": {},
   "outputs": [
    {
     "name": "stdout",
     "output_type": "stream",
     "text": [
      "True\n",
      "15\n",
      "False\n",
      "19\n"
     ]
    }
   ],
   "source": [
    "# 2-2-2. 삭제할 노드가 Parent 노드의 오른쪽에 있을 때 : 15\n",
    "\n",
    "head = Node(10)\n",
    "bst2 = NodeMgmt(head)\n",
    "\n",
    "bst2.insert(5)\n",
    "bst2.insert(15)\n",
    "bst2.insert(6)\n",
    "bst2.insert(19)\n",
    "\n",
    "print(bst2.search(15))\n",
    "print(bst2.read_right(10))\n",
    "\n",
    "bst2.delete(15)\n",
    "\n",
    "print(bst2.search(15))\n",
    "print(bst2.read_right(10))"
   ]
  },
  {
   "cell_type": "markdown",
   "id": "98e6a271",
   "metadata": {},
   "source": [
    "<img src=\"http://www.fun-coding.org/00_Images/tree_remove_1child_code.png\" width=\"400\" />"
   ]
  },
  {
   "cell_type": "code",
   "execution_count": 79,
   "id": "77548c6a",
   "metadata": {},
   "outputs": [
    {
     "name": "stdout",
     "output_type": "stream",
     "text": [
      "True\n",
      "15\n",
      "False\n",
      "16\n"
     ]
    }
   ],
   "source": [
    "# 테스트 (case 3)\n",
    "# 3-1. 삭제할 노드가 Parent 노드의 왼쪽에 있을 때\n",
    "# 3-1-1. 삭제할 노드를 대체할 노드(change_node)의 Child Node가 (오른쪽에) 있을 때 : 15\n",
    "\n",
    "head = Node(31)\n",
    "bst3 = NodeMgmt(head)\n",
    "\n",
    "bst3.insert(15)\n",
    "bst3.insert(41)\n",
    "bst3.insert(13)\n",
    "bst3.insert(18)\n",
    "bst3.insert(40)\n",
    "bst3.insert(51)\n",
    "bst3.insert(11)\n",
    "bst3.insert(14)\n",
    "bst3.insert(16)\n",
    "bst3.insert(19)\n",
    "bst3.insert(17)\n",
    "\n",
    "print(bst3.search(15))\n",
    "print(bst3.read_left(31))\n",
    "\n",
    "bst3.delete(15)\n",
    "\n",
    "print(bst3.search(15))\n",
    "print(bst3.read_left(31))"
   ]
  },
  {
   "cell_type": "code",
   "execution_count": 80,
   "id": "ec1c1ae2",
   "metadata": {},
   "outputs": [
    {
     "name": "stdout",
     "output_type": "stream",
     "text": [
      "True\n",
      "15\n",
      "False\n",
      "16\n"
     ]
    }
   ],
   "source": [
    "# 3-1-2. 삭제할 노드를 대체할 노드(change_node)의 Child Node가 없을 때 : 15\n",
    "\n",
    "head = Node(31)\n",
    "bst3 = NodeMgmt(head)\n",
    "\n",
    "bst3.insert(15)\n",
    "bst3.insert(41)\n",
    "bst3.insert(13)\n",
    "bst3.insert(18)\n",
    "bst3.insert(40)\n",
    "bst3.insert(51)\n",
    "bst3.insert(11)\n",
    "bst3.insert(14)\n",
    "bst3.insert(16)\n",
    "bst3.insert(19)\n",
    "\n",
    "print(bst3.search(15))\n",
    "print(bst3.read_left(31))\n",
    "\n",
    "bst3.delete(15)\n",
    "\n",
    "print(bst3.search(15))\n",
    "print(bst3.read_left(31))"
   ]
  },
  {
   "cell_type": "markdown",
   "id": "74119d2d",
   "metadata": {},
   "source": [
    "<img src=\"http://www.fun-coding.org/00_Images/tree_remove_2child_code_left.png\" width=\"600\" />"
   ]
  },
  {
   "cell_type": "code",
   "execution_count": 81,
   "id": "90607a4f",
   "metadata": {},
   "outputs": [
    {
     "name": "stdout",
     "output_type": "stream",
     "text": [
      "True\n",
      "15\n",
      "False\n",
      "16\n"
     ]
    }
   ],
   "source": [
    "# 3-2. 삭제할 노드가 Parent 노드의 오른쪽에 있을 때\n",
    "# 3-2-1. 삭제할 노드를 대체할 노드(change_node)의 Child Node가 (오른쪽에) 있을 때 : 15\n",
    "\n",
    "head = Node(10)\n",
    "bst3 = NodeMgmt(head)\n",
    "\n",
    "bst3.insert(7)\n",
    "bst3.insert(15)\n",
    "bst3.insert(6)\n",
    "bst3.insert(8)\n",
    "bst3.insert(13)\n",
    "bst3.insert(18)\n",
    "bst3.insert(11)\n",
    "bst3.insert(14)\n",
    "bst3.insert(16)\n",
    "bst3.insert(19)\n",
    "bst3.insert(17)\n",
    "\n",
    "print(bst3.search(15))\n",
    "print(bst3.read_right(10))\n",
    "\n",
    "bst3.delete(15)\n",
    "\n",
    "print(bst3.search(15))\n",
    "print(bst3.read_right(10))"
   ]
  },
  {
   "cell_type": "code",
   "execution_count": 82,
   "id": "f2546fc0",
   "metadata": {
    "scrolled": true
   },
   "outputs": [
    {
     "name": "stdout",
     "output_type": "stream",
     "text": [
      "True\n",
      "15\n",
      "False\n",
      "16\n"
     ]
    }
   ],
   "source": [
    "# 3-2-2. 삭제할 노드를 대체할 노드(change_node)의 Child Node가 없을 때 : 15\n",
    "\n",
    "head = Node(10)\n",
    "bst3 = NodeMgmt(head)\n",
    "\n",
    "bst3.insert(7)\n",
    "bst3.insert(15)\n",
    "bst3.insert(6)\n",
    "bst3.insert(8)\n",
    "bst3.insert(13)\n",
    "bst3.insert(18)\n",
    "bst3.insert(11)\n",
    "bst3.insert(14)\n",
    "bst3.insert(16)\n",
    "bst3.insert(19)\n",
    "\n",
    "print(bst3.search(15))\n",
    "print(bst3.read_right(10))\n",
    "\n",
    "bst3.delete(15)\n",
    "\n",
    "print(bst3.search(15))\n",
    "print(bst3.read_right(10))"
   ]
  },
  {
   "cell_type": "markdown",
   "id": "88539b8c",
   "metadata": {},
   "source": [
    "<img src=\"http://www.fun-coding.org/00_Images/tree_remove_2child_code_right.png\" width=\"600\" />"
   ]
  },
  {
   "cell_type": "markdown",
   "id": "0609b224",
   "metadata": {},
   "source": [
    "#### 5.5.6. 파이썬 전체 코드 테스트\n",
    "- random 라이브러리 활용\n",
    "  - random.randint(첫번째 숫자, 마지막 숫자): 첫번째 숫자부터 마지막 숫자 사이에 있는 숫자를 랜덤하게 선택해서 리턴\n",
    "    - 예: random.randint(0, 99): 0에서 99까지 숫자중 특정 숫자를 랜덤하게 선택해서 리턴해줌"
   ]
  },
  {
   "cell_type": "code",
   "execution_count": 16,
   "id": "b606381b",
   "metadata": {},
   "outputs": [],
   "source": [
    "class Node:\n",
    "    def __init__(self, value):\n",
    "        self.value = value\n",
    "        self.left = None\n",
    "        self.right = None\n",
    "        \n",
    "class NodeMgmt:\n",
    "    def __init__(self, head):\n",
    "        self.head = head\n",
    "    \n",
    "    # 노드 추가\n",
    "    def insert(self, value):\n",
    "        self.current_node = self.head\n",
    "        while True:\n",
    "            if value < self.current_node.value:\n",
    "                if self.current_node.left != None:\n",
    "                    self.current_node = self.current_node.left\n",
    "                else:\n",
    "                    self.current_node.left = Node(value)\n",
    "                    break\n",
    "            else:\n",
    "                if self.current_node.right != None:\n",
    "                    self.current_node = self.current_node.right\n",
    "                else:\n",
    "                    self.current_node.right = Node(value)\n",
    "                    break\n",
    "    \n",
    "    # 노드 검색\n",
    "    def search(self, value):\n",
    "        self.current_node = self.head\n",
    "        while self.current_node:\n",
    "            if value == self.current_node.value:\n",
    "                return True\n",
    "            elif value < self.current_node.value:\n",
    "                self.current_node = self.current_node.left\n",
    "            else:\n",
    "                self.current_node = self.current_node.right\n",
    "        return False\n",
    "    \n",
    "    # 노드 삭제\n",
    "    def delete(self, value):\n",
    "        \n",
    "        # 0. 삭제할 노드가 있는지 탐색\n",
    "        searched = False\n",
    "        self.current_node = self.head\n",
    "        self.parent = self.head\n",
    "        while self.current_node:\n",
    "            if value == self.current_node.value:\n",
    "                searched = True\n",
    "                break\n",
    "            elif value < self.current_node.value:\n",
    "                self.parent = self.current_node\n",
    "                self.current_node = self.current_node.left\n",
    "            else:\n",
    "                self.parent = self.current_node\n",
    "                self.current_node = self.current_node.right\n",
    "        if searched == False:\n",
    "            return False\n",
    "        \n",
    "        # [변수] 삭제할 노드 : self.current_node / 삭제할 노드의 부모 노드 : self.parent\n",
    "        \n",
    "        # 1. 삭제할 노드의 Child Node 가 0개일 경우\n",
    "        if self.current_node.left == None and self.current_node.right == None:\n",
    "            if value < self.parent.value:\n",
    "                self.parent.left = None\n",
    "            else:\n",
    "                self.parent.right = None\n",
    "            del self.current_node\n",
    "        \n",
    "        # 2. 삭제할 노드의 Child Node 가 1개일 경우\n",
    "        elif self.current_node.left != None and self.current_node.right == None:\n",
    "            if value < self.parent.value:\n",
    "                self.parent.left = self.current_node.left\n",
    "            else:\n",
    "                self.parent.right = self.current_node.left\n",
    "            del self.current_node\n",
    "        elif self.current_node.left == None and self.current_node.right != None:\n",
    "            if value < self.parent.value:\n",
    "                self.parent.left = self.current_node.right\n",
    "            else:\n",
    "                self.parent.right = self.current_node.right\n",
    "            del self.current_node\n",
    "        \n",
    "        # 삭제전략 : 삭제할 노드의 오른쪽 자식 중에서, 가장 작은 값을, 삭제할 노드의 부모 노드가 가리키게 함\n",
    "        # [변수] 대체할 노드: self.change_node / 대체할 노드의 부모 노드: self.change_node_parent\n",
    "        \n",
    "        # 3. 삭제할 노드의 Child Node 가 2개일 경우\n",
    "        elif self.current_node.left != None and self.current_node.right != None:\n",
    "            self.change_node = self.current_node\n",
    "            self.change_node_parent = self.current_node\n",
    "            while self.change_node.left:\n",
    "                self.change_node_parent = self.change_node\n",
    "                self.change_node = self.change_node.left\n",
    "            if self.change_node.right != None:\n",
    "                self.change_node_parent.left = self.change_node.right\n",
    "            else:\n",
    "                self.change_node_parent.left = None\n",
    "            if value < self.parent.value:\n",
    "                self.parent.left = self.change_node\n",
    "            else:\n",
    "                self.parent.right = self.change_node\n",
    "            self.change_node.left = self.current_node.left\n",
    "            self.change_node.right = self.current_node.right\n",
    "            del self.current_node\n",
    "            \n",
    "        return True"
   ]
  },
  {
   "cell_type": "code",
   "execution_count": 17,
   "id": "f6c01814",
   "metadata": {},
   "outputs": [],
   "source": [
    "# 0 ~ 999 숫자 중에서 임의로 100개를 추출해서, 이진 탐색 트리에 입력, 검색, 삭제해보기\n",
    "\n",
    "# 0 ~ 999 중, 100 개의 숫자 랜덤 선택\n",
    "import random\n",
    "\n",
    "bst_nums = set() # 중복방지를 위해 집합(set) 사용\n",
    "while len(bst_nums) != 100:\n",
    "    bst_nums.add(random.randint(0,999))\n",
    "# print(bst_nums)\n",
    "\n",
    "# 선택된 100개의 숫자를 이진 탐색 트리에 입력, 임의로 루트노드는 500을 넣기로 함\n",
    "head = Node(500)\n",
    "binary_tree = NodeMgmt(head)\n",
    "for nums in bst_nums:\n",
    "    binary_tree.insert(nums)"
   ]
  },
  {
   "cell_type": "code",
   "execution_count": 18,
   "id": "02c58b44",
   "metadata": {},
   "outputs": [],
   "source": [
    "# [Test] 검색 기능 확인 : 입력한 100개의 숫자 검색\n",
    "for num in bst_nums:\n",
    "    if binary_tree.search(num) == False:\n",
    "        print(\"search failed\", num)"
   ]
  },
  {
   "cell_type": "code",
   "execution_count": 19,
   "id": "b71e4236",
   "metadata": {},
   "outputs": [
    {
     "name": "stdout",
     "output_type": "stream",
     "text": [
      "search succeed 995\n",
      "search succeed 684\n",
      "search succeed 142\n",
      "search succeed 815\n",
      "search succeed 944\n",
      "search succeed 16\n",
      "search succeed 696\n",
      "search succeed 62\n",
      "search succeed 314\n",
      "search succeed 478\n"
     ]
    }
   ],
   "source": [
    "# [Test] 삭제 기능 확인 : 임의로 선택한 10개의 숫자를 삭제\n",
    "# 입력한 100개의 숫자 중 10개의 숫자를 랜덤 선택\n",
    "del_nums = set()\n",
    "bst_nums = list(bst_nums)\n",
    "while len(del_nums) != 10:\n",
    "    del_nums.add(bst_nums[random.randint(0,99)])\n",
    "\n",
    "for num in del_nums:\n",
    "    if binary_tree.delete(num) == False:\n",
    "        print(\"delete failed\", num)\n",
    "    else:\n",
    "        print(\"search succeed\", num)"
   ]
  }
 ],
 "metadata": {
  "kernelspec": {
   "display_name": "Python 3 (ipykernel)",
   "language": "python",
   "name": "python3"
  },
  "language_info": {
   "codemirror_mode": {
    "name": "ipython",
    "version": 3
   },
   "file_extension": ".py",
   "mimetype": "text/x-python",
   "name": "python",
   "nbconvert_exporter": "python",
   "pygments_lexer": "ipython3",
   "version": "3.10.9"
  }
 },
 "nbformat": 4,
 "nbformat_minor": 5
}
